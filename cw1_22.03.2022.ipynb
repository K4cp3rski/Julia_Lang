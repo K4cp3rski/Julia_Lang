{
 "cells": [
  {
   "cell_type": "markdown",
   "id": "99509608-8047-43d0-962b-c68c7557f93f",
   "metadata": {},
   "source": [
    "# Programowanie w Julii\n",
    "**Ćwiczenia 1**  \n",
    "*22.03.2022*"
   ]
  },
  {
   "cell_type": "markdown",
   "id": "7f1ff758-411f-48b1-a522-f0e8cf6f8ddf",
   "metadata": {},
   "source": [
    "Przydatne linki:  \n",
    "* https://docs.julialang.org/en/v1/manual/noteworthy-differences/  \n",
    "* https://docs.julialang.org/en/v1/"
   ]
  },
  {
   "cell_type": "code",
   "execution_count": 1,
   "id": "72415a9b-1f90-4756-a473-18e9dee5572c",
   "metadata": {},
   "outputs": [
    {
     "name": "stdout",
     "output_type": "stream",
     "text": [
      "Hello World!\n"
     ]
    }
   ],
   "source": [
    "println(\"Hello World!\")"
   ]
  },
  {
   "cell_type": "code",
   "execution_count": null,
   "id": "8b1b4d03-15d8-4ece-838d-0a7b3b3e3653",
   "metadata": {},
   "outputs": [],
   "source": []
  }
 ],
 "metadata": {
  "kernelspec": {
   "display_name": "Julia 1.7.2",
   "language": "julia",
   "name": "julia-1.7"
  },
  "language_info": {
   "file_extension": ".jl",
   "mimetype": "application/julia",
   "name": "julia",
   "version": "1.7.2"
  }
 },
 "nbformat": 4,
 "nbformat_minor": 5
}

{
 "cells": [
  {
   "cell_type": "markdown",
   "id": "a4ad526a",
   "metadata": {},
   "source": [
    "# Podstawy Julii"
   ]
  },
  {
   "cell_type": "markdown",
   "id": "cbc13568",
   "metadata": {},
   "source": [
    "## Zmienne"
   ]
  },
  {
   "cell_type": "code",
   "execution_count": 1,
   "id": "ee99843d",
   "metadata": {},
   "outputs": [
    {
     "name": "stdout",
     "output_type": "stream",
     "text": [
      "2\n"
     ]
    },
    {
     "data": {
      "text/plain": [
       "\"Hello World!\""
      ]
     },
     "execution_count": 1,
     "metadata": {},
     "output_type": "execute_result"
    }
   ],
   "source": [
    "x = 1\n",
    "x + 1\n",
    "x = 1 + 1\n",
    "println(x)\n",
    "x = \"Hello World!\""
   ]
  },
  {
   "cell_type": "markdown",
   "id": "9c248912",
   "metadata": {},
   "source": [
    "Nazwy zmiennych są wrażliwe na wielkość liter i mogą używać kodowania UTF-8. Muszą zaczynać się od litery, podkreślenia lub znaku Unicode > 00A0.\n",
    "W odpowiednio skonfigurowanym edytorze można wprowadzać znaki przez nazwy podobne jak w LaTeX-u i tabulator (np. \\alpha<TAB>)."
   ]
  },
  {
   "cell_type": "code",
   "execution_count": 2,
   "id": "e1e1cbec",
   "metadata": {},
   "outputs": [
    {
     "data": {
      "text/plain": [
       "0.1"
      ]
     },
     "execution_count": 2,
     "metadata": {},
     "output_type": "execute_result"
    }
   ],
   "source": [
    "α = 0.1"
   ]
  },
  {
   "cell_type": "markdown",
   "id": "8953aac2",
   "metadata": {},
   "source": [
    "### Zadanie\n",
    "\n",
    "Zapisać wzór na masę zredukowaną w Julii korzystając ze znaków Unicode\n",
    "$$\n",
    "\\mu = \\frac{m_1 m_2}{m_1 + m_2}\n",
    "$$"
   ]
  },
  {
   "cell_type": "code",
   "execution_count": 4,
   "id": "b0a044a0",
   "metadata": {},
   "outputs": [
    {
     "data": {
      "text/plain": [
       "0.6666666666666666"
      ]
     },
     "execution_count": 4,
     "metadata": {},
     "output_type": "execute_result"
    }
   ],
   "source": [
    "m₁ = 2\n",
    "m₂ = 1\n",
    "μ = (m₁ * m₂)/(m₁ + m₂)"
   ]
  },
  {
   "cell_type": "markdown",
   "id": "87f4674a",
   "metadata": {},
   "source": [
    "## Liczby"
   ]
  },
  {
   "cell_type": "markdown",
   "id": "06bd2aad",
   "metadata": {},
   "source": [
    "Wbudowane typy liczbowe obejmują liczby całkowite i zmiennoprzecinkowe, o różnej dokładności (Int8-Int128, Float16-Float64). Tworząc zmienną bez deklaracji typu, powierzamy jego identyfikacje automatowi"
   ]
  },
  {
   "cell_type": "code",
   "execution_count": 5,
   "id": "1cba3962",
   "metadata": {},
   "outputs": [
    {
     "data": {
      "text/plain": [
       "Int64"
      ]
     },
     "execution_count": 5,
     "metadata": {},
     "output_type": "execute_result"
    }
   ],
   "source": [
    "x = 1\n",
    "typeof(x)"
   ]
  },
  {
   "cell_type": "code",
   "execution_count": 6,
   "id": "6472ac98",
   "metadata": {},
   "outputs": [
    {
     "data": {
      "text/plain": [
       "Float64"
      ]
     },
     "execution_count": 6,
     "metadata": {},
     "output_type": "execute_result"
    }
   ],
   "source": [
    "x = 1.0\n",
    "typeof(x)"
   ]
  },
  {
   "cell_type": "code",
   "execution_count": 7,
   "id": "b1f3ecf4",
   "metadata": {},
   "outputs": [
    {
     "data": {
      "text/plain": [
       "UInt8"
      ]
     },
     "execution_count": 7,
     "metadata": {},
     "output_type": "execute_result"
    }
   ],
   "source": [
    "x = 0x01\n",
    "typeof(x)"
   ]
  },
  {
   "cell_type": "code",
   "execution_count": 8,
   "id": "b3bbafe7",
   "metadata": {},
   "outputs": [
    {
     "data": {
      "text/plain": [
       "UInt16"
      ]
     },
     "execution_count": 8,
     "metadata": {},
     "output_type": "execute_result"
    }
   ],
   "source": [
    "x = 0x0001\n",
    "typeof(x)"
   ]
  },
  {
   "cell_type": "code",
   "execution_count": 9,
   "id": "f80c6485",
   "metadata": {},
   "outputs": [
    {
     "data": {
      "text/plain": [
       "UInt8"
      ]
     },
     "execution_count": 9,
     "metadata": {},
     "output_type": "execute_result"
    }
   ],
   "source": [
    "x = 0b01\n",
    "typeof(x)"
   ]
  },
  {
   "cell_type": "code",
   "execution_count": 10,
   "id": "ad4925fe",
   "metadata": {},
   "outputs": [
    {
     "data": {
      "text/plain": [
       "UInt8"
      ]
     },
     "execution_count": 10,
     "metadata": {},
     "output_type": "execute_result"
    }
   ],
   "source": [
    "x = 0o010\n",
    "typeof(x)"
   ]
  },
  {
   "cell_type": "markdown",
   "id": "9171a54d",
   "metadata": {},
   "source": [
    "Maksymalną i minimalną liczbę całkowitą danej reprezentacji można uzyskać przez `typemin(T)` i `typemax(T)`. Funkcja `bitstring()` zwraca reprezentację bitową w postaci ciągu znaków"
   ]
  },
  {
   "cell_type": "code",
   "execution_count": 11,
   "id": "27654aab",
   "metadata": {},
   "outputs": [
    {
     "data": {
      "text/plain": [
       "-9223372036854775808"
      ]
     },
     "execution_count": 11,
     "metadata": {},
     "output_type": "execute_result"
    }
   ],
   "source": [
    "typemin(Int64)"
   ]
  },
  {
   "cell_type": "code",
   "execution_count": 12,
   "id": "ff4e69d2",
   "metadata": {},
   "outputs": [
    {
     "data": {
      "text/plain": [
       "\"0111111111111111111111111111111111111111111111111111111111111111\""
      ]
     },
     "execution_count": 12,
     "metadata": {},
     "output_type": "execute_result"
    }
   ],
   "source": [
    "bitstring(typemax(Int64))"
   ]
  },
  {
   "cell_type": "markdown",
   "id": "e4bb0e3d",
   "metadata": {},
   "source": [
    "Liczby zmiennoprzecinkowe są 64 (domyślnie) lub 32 bitowe"
   ]
  },
  {
   "cell_type": "code",
   "execution_count": 13,
   "id": "eb71744e",
   "metadata": {},
   "outputs": [
    {
     "data": {
      "text/plain": [
       "Float64"
      ]
     },
     "execution_count": 13,
     "metadata": {},
     "output_type": "execute_result"
    }
   ],
   "source": [
    "x = 1.0\n",
    "typeof(x)"
   ]
  },
  {
   "cell_type": "code",
   "execution_count": 14,
   "id": "d5bf07b9",
   "metadata": {},
   "outputs": [
    {
     "data": {
      "text/plain": [
       "Float64"
      ]
     },
     "execution_count": 14,
     "metadata": {},
     "output_type": "execute_result"
    }
   ],
   "source": [
    "x = 1.0e-5\n",
    "typeof(x)"
   ]
  },
  {
   "cell_type": "code",
   "execution_count": 15,
   "id": "2d8d0b11",
   "metadata": {},
   "outputs": [
    {
     "data": {
      "text/plain": [
       "Float32"
      ]
     },
     "execution_count": 15,
     "metadata": {},
     "output_type": "execute_result"
    }
   ],
   "source": [
    "x = 1.0f-5\n",
    "typeof(x)"
   ]
  },
  {
   "cell_type": "markdown",
   "id": "1f498e8d",
   "metadata": {},
   "source": [
    "### Zadanie\n",
    "Sprawdzić działanie funkcji `eps()`, `nextfloat()`, `prevfloat()` i reprezentacji bitowej uzyskanych wyników"
   ]
  },
  {
   "cell_type": "code",
   "execution_count": 21,
   "id": "2f1c1a0c",
   "metadata": {},
   "outputs": [
    {
     "data": {
      "text/plain": [
       "\"0100001100001100011010111111010100100110001101000000000000000000\""
      ]
     },
     "execution_count": 21,
     "metadata": {},
     "output_type": "execute_result"
    }
   ],
   "source": [
    "bitstring(1.0e15)"
   ]
  },
  {
   "cell_type": "code",
   "execution_count": 20,
   "id": "0c79cf29",
   "metadata": {},
   "outputs": [
    {
     "data": {
      "text/plain": [
       "\"0100001100001100011010111111010100100110001101000000000000000001\""
      ]
     },
     "execution_count": 20,
     "metadata": {},
     "output_type": "execute_result"
    }
   ],
   "source": [
    "bitstring(nextfloat(1.0e15))"
   ]
  },
  {
   "cell_type": "markdown",
   "id": "d35cb2fc",
   "metadata": {},
   "source": [
    "## Operatory matematyczne\n",
    "* x + y\n",
    "* x - y\n",
    "* x * y\n",
    "* x / y\n",
    "* x ÷ y (\\div<TAB>, lub div(x, y)\n",
    "* x % y    \n",
    "* x^y\n",
    "* oraz odpowiednie +=, -=, *=, ..."
   ]
  },
  {
   "cell_type": "markdown",
   "id": "94ff13ff",
   "metadata": {},
   "source": [
    "### Zadanie 3\n",
    "Sprawdzić działanie operatorów na zmiennych typu Int i Float, oraz typ otrzymanego wyniku"
   ]
  },
  {
   "cell_type": "code",
   "execution_count": null,
   "id": "f1aa2721",
   "metadata": {},
   "outputs": [],
   "source": []
  },
  {
   "cell_type": "markdown",
   "id": "0d979515",
   "metadata": {},
   "source": [
    "## Operatory logiczne\n",
    "* !x\n",
    "* x || y (lub) - y jest sprawdzane tylko jeżeli x jest fałszywe\n",
    "* x && y (i) - y jest sprawdzane tylko jeżeli x jest prawdziwe"
   ]
  },
  {
   "cell_type": "code",
   "execution_count": 39,
   "id": "15050f90",
   "metadata": {},
   "outputs": [
    {
     "data": {
      "text/plain": [
       "1.4142135623730951"
      ]
     },
     "execution_count": 39,
     "metadata": {},
     "output_type": "execute_result"
    }
   ],
   "source": [
    "x = 2\n",
    "x >= 0 && sqrt(x)"
   ]
  },
  {
   "cell_type": "markdown",
   "id": "83e495e4",
   "metadata": {},
   "source": [
    "## Operatory bitowe\n",
    "* ~x (negacja)\n",
    "* x & y (i)\n",
    "* x | y (lub)\n",
    "* x ⊻ y (albo = xor(x, y))\n",
    "* x >>> y (przesunięcie logiczne - nie zachowuje bitu znaku)\n",
    "* x >> y (przesunięcie arytmetyczne - zachowuje bit znaku)\n"
   ]
  },
  {
   "cell_type": "markdown",
   "id": "beb91824",
   "metadata": {},
   "source": [
    "### Zadanie 4\n",
    "Sprawdzić działanie przesunięc w prawo dla x = Int8(-64)"
   ]
  },
  {
   "cell_type": "code",
   "execution_count": 47,
   "id": "7e704462",
   "metadata": {},
   "outputs": [
    {
     "name": "stdout",
     "output_type": "stream",
     "text": [
      "11000000 ⟹ -64\n",
      "11100000 ⟹ -32\n",
      "01100000 ⟹ 96\n"
     ]
    }
   ],
   "source": [
    "x = Int8(-64)\n",
    "println(bitstring(x), \" ⟹ \", x)\n",
    "println(bitstring(x >> 1), \" ⟹ \", x >> 1)\n",
    "println(bitstring(x >>> 1), \" ⟹ \", x >>> 1)"
   ]
  },
  {
   "cell_type": "markdown",
   "id": "04a7bdce",
   "metadata": {},
   "source": [
    "## Operatory \"z kropką\"\n",
    "Dla każdego operatora binarnego (+, -, ...) jest zdefiniowany operator z kropką (.+, .-, ...), który działa\n",
    "na macierzach powtarzając operację dla każdego elementu.\n",
    "Podobna składnia obowiązuje funkcje (np. sin.(x))\n",
    "Makro `@.` przerabia każdy operator i funkcję na wersję z kropką."
   ]
  },
  {
   "cell_type": "code",
   "execution_count": 48,
   "id": "88119fa9",
   "metadata": {},
   "outputs": [
    {
     "name": "stdout",
     "output_type": "stream",
     "text": [
      "[1, 4, 9]\n",
      "[0.8414709848078965, 0.9092974268256817, 0.1411200080598672]\n"
     ]
    }
   ],
   "source": [
    "x = [1, 2, 3]\n",
    "println(x .^ 2)\n",
    "println(sin.(x))"
   ]
  },
  {
   "cell_type": "code",
   "execution_count": 49,
   "id": "5449e926",
   "metadata": {},
   "outputs": [
    {
     "data": {
      "text/plain": [
       "3-element Vector{Float64}:\n",
       " 1.9599670876848665\n",
       " 2.430904651940442\n",
       " 2.6722874112003496"
      ]
     },
     "execution_count": 49,
     "metadata": {},
     "output_type": "execute_result"
    }
   ],
   "source": [
    "@. sqrt(sin(x) + 2x + 1)"
   ]
  },
  {
   "cell_type": "markdown",
   "id": "1c615a72",
   "metadata": {},
   "source": [
    "## Porównania liczb\n",
    "Liczby i zmienne można porównywać typowymi operatorami (==, !=, >=, <=). Operatory można łączyć w łańcuchy (jak w Pythonie), np.\n",
    "0 <= x < 1\n"
   ]
  },
  {
   "cell_type": "code",
   "execution_count": 50,
   "id": "ea214cea",
   "metadata": {},
   "outputs": [
    {
     "data": {
      "text/plain": [
       "true"
      ]
     },
     "execution_count": 50,
     "metadata": {},
     "output_type": "execute_result"
    }
   ],
   "source": [
    "x = 0.5\n",
    "0 <= x < 1"
   ]
  },
  {
   "cell_type": "markdown",
   "id": "de33a38c",
   "metadata": {},
   "source": [
    "Operatory porównują wyrażenia zgodnie ze standardem IEEE754 - w szczególnych przypadkach (NaN, Inf) prowadzi to do zaskakujących wyników"
   ]
  },
  {
   "cell_type": "code",
   "execution_count": 51,
   "id": "e83fff67",
   "metadata": {},
   "outputs": [
    {
     "name": "stdout",
     "output_type": "stream",
     "text": [
      "false\n",
      "false\n",
      "false\n",
      "true\n",
      "false\n",
      "false\n",
      "true\n",
      "1000000000000000000000000000000000000000000000000000000000000000\n",
      "0000000000000000000000000000000000000000000000000000000000000000\n"
     ]
    }
   ],
   "source": [
    "println(NaN == NaN)\n",
    "println(NaN < NaN)\n",
    "println(NaN > NaN)\n",
    "println(Inf == Inf)\n",
    "println(Inf > Inf)\n",
    "println(Inf > NaN)\n",
    "println(-0.0 == 0.0)\n",
    "println(bitstring(-0.0))\n",
    "println(bitstring(0.0))"
   ]
  },
  {
   "cell_type": "markdown",
   "id": "998b14be",
   "metadata": {},
   "source": [
    "W pewnych sytuacjach mogą pomóc specjalne funkcje isequal(), isfinite(), isnan(), isinf()"
   ]
  },
  {
   "cell_type": "code",
   "execution_count": 61,
   "id": "048c8e32",
   "metadata": {},
   "outputs": [
    {
     "name": "stdout",
     "output_type": "stream",
     "text": [
      "true\n",
      "false\n"
     ]
    }
   ],
   "source": [
    "println(isequal(NaN, NaN))\n",
    "println(isequal(-0.0, 0.0))"
   ]
  },
  {
   "cell_type": "markdown",
   "id": "250ace4c",
   "metadata": {},
   "source": [
    "Kolejność operatorów\n",
    "* ^\n",
    "* √\n",
    "* << >> >>>\n",
    "* * / %\n",
    "* + - | & ⊻\n",
    "* : .. (składnia: range, )\n",
    "* |> (pipe)\n",
    "* <|\n",
    "* < > == >= != ...\n",
    "* && || ?\n",
    "* => (para)\n",
    "* = += -= *= ...\n",
    "* \n"
   ]
  },
  {
   "cell_type": "markdown",
   "id": "b574a376",
   "metadata": {},
   "source": [
    "### Zadanie 5\n",
    "Sprawdzić następujące wyrażenia \n",
    "* 1 == 3 & 1 == 1\n",
    "* 1:2 .+ 3"
   ]
  },
  {
   "cell_type": "code",
   "execution_count": 70,
   "id": "3e9b0cff",
   "metadata": {},
   "outputs": [
    {
     "data": {
      "text/plain": [
       "4:5"
      ]
     },
     "execution_count": 70,
     "metadata": {},
     "output_type": "execute_result"
    }
   ],
   "source": [
    "# Poprawnie\n",
    "(1 == 3) & (1 == 1)\n",
    "(1:2) .+ 3"
   ]
  },
  {
   "cell_type": "markdown",
   "id": "dd694529",
   "metadata": {},
   "source": [
    "## Rzutowanie typów\n",
    "* T(x) (gdzie T to typ np. Float64, Int64, ...)\n",
    "* convert(T, x)\n",
    "* round(x)\n",
    "* round(T, x)\n",
    "* round(T, x, digits=n)\n",
    "* ceil/floor/trunc (x), (T, x)\n",
    "\n",
    "### Zadanie 6\n",
    "Sprawdzić działanie powyższych funkcji dla różnych konwersji (Int - Float)\n"
   ]
  },
  {
   "cell_type": "code",
   "execution_count": null,
   "id": "f128cce7",
   "metadata": {},
   "outputs": [],
   "source": []
  },
  {
   "cell_type": "markdown",
   "id": "32d1e100",
   "metadata": {},
   "source": [
    "## Funkcje matematyczne\n",
    "* div\n",
    "* fld\n",
    "* cld\n",
    "* mod\n",
    "* abs\n",
    "* abs2\n",
    "* sign\n",
    "* sqrt\n",
    "* cbrt\n",
    "* exp\n",
    "* log\n",
    "* log10\n",
    "* log(b, x)\n",
    "* sin\n",
    "* cos\n",
    "* tan\n",
    "* asin\n",
    "* acos\n",
    "* atan\n",
    "* isone\n",
    "* iszero\n",
    "\n",
    "stałe\n",
    "* pi, \\pi<TAB>\n",
    "* \\euler<TAB>"
   ]
  },
  {
   "cell_type": "code",
   "execution_count": null,
   "id": "88b34779",
   "metadata": {},
   "outputs": [],
   "source": []
  },
  {
   "cell_type": "markdown",
   "id": "2bbfc0cb",
   "metadata": {},
   "source": [
    "## Ciągi znaków"
   ]
  },
  {
   "cell_type": "markdown",
   "id": "6a481402",
   "metadata": {},
   "source": [
    "Typ `Char` reprezentuje pojedynczy znak (32-bitowa zmienna). Znak powinien być objęty cudzysłowem `'`. Wartości z tablic Unicode można wpisać korzystając z `\\u` (liczba hex 4 cyfry) lub `\\U` (liczba hex 8 cyfr)"
   ]
  },
  {
   "cell_type": "code",
   "execution_count": 88,
   "id": "987b544f",
   "metadata": {},
   "outputs": [
    {
     "name": "stdout",
     "output_type": "stream",
     "text": [
      "Char\n",
      "120\n",
      "x\n",
      "∀\n"
     ]
    }
   ],
   "source": [
    "c = 'x'\n",
    "println(typeof(c))\n",
    "println(Int64(c))\n",
    "println(Char(120))\n",
    "println('\\u2200')"
   ]
  },
  {
   "cell_type": "markdown",
   "id": "cc701273",
   "metadata": {},
   "source": [
    "Ciągi znaków (`String`) są definiowane przez cudzysłów `\"`, lub trzy cudzysłowy `\"\"\"`. Mogą zawierać znaki Unicode (co powoduje pewne problemy pokazane poniżej. Ze względu na różną liczbę bitów kodującą znaki, indeks ostatniego znaku nie koniecznie jest długością ciągu. Indeksowanie elementów (tak jak i w innych strukturach) zaczyna się od `1`."
   ]
  },
  {
   "cell_type": "code",
   "execution_count": 89,
   "id": "4a52fc0b",
   "metadata": {},
   "outputs": [
    {
     "name": "stdout",
     "output_type": "stream",
     "text": [
      "Hello world!\n",
      "\n",
      "H ! Hel\n",
      "α² + β² = Ϟ²\n",
      "[1, 2, 3, 4, 5, 6, 7, 8, 9, 10, 11, 12, 13]\n",
      "[1, 3, 5, 6, 7, 8, 10, 12, 13, 14, 15, 17]\n"
     ]
    }
   ],
   "source": [
    "s = \"Hello world!\\n\"\n",
    "println(s)\n",
    "println(s[1], \" \", s[end-1], \" \", s[1:3])\n",
    "s2 = \"α² + β² = \\u03DE²\"\n",
    "println(s2)\n",
    "#println(s[1], \" \", s[2])\n",
    "println(collect(eachindex(s)))\n",
    "println(collect(eachindex(s2)))"
   ]
  },
  {
   "cell_type": "markdown",
   "id": "6fc6e01a",
   "metadata": {},
   "source": [
    "Sklejanie ciągów (concatenation) dokonujemy operatorem `*` (matematyczna idea jest taka, że `+` jest operatorem komutującym, a `*` niekoniecznie, sklejanie nie jest komutującą operacją)."
   ]
  },
  {
   "cell_type": "code",
   "execution_count": 90,
   "id": "16675129",
   "metadata": {},
   "outputs": [
    {
     "data": {
      "text/plain": [
       "\"Ala ma kota.\""
      ]
     },
     "execution_count": 90,
     "metadata": {},
     "output_type": "execute_result"
    }
   ],
   "source": [
    "\"Ala \" * \"ma \" * \"kota.\""
   ]
  },
  {
   "cell_type": "markdown",
   "id": "b85065e0",
   "metadata": {},
   "source": [
    "Interpolacja to wstawianie zmiennych lub wyrażeń do ciągu znaków w miejscu oznaczonym znakiem `$` (jak w bashu). W związku z tym ten znak traktowany dosłownie musi być wstawiany jako `\\$`."
   ]
  },
  {
   "cell_type": "code",
   "execution_count": 91,
   "id": "53d92601",
   "metadata": {},
   "outputs": [
    {
     "ename": "LoadError",
     "evalue": "syntax: invalid interpolation syntax: \"$\"\"",
     "output_type": "error",
     "traceback": [
      "syntax: invalid interpolation syntax: \"$\"\"",
      "",
      "Stacktrace:",
      " [1] top-level scope",
      "   @ In[91]:1",
      " [2] eval",
      "   @ ./boot.jl:373 [inlined]",
      " [3] include_string(mapexpr::typeof(REPL.softscope), mod::Module, code::String, filename::String)",
      "   @ Base ./loading.jl:1196"
     ]
    }
   ],
   "source": [
    "println(\"$\")"
   ]
  },
  {
   "cell_type": "code",
   "execution_count": 92,
   "id": "a30965ab",
   "metadata": {},
   "outputs": [
    {
     "data": {
      "text/plain": [
       "\"2 + 2 = 4\""
      ]
     },
     "execution_count": 92,
     "metadata": {},
     "output_type": "execute_result"
    }
   ],
   "source": [
    "s = \"2 + 2 = $(2 + 2)\""
   ]
  },
  {
   "cell_type": "code",
   "execution_count": 93,
   "id": "659a9daf",
   "metadata": {},
   "outputs": [
    {
     "name": "stdout",
     "output_type": "stream",
     "text": [
      "π ≈ 3.14159\n"
     ]
    }
   ],
   "source": [
    "x = 3.14159\n",
    "println(\"π ≈ $x\")"
   ]
  },
  {
   "cell_type": "code",
   "execution_count": 94,
   "id": "88366516",
   "metadata": {},
   "outputs": [
    {
     "name": "stdout",
     "output_type": "stream",
     "text": [
      "v = [1, 2, 3]\n"
     ]
    }
   ],
   "source": [
    "v = [1, 2, 3]\n",
    "println(\"v = $v\")"
   ]
  },
  {
   "cell_type": "code",
   "execution_count": 95,
   "id": "ba4baf88",
   "metadata": {},
   "outputs": [
    {
     "name": "stdout",
     "output_type": "stream",
     "text": [
      "Jesteś mi winny $100.0\n"
     ]
    }
   ],
   "source": [
    "howmuch = 100.0\n",
    "println(\"Jesteś mi winny \\$$howmuch\")"
   ]
  },
  {
   "cell_type": "markdown",
   "id": "ddca08c4",
   "metadata": {},
   "source": [
    "## Instrukcje kontrolne"
   ]
  },
  {
   "cell_type": "markdown",
   "id": "de04bfc0",
   "metadata": {},
   "source": [
    "### if elseif else"
   ]
  },
  {
   "cell_type": "code",
   "execution_count": null,
   "id": "865e0990",
   "metadata": {},
   "outputs": [],
   "source": [
    "x = 0\n",
    "if x > 0\n",
    "    println(\">0\")\n",
    "elseif x < 0\n",
    "    println(\"<0\")\n",
    "else\n",
    "    println(\"=0\")\n",
    "end"
   ]
  },
  {
   "cell_type": "markdown",
   "id": "93fa1a70",
   "metadata": {},
   "source": [
    "Instrukcja `if` musi mieć podaną zmienną typu Bool, w odróżnieniu od C, Pythona i wielu innych języków nie można użyć jej w następujący sposób "
   ]
  },
  {
   "cell_type": "code",
   "execution_count": null,
   "id": "1610256d",
   "metadata": {},
   "outputs": [],
   "source": [
    "if 1\n",
    "    println(\"TAK\")\n",
    "end"
   ]
  },
  {
   "cell_type": "markdown",
   "id": "d95ba57a",
   "metadata": {},
   "source": [
    "### Pętla while"
   ]
  },
  {
   "cell_type": "code",
   "execution_count": null,
   "id": "635dba89",
   "metadata": {},
   "outputs": [],
   "source": [
    "x = 1\n",
    "while x <=5 \n",
    "    println(x)\n",
    "    x += 1\n",
    "end"
   ]
  },
  {
   "cell_type": "markdown",
   "id": "70944f70",
   "metadata": {},
   "source": [
    "W pętlach działają typowe polecenia `continue` i `break`"
   ]
  },
  {
   "cell_type": "markdown",
   "id": "601fe5f6",
   "metadata": {},
   "source": [
    "### Pętla for"
   ]
  },
  {
   "cell_type": "markdown",
   "id": "4f0b379a",
   "metadata": {},
   "source": [
    "Pętla for zasadniczo iteruje po jakiejś kolekcji (macierzy, łańcuchu, zakresie, zbiorze,...). Zamiast słowa `in` można użyć `\\in<TAB>` lub `=`."
   ]
  },
  {
   "cell_type": "code",
   "execution_count": null,
   "id": "d242ce5b",
   "metadata": {},
   "outputs": [],
   "source": [
    "for i in 1:5\n",
    "    println(i)\n",
    "end"
   ]
  },
  {
   "cell_type": "markdown",
   "id": "f10ce516",
   "metadata": {},
   "source": [
    "Składnia `1:5` daje tzw. zakres (range), specjalny typ zdefiniowany przez 3 liczby: początek, krok i koniec. W odróżnieniu od np. Pythona koniec jest zawarty."
   ]
  },
  {
   "cell_type": "code",
   "execution_count": null,
   "id": "6a70cd19",
   "metadata": {},
   "outputs": [],
   "source": [
    "typeof(1:5)"
   ]
  },
  {
   "cell_type": "markdown",
   "id": "4533b05c",
   "metadata": {},
   "source": [
    "Krok jest definiowany przez środkową liczbę."
   ]
  },
  {
   "cell_type": "code",
   "execution_count": null,
   "id": "38c66c71",
   "metadata": {},
   "outputs": [],
   "source": [
    "for i in 1:0.1:2\n",
    "    println(i)\n",
    "end\n",
    "typeof(1:0.1:2)"
   ]
  },
  {
   "cell_type": "markdown",
   "id": "0a9761ef",
   "metadata": {},
   "source": [
    "Zamiast tej składni można użyć funkcji `range(start, stop; length, step)` podająć dwie z start, stop, length lub trzy wielkości ze wszystkich (pozostałe zostaną wyliczone automatycznie)."
   ]
  },
  {
   "cell_type": "code",
   "execution_count": null,
   "id": "2481f402",
   "metadata": {},
   "outputs": [],
   "source": [
    "for i in range(stop=0, step=0.2, length=5)\n",
    "    println(i)\n",
    "end"
   ]
  },
  {
   "cell_type": "code",
   "execution_count": null,
   "id": "fc718ae8",
   "metadata": {},
   "outputs": [],
   "source": [
    "for i in [3, 5, 8]\n",
    "    println(i)\n",
    "end\n",
    "\n",
    "for i ∈ \"ABC\"\n",
    "    println(i)\n",
    "end"
   ]
  },
  {
   "cell_type": "markdown",
   "id": "aa7663ce",
   "metadata": {},
   "source": [
    "Ciekawostką jest skrócony zapis zagnieżdżonych pętli"
   ]
  },
  {
   "cell_type": "code",
   "execution_count": null,
   "id": "dbadb8e0",
   "metadata": {},
   "outputs": [],
   "source": [
    "for i in 1:3, j in i:3\n",
    "    println(i, \" \", j)\n",
    "end"
   ]
  },
  {
   "cell_type": "markdown",
   "id": "2078c511",
   "metadata": {},
   "source": [
    "Podobnie jak w Pythonie istnieje też funkcja `zip` sklejącą kolekcje"
   ]
  },
  {
   "cell_type": "code",
   "execution_count": null,
   "id": "a7a5c307",
   "metadata": {},
   "outputs": [],
   "source": [
    "for (i, j) in zip(1:3, 4:7)\n",
    "    println(i, \" \", j)\n",
    "end"
   ]
  },
  {
   "cell_type": "markdown",
   "id": "686135ee",
   "metadata": {},
   "source": [
    "### try-catch\n",
    "\n",
    "Również podobnie jak w innych językach działa pętla try-catch obsługująca wyjątki. Po złapaniu wyjątku można go obsłużyć sprawdziając jego typ funkcją `isa()`. W przypadku konieczności wyrzucenia wyjątku posługujemy się funkcją `throw()`, np. `throw(DomainError(x, \"x musi być większy od zera\"))`."
   ]
  },
  {
   "cell_type": "code",
   "execution_count": null,
   "id": "d6da56a8",
   "metadata": {},
   "outputs": [],
   "source": [
    "s = begin\n",
    "    x = 2\n",
    "    #x = -2 + 0im\n",
    "    try\n",
    "        sqrt(x[2])\n",
    "    catch err\n",
    "        if isa(err, DomainError)\n",
    "            sqrt(complex(x[2], 0))\n",
    "        elseif isa(err, BoundsError)\n",
    "            sqrt(x)\n",
    "        end\n",
    "    end\n",
    "end\n",
    "println(s)"
   ]
  },
  {
   "cell_type": "markdown",
   "id": "89fcf235",
   "metadata": {},
   "source": [
    "## Typy\n",
    "Julia posiada system typów dynamiczny. Każdy typ należy do drzewa typów. Zmienne nie muszą mieć deklarowanych typów (wtedy zostanie im nadany automatycznie), ale mogą, jeżeli jest to potrzebne do wydajności, czytelności lub użycia \"multiple dispatch\"."
   ]
  },
  {
   "cell_type": "markdown",
   "id": "fdc85f66",
   "metadata": {},
   "source": [
    "Typy występują w trzech odmianach:\n",
    "* abstrakcyjne (definują strukturę drzewa typów)\n",
    "* typy konkretne (nie ma sensu dodawać nowych)\n",
    "* unie typów (abstrakcyjne)\n",
    "* typy złożone (struktury)\n",
    "* typy parametryczne (odpowiednik templatów)"
   ]
  },
  {
   "attachments": {
    "vWAiB.png": {
     "image/png": "[encoded data removed]"
    }
   },
   "cell_type": "markdown",
   "id": "4bc602e5",
   "metadata": {},
   "source": [
    "![vWAiB.png](attachment:vWAiB.png)"
   ]
  },
  {
   "cell_type": "markdown",
   "id": "3e9a591a",
   "metadata": {},
   "source": [
    "Operator `<:` (jest podtypem) może być używany do tworzenia nowego typu, albo zwraca prawdę/fałsz w wyrażeniach testujących hierachię typów"
   ]
  },
  {
   "cell_type": "code",
   "execution_count": null,
   "id": "a8eb7cbe",
   "metadata": {},
   "outputs": [],
   "source": [
    "println(Int64 <: Real)\n",
    "println(Float64 <: Signed)"
   ]
  },
  {
   "cell_type": "markdown",
   "id": "2bc67e75",
   "metadata": {},
   "source": [
    "### Unia\n",
    "Unia typów to abstrakcyjny typ zawierający wszystkie wymienione typy\n",
    "`Union{Int64, Float64}`. Przy analizie wydajności zwykle oznacza to niestabilność typową funkcji, co daje wolniejszy kod."
   ]
  },
  {
   "cell_type": "markdown",
   "id": "049924ee",
   "metadata": {},
   "source": [
    "### Typy złożone\n",
    "Typy złożone to struktury lub obiekty składające się z nazwanych pól. \n",
    "W odróżnieniu od języków obiektowych struktury w Julii nie zawierają funkcji, które aby korzystać z mechanizmów\n",
    "multiple dispatch żyją na zewnątrz struktur.\n",
    "\n",
    "Nowy obiekt jest tworzony po wywołaniu struktury pod postacią funkcji (konstruktor). Dostęp do pól jest przez notację z kropką (`A.a`)."
   ]
  },
  {
   "cell_type": "code",
   "execution_count": null,
   "id": "8e24855f",
   "metadata": {},
   "outputs": [],
   "source": [
    "struct Point\n",
    "    x::Float64\n",
    "    y::Float64\n",
    "    name::String\n",
    "end\n",
    "\n",
    "p0 = Point(0.0, 0.0, \"origin\")\n",
    "println(p0, \" \", typeof(p0))\n",
    "println(p0.x)"
   ]
  },
  {
   "cell_type": "markdown",
   "id": "4b9a5d9e",
   "metadata": {},
   "source": [
    "Tak zadeklarowane obiekty są niezmienne. Dzięki temu mogą być kopiowane przez kompilator (są nierozróżnialne) i lokowane na stosie (stack). "
   ]
  },
  {
   "cell_type": "code",
   "execution_count": null,
   "id": "a154cae6",
   "metadata": {},
   "outputs": [],
   "source": [
    "p0.x = 1.0"
   ]
  },
  {
   "cell_type": "markdown",
   "id": "0c716ea9",
   "metadata": {},
   "source": [
    "Struktura zmienna jest deklarowana przez `mutable struct`. Ten typ nie może być z góry roztrzygnięty przez kompilator. Jest umieszczany na stercie (heap)."
   ]
  },
  {
   "cell_type": "code",
   "execution_count": null,
   "id": "bf414a49",
   "metadata": {},
   "outputs": [],
   "source": [
    "mutable struct PointM\n",
    "    x::Float64\n",
    "    y::Float64\n",
    "    name\n",
    "end\n",
    "\n",
    "p1 = PointM(0.0, 0.0, \"M\")\n",
    "println(p1, \" \", typeof(p1.name))\n",
    "p1.name = 1.0\n",
    "println(typeof(p1.name))"
   ]
  },
  {
   "cell_type": "markdown",
   "id": "11a63964",
   "metadata": {},
   "source": [
    "### Typy parametryczne\n",
    "Typ parametryczny (zwyczajowo oznaczony jako `T`) jest odpowiednikiem konternerów w C++. Dzięki temu można tworzyć ogólne elastyczne struktury, których konkretne realizacje zależą od końcowego typu."
   ]
  },
  {
   "cell_type": "code",
   "execution_count": null,
   "id": "f9b2dee7",
   "metadata": {},
   "outputs": [],
   "source": [
    "struct PointP{T}\n",
    "    x::T\n",
    "    y::T\n",
    "end\n",
    "\n",
    "p0 = PointP{Int64}(0, 0)\n",
    "p1 = PointP{Float64}(0.0, 0.0)\n",
    "println(typeof(p0))\n",
    "println(typeof(p1))"
   ]
  },
  {
   "cell_type": "markdown",
   "id": "fe75c84d",
   "metadata": {},
   "source": [
    "Zakres i typ `T` można zawęzić poprzez operator `<:`"
   ]
  },
  {
   "cell_type": "code",
   "execution_count": null,
   "id": "2e55798a",
   "metadata": {},
   "outputs": [],
   "source": [
    "struct PointR{T <: Real}\n",
    "    x::T\n",
    "    y::T\n",
    "end\n",
    "\n",
    "p0 = PointR{String}(\"A\", \"B\")"
   ]
  },
  {
   "cell_type": "markdown",
   "id": "79dcfd1b",
   "metadata": {},
   "source": [
    "### Typy abstrakcyjne\n",
    "Służą do definiowania drzewa typów. W poniższym przykładzie abstrakcyjny typ `Curve` ma podtypy `Circle`, `Line`. Z kolei struktura `Region` zawiera macierz obiektów typu `Surface`, a więc mogą być to zarówno linie, jak i okręgi."
   ]
  },
  {
   "cell_type": "code",
   "execution_count": null,
   "id": "5bbdb3b2",
   "metadata": {},
   "outputs": [],
   "source": [
    "abstract type Curve end\n",
    "\n",
    "struct Line <: Curve\n",
    "    x1::Float64\n",
    "    y1::Float64\n",
    "    x2::Float64\n",
    "    y2::Float64\n",
    "end\n",
    "\n",
    "struct Sphere <: Curve\n",
    "    x0::Float64\n",
    "    y0::Float64\n",
    "    R::Float64\n",
    "end\n",
    "\n",
    "struct Region\n",
    "    curves::Array{Curve, 1}\n",
    "    operators::Array{Bool, 1}\n",
    "end\n",
    "\n",
    "l1 = Line(0.0, 0.0, 0.0, 1.0)\n",
    "s1 = Sphere(0.0, 0.0, 1.0)\n",
    "\n",
    "r1 = Region([l1, s1], [true, true])\n",
    "println(r1)"
   ]
  },
  {
   "cell_type": "markdown",
   "id": "0dfe17cf",
   "metadata": {},
   "source": [
    "\n",
    "## Funkcje\n",
    "\n",
    "Funkcje w Julii nie są czysto matematycznymi funkcjami, ponieważ w ogólności mogą modyfikować argumenty. Jeżeli funkcja zachowuje się w ten sposób to oznacza się ją zwyczajowo wykrzyknikiem, np\n",
    "```\n",
    "sort(x)\n",
    "sort!(x)\n",
    "```\n",
    "są dwiema wersjami sortowania, `sort(x)` zwraca nowy wektor, a `sort!(x)` sortuje w miejscu (więc modyfikuje argument).\n",
    "\n",
    "Składnia:\n",
    "\n"
   ]
  },
  {
   "cell_type": "code",
   "execution_count": null,
   "id": "6ba291b6",
   "metadata": {},
   "outputs": [],
   "source": [
    "function f1(x, y)\n",
    "    return 2x + y\n",
    "end\n",
    "\n",
    "Δ(x, y) = abs(x - y)"
   ]
  },
  {
   "cell_type": "markdown",
   "id": "f673b46b",
   "metadata": {},
   "source": [
    "Słowo `return` oznacza oczywiście zwrócenie wartości i wyjście z funkcji w miejscu wywowałnia. Jeżeli go nie użyjemy funkcja zwróci ostatnią wykonaną operację\n",
    "\n",
    "Funkcje są takimi samymi obiekatami jak zmienne, więc również można je np. przekazywać"
   ]
  },
  {
   "cell_type": "code",
   "execution_count": null,
   "id": "4460dde8",
   "metadata": {},
   "outputs": [],
   "source": [
    "function f2(x, y)\n",
    "    2x + y\n",
    "    x\n",
    "end\n",
    "\n",
    "println(f(1, 1))"
   ]
  },
  {
   "cell_type": "markdown",
   "id": "e94f569f",
   "metadata": {},
   "source": [
    "Funkcje są takimi samymi obiekatami jak zmienne, więc również można je np. przekazywać"
   ]
  },
  {
   "cell_type": "code",
   "execution_count": null,
   "id": "f1f73f93",
   "metadata": {},
   "outputs": [],
   "source": [
    "function d(f, x)\n",
    "    return f2(x, x)\n",
    "end\n",
    "\n",
    "k = d\n",
    "println(k(f, 2))\n",
    "println(k(Δ, 2))\n",
    "    "
   ]
  },
  {
   "cell_type": "markdown",
   "id": "4d0074ac",
   "metadata": {},
   "source": [
    "Deklaracja typów nie wpływa na wydajość, ale może służyć rozróżnianiu wersji funkcji"
   ]
  },
  {
   "cell_type": "code",
   "execution_count": null,
   "id": "e2844a69",
   "metadata": {},
   "outputs": [],
   "source": [
    "function f(x::Int64, y::Int64)\n",
    "    return 2(x + y)\n",
    "end\n",
    "\n",
    "function f(x::Float64, y::Float64)\n",
    "    return √2(x + y)\n",
    "end\n",
    "\n",
    "println(f(1, 1))\n",
    "println(f(1.0, 1.0))"
   ]
  },
  {
   "cell_type": "markdown",
   "id": "512782d4",
   "metadata": {},
   "source": [
    "Podobnie można zadeklarować typ zwracanej wartości, ale jest to rzadko używane (lepiej pisać kod stabilny typowo i zostawić roztrzygnięcie kompilatorowi)."
   ]
  },
  {
   "cell_type": "code",
   "execution_count": null,
   "id": "0e6d679e",
   "metadata": {},
   "outputs": [],
   "source": [
    "function fi(x, y)::Int64\n",
    "   x + y\n",
    "end\n",
    "\n",
    "println(fi(1, 1))\n",
    "@code_native fi(1, 1)\n",
    "println(fi(1.0, 1.0), \" \", typeof(fi(1.0, 1.0)))\n",
    "@code_native fi(1.0, 1.0)"
   ]
  },
  {
   "cell_type": "markdown",
   "id": "734cabf6",
   "metadata": {},
   "source": [
    "### Zadanie\n",
    "Na podstawie publikacji C. Lanczosa napisać funkcję wyznaczająca wartość funkcji Gamma."
   ]
  },
  {
   "cell_type": "markdown",
   "id": "d2052cfd",
   "metadata": {},
   "source": [
    "### WIele zwracanych wartości\n",
    "Funkcja może zwracać wiele wartości jednocześnie"
   ]
  },
  {
   "cell_type": "code",
   "execution_count": null,
   "id": "be68cf5f",
   "metadata": {},
   "outputs": [],
   "source": [
    "function m(x, y)\n",
    "    return x + y, x - y\n",
    "end\n",
    "\n",
    "a, b = m(1, 1)\n",
    "println(a, \" \", b)"
   ]
  },
  {
   "cell_type": "markdown",
   "id": "6b974a0f",
   "metadata": {},
   "source": [
    "### Wartości domyślne\n"
   ]
  },
  {
   "cell_type": "code",
   "execution_count": null,
   "id": "86820d32",
   "metadata": {},
   "outputs": [],
   "source": [
    "function p(x, y::Int64=1)\n",
    "    return x^y\n",
    "end\n",
    "\n",
    "println(p(2))\n",
    "println(p(2, 2))"
   ]
  },
  {
   "cell_type": "markdown",
   "id": "4017ed1f",
   "metadata": {},
   "source": [
    "### Slupring (siorbanie)\n"
   ]
  },
  {
   "cell_type": "code",
   "execution_count": null,
   "id": "2e3daa52",
   "metadata": {},
   "outputs": [],
   "source": [
    "function f(a, b, c...)\n",
    "    return a * b .+ c\n",
    "end\n",
    "\n",
    "println(f(1, 2, 3, 4, 5))\n",
    "\n",
    "a, b... = \"hello\"\n",
    "println(a, \" \", b)"
   ]
  },
  {
   "cell_type": "markdown",
   "id": "ac041155",
   "metadata": {},
   "source": [
    "### Funkcje anonimowe\n",
    "Funkcje anonimowe (lambda) to funkcje bez nazwy, typowo przekazywane do innych funkcji. Klasycznym przykładem jest przekazanie funkcji anonimowej do funkcji `map`, która wykonuje ją potem na każdym elemencie kolekcji. Składnia funkcji anomimowej używa strzałki `->` np. \n",
    "\n",
    "`x -> x^2 + 1`"
   ]
  },
  {
   "cell_type": "code",
   "execution_count": null,
   "id": "5aff01e8",
   "metadata": {},
   "outputs": [],
   "source": [
    "println(map(round, [1.43, 1.51, 1.67]))"
   ]
  },
  {
   "cell_type": "markdown",
   "id": "78099225",
   "metadata": {},
   "source": [
    "Takie wywołanie działa jeżeli chcemy użyć istniejącej funkcji. Ale jeżeli chcemy zaokrąglenia z zadaną dokładnością lub zupełnie innej operacji możemy użyć funkcji anonimowej."
   ]
  },
  {
   "cell_type": "code",
   "execution_count": null,
   "id": "4017a637",
   "metadata": {},
   "outputs": [],
   "source": [
    "println(map(x->round(x, digits=1), [1.43, 1.51, 1.67]))\n",
    "println(map(x->sqrt(x + 1), [1.43, 1.51, 1.67]))"
   ]
  },
  {
   "cell_type": "markdown",
   "id": "65ab95c7",
   "metadata": {},
   "source": [
    "Większość operatorów w Julii jest także funkcjami. Np. `+` jest funkcją `+(x, y)`.\n",
    "\n",
    "Każda funkcja może mieć różne wersje, w zależności od typów argumentów. O dostępne metody możemy się zapytać polecieniem `methods`."
   ]
  },
  {
   "cell_type": "code",
   "execution_count": null,
   "id": "85595755",
   "metadata": {},
   "outputs": [],
   "source": [
    "methods(f)"
   ]
  },
  {
   "cell_type": "code",
   "execution_count": null,
   "id": "1ea28a63",
   "metadata": {},
   "outputs": [],
   "source": [
    "methods(+)"
   ]
  },
  {
   "cell_type": "markdown",
   "id": "8d97f843",
   "metadata": {},
   "source": [
    "### Zadanie\n",
    "Do pokazanych wcześniej struktur `Region` napisać funkcję zwracającą prawdę jeżeli przekazany punkt jest wewnątrz regionu i fałsz jeżeli na zewnątrz. Region jest zdefiniowany przez krzywe i operatory (prawda/fałsz), które decydują czy jest on wewnątrz czy na zewnątrz danej krzywej. \n",
    "\n",
    "W przypadku prostej dany punkt jest wewnątrz jeżeli wyznacznik macierzy\n",
    "\n",
    "$\\det\\left|A B\\right|$\n",
    "\n",
    "jest dodatni (zakładamy, że punkt na krzywej nie jest wewnątrz), gdzie $\\vec{A} = \\vec{x_2} - \\vec{x_1}, \\vec{B} = \\vec{x} - \\vec{x_1}$, gdzie $\\vec{x_1}, \\vec{x_2}$ to punkty definujące prostą, $\\vec{x}$ punkt o który pytamy. "
   ]
  },
  {
   "cell_type": "markdown",
   "id": "660a07f4",
   "metadata": {},
   "source": [
    "## Krotki (tuple)\n",
    "Krotki to niezmiennicze kolekcje deklarowane przez nawiasy okrągłe `()`. Krotki nazwane są bardzo podobne, oprócz tego, że argumenty mają przypisane nazwy i można się do nich odnosić przez notację z kropką."
   ]
  },
  {
   "cell_type": "code",
   "execution_count": null,
   "id": "697bb82e",
   "metadata": {},
   "outputs": [],
   "source": [
    "k = (3, 5, 8)\n",
    "println(k[1])\n",
    "k = (a=3, b=5, c=8)\n",
    "println(k[2], \" \", k.b)"
   ]
  },
  {
   "cell_type": "markdown",
   "id": "11c6f57e",
   "metadata": {},
   "source": [
    "## Słowniki\n",
    "\n",
    "Słowniki to standardowa struktra zbudowana na zasadzie par klucz-wartość. Klucze i wartości mogą mieć różne typy. Najprostszym sposobem stworzenia słownika jest wymienienie elementów i powiązanie ich w pary operatorem `=>`."
   ]
  },
  {
   "cell_type": "code",
   "execution_count": null,
   "id": "393ebffd",
   "metadata": {},
   "outputs": [],
   "source": [
    "d = Dict(\"A\" => 1, \"B\" => 2)"
   ]
  },
  {
   "cell_type": "markdown",
   "id": "bbb894ce",
   "metadata": {},
   "source": [
    "Jak widać typ został nadany automatycznie. Możemy go także podać podczas tworzenia bezpośrednio. Poniżej pusty słownik String, Any (czyli przechowujący dowolne elementy)"
   ]
  },
  {
   "cell_type": "code",
   "execution_count": null,
   "id": "653ce56c",
   "metadata": {},
   "outputs": [],
   "source": [
    "d = Dict{String, Any}()\n",
    "d[\"A\"] = 1\n",
    "d[\"B\"] = \"b\"\n",
    "d[\"C\"] = [1, 2, 3]\n",
    "println(d)"
   ]
  },
  {
   "cell_type": "markdown",
   "id": "3aac4a2b",
   "metadata": {},
   "source": [
    "Przypisanie d[\"A\"] tworzy nowy element lub zmienia istniejący. Odwołanie się do nieistenijącego elementu powoduje wyrzucenie błędu. Aby sprawdzić czy dany klucz jest w słowniku można użyć funkcji `haskey`. Funkcja `keys` zwraca wszystkie klucze, `values` - wartości, `pairs` - pary."
   ]
  },
  {
   "cell_type": "code",
   "execution_count": null,
   "id": "3cb742ea",
   "metadata": {},
   "outputs": [],
   "source": [
    "println(haskey(d, \"D\"))\n",
    "for (k, v) in pairs(d)\n",
    "    println(k, \" \", v)\n",
    "end"
   ]
  },
  {
   "cell_type": "markdown",
   "id": "0d14cce7",
   "metadata": {},
   "source": [
    "## Macierze"
   ]
  },
  {
   "cell_type": "markdown",
   "id": "34ca997a",
   "metadata": {},
   "source": [
    "Macierz to kolekcja elementów przechowywana na wielowymiarowej siatce. Bazowym typem dla wszystkich macierzy jest `AbstractArray`. Wszystkie macierze są przekazywane do funkcji przez `dzielenie się` (np. za pomocą wskaźników). Oznacza to, że jeżeli funkcja modyfikuje macierz (kończy się na `!`), a chcemy zachować oryginał, musimy wykonać kopię."
   ]
  },
  {
   "cell_type": "markdown",
   "id": "9b408bf2",
   "metadata": {},
   "source": [
    "## Tworzenie macierzy\n",
    "Macierze są tworzone przez kilka różnych składni\n",
    "1. Bezpośrednie podanie elementów\n"
   ]
  },
  {
   "cell_type": "code",
   "execution_count": null,
   "id": "3ebec177",
   "metadata": {},
   "outputs": [],
   "source": [
    "A = [1, 2, 3]"
   ]
  },
  {
   "cell_type": "code",
   "execution_count": null,
   "id": "b9542a25",
   "metadata": {},
   "outputs": [],
   "source": [
    "A = [1 2 3]"
   ]
  },
  {
   "cell_type": "markdown",
   "id": "fea8c282",
   "metadata": {},
   "source": [
    "Jak widać w Julii istnieje różnica pomiędzy wektorami (macierzami kolumnowymi), a macierzami poziomymi!\n",
    "\n",
    "Wielowymiarowe macierze tworzymy przez użycie nowych linii lub średników (elementy są łączone werykalnie). Podwójny średnik łączy horyzontalnie."
   ]
  },
  {
   "cell_type": "code",
   "execution_count": null,
   "id": "65ada589",
   "metadata": {},
   "outputs": [],
   "source": [
    "A = [1 2 3\n",
    "    4 5 6]"
   ]
  },
  {
   "cell_type": "code",
   "execution_count": null,
   "id": "9c5019f9",
   "metadata": {},
   "outputs": [],
   "source": [
    "A = [1 2 3; 4 5 6]"
   ]
  },
  {
   "cell_type": "code",
   "execution_count": null,
   "id": "c30d16a9",
   "metadata": {},
   "outputs": [],
   "source": [
    "A = [[1, 2] [3, 4] [5, 6]]"
   ]
  },
  {
   "cell_type": "code",
   "execution_count": null,
   "id": "6016557a",
   "metadata": {},
   "outputs": [],
   "source": [
    "A = [[1, 2], [3, 4], [5, 6]]"
   ]
  },
  {
   "cell_type": "markdown",
   "id": "17b3c12b",
   "metadata": {},
   "source": [
    "Możemy również użyć zasięgów"
   ]
  },
  {
   "cell_type": "code",
   "execution_count": null,
   "id": "104a17b6",
   "metadata": {},
   "outputs": [],
   "source": [
    "A = [1:4 9:12]"
   ]
  },
  {
   "cell_type": "code",
   "execution_count": null,
   "id": "1c5e6d2c",
   "metadata": {},
   "outputs": [],
   "source": [
    "A = [1:4, 9:12]"
   ]
  },
  {
   "cell_type": "code",
   "execution_count": null,
   "id": "eaaba395",
   "metadata": {},
   "outputs": [],
   "source": [
    "A = [1:4; 9:12]"
   ]
  },
  {
   "cell_type": "code",
   "execution_count": null,
   "id": "c43daa8a",
   "metadata": {},
   "outputs": [],
   "source": [
    "A = [1:4;; 9:12]"
   ]
  },
  {
   "cell_type": "markdown",
   "id": "6e96b197",
   "metadata": {},
   "source": [
    "2. Typowe macierze można tworzyć specjalnymi funkcjami"
   ]
  },
  {
   "cell_type": "code",
   "execution_count": null,
   "id": "57f61f78",
   "metadata": {},
   "outputs": [],
   "source": [
    "A = zeros(2, 3)"
   ]
  },
  {
   "cell_type": "code",
   "execution_count": null,
   "id": "b575bdc6",
   "metadata": {},
   "outputs": [],
   "source": [
    "A = zeros(Int64, 2, 3)"
   ]
  },
  {
   "cell_type": "code",
   "execution_count": null,
   "id": "ae6ccdb1",
   "metadata": {},
   "outputs": [],
   "source": [
    "A = ones(2, 3)"
   ]
  },
  {
   "cell_type": "code",
   "execution_count": null,
   "id": "53884d05",
   "metadata": {},
   "outputs": [],
   "source": [
    "A = rand(2, 3)"
   ]
  },
  {
   "cell_type": "code",
   "execution_count": null,
   "id": "149ea9d6",
   "metadata": {},
   "outputs": [],
   "source": [
    "A = randn(2, 3)"
   ]
  },
  {
   "cell_type": "markdown",
   "id": "417947a5",
   "metadata": {},
   "source": [
    "3. Podobnie jak np. w Pythonie macierze i inne kolekcje można tworzyć także za pomocą generatorów"
   ]
  },
  {
   "cell_type": "code",
   "execution_count": null,
   "id": "4ffbe03f",
   "metadata": {},
   "outputs": [],
   "source": [
    "A = [i for i in 1:10]"
   ]
  },
  {
   "cell_type": "markdown",
   "id": "ebec2cf1",
   "metadata": {},
   "source": [
    "4. Niezainicjowana macierz"
   ]
  },
  {
   "cell_type": "code",
   "execution_count": null,
   "id": "acf2428e",
   "metadata": {},
   "outputs": [],
   "source": [
    "A = Array{Float64}(undef, 3, 3)"
   ]
  },
  {
   "cell_type": "markdown",
   "id": "ff617c65",
   "metadata": {},
   "source": [
    "5. Pusta macierz"
   ]
  },
  {
   "cell_type": "code",
   "execution_count": null,
   "id": "8a8991a5",
   "metadata": {},
   "outputs": [],
   "source": [
    "A = Array{Float64, 1}()"
   ]
  },
  {
   "cell_type": "code",
   "execution_count": null,
   "id": "d8bc211c",
   "metadata": {},
   "outputs": [],
   "source": [
    "A = Array{Float64}(undef, 0, 0)"
   ]
  },
  {
   "cell_type": "markdown",
   "id": "6f09d69b",
   "metadata": {},
   "source": [
    "### Typowe operacje"
   ]
  },
  {
   "cell_type": "code",
   "execution_count": null,
   "id": "aca01d39",
   "metadata": {},
   "outputs": [],
   "source": [
    "A = [1 2 3; 4 5 6]"
   ]
  },
  {
   "cell_type": "code",
   "execution_count": null,
   "id": "3b6b6117",
   "metadata": {},
   "outputs": [],
   "source": [
    "length(A)"
   ]
  },
  {
   "cell_type": "code",
   "execution_count": null,
   "id": "6b20ebb2",
   "metadata": {},
   "outputs": [],
   "source": [
    "size(A)"
   ]
  },
  {
   "cell_type": "code",
   "execution_count": null,
   "id": "57112e7d",
   "metadata": {},
   "outputs": [],
   "source": [
    "reshape(A, 3, 2)"
   ]
  },
  {
   "cell_type": "code",
   "execution_count": null,
   "id": "8d9a5324",
   "metadata": {},
   "outputs": [],
   "source": [
    "reinterpret(Int32, A)"
   ]
  },
  {
   "cell_type": "code",
   "execution_count": null,
   "id": "4c52b2f0",
   "metadata": {},
   "outputs": [],
   "source": [
    "B = A\n",
    "C = copy(A)"
   ]
  },
  {
   "cell_type": "code",
   "execution_count": null,
   "id": "e267c064",
   "metadata": {},
   "outputs": [],
   "source": [
    "fill!(B, 0)\n",
    "fill!(C, 1)\n",
    "@show A \n",
    "@show B\n",
    "@show C"
   ]
  },
  {
   "cell_type": "code",
   "execution_count": null,
   "id": "d6210521",
   "metadata": {},
   "outputs": [],
   "source": [
    "x = [0, 1, 2]\n",
    "push!(x, 3)"
   ]
  },
  {
   "cell_type": "code",
   "execution_count": null,
   "id": "6ff18df0",
   "metadata": {},
   "outputs": [],
   "source": [
    "append!(x, [4, 5, 6])"
   ]
  },
  {
   "cell_type": "code",
   "execution_count": null,
   "id": "c302098b",
   "metadata": {},
   "outputs": [],
   "source": [
    "prepend!(x, -1)"
   ]
  },
  {
   "cell_type": "markdown",
   "id": "c6d9b745",
   "metadata": {},
   "source": [
    "## Moduły\n",
    "Rozszerzenia (biblioteki) w Julia są w postaci modułów. Dokładniejszą budową modułów zajmiemy się później. W tym miejscu potrzebne nam będą polecenia importujące moduły: `using` i `import`.\n",
    "\n",
    "`using` - ładuje kod modułu oraz jego nazwę i wyeksportowane elementy do globalnej przestrzeni nazw\n",
    "\n",
    "`import` - ładuje kod modułu oraz tylko jego nazwę do globalnej przestrzeni nazw\n",
    "\n",
    "W Pythonie byłby to odpowiednik `from X import *` (using) oraz `import X` (import)."
   ]
  },
  {
   "cell_type": "code",
   "execution_count": null,
   "id": "4680ed5b",
   "metadata": {},
   "outputs": [],
   "source": [
    "import LinearAlgebra\n",
    "\n",
    "A = Matrix{Float64}(LinearAlgebra.I, 2, 2)"
   ]
  },
  {
   "cell_type": "code",
   "execution_count": null,
   "id": "1b8c3583",
   "metadata": {},
   "outputs": [],
   "source": [
    "using LinearAlgebra\n",
    "\n",
    "B = Matrix{Float64}(I, 2, 2)"
   ]
  },
  {
   "cell_type": "markdown",
   "id": "d37182a8",
   "metadata": {},
   "source": [
    "## Pomiar szybkości"
   ]
  },
  {
   "cell_type": "markdown",
   "id": "c4bdd111",
   "metadata": {},
   "source": [
    "Ponieważ wydajność jest jedną z kluczowych założeń Julii, staramy się, aby kod był możliwie szybki. Aby ocenić jego jakość musimy mieć jakieś narzędzia.\n",
    "\n",
    "Najprostszą metodą jest makro `@time`, `@timev` i `@elapsed`"
   ]
  },
  {
   "cell_type": "code",
   "execution_count": null,
   "id": "a702f086",
   "metadata": {},
   "outputs": [],
   "source": [
    "function simplesum(N)\n",
    "    s = 0\n",
    "    for i in 1:N\n",
    "        s +=i \n",
    "    end\n",
    "    s\n",
    "end\n",
    "\n",
    "println(\"simplesum time\")\n",
    "@time simplesum(10000000)\n",
    "println(\"sum time\")\n",
    "@time sum(1:1000000)\n",
    "println(\"simplesum timev\")\n",
    "@timev simplesum(1000000)\n",
    "println(\"sum timev\")\n",
    "@timev sum(1:1000000)\n",
    "println(\"simplesum elapsed\")\n",
    "@elapsed simplesum(1000000)\n",
    "println(\"sum elapsed\")\n",
    "@elapsed sum(1:1000000)"
   ]
  },
  {
   "cell_type": "markdown",
   "id": "02b0692f",
   "metadata": {},
   "source": [
    "Te metody pozwalają ocenić prędkość, ale nie są statystycznie wiarygodne, bo mogą zawierać czas kompilacji, a pojedyncza próba może nie być reprezentacyjna.\n",
    "\n",
    "Moduł BenchmarkTools dostarcza bardziej wiarygodnych narzędzi `@btime` i `@benchmark`, które wskazują także na użycie pamięci."
   ]
  },
  {
   "cell_type": "code",
   "execution_count": null,
   "id": "2745ffdd",
   "metadata": {},
   "outputs": [],
   "source": [
    "using BenchmarkTools\n",
    "\n",
    "@btime simplesum(1000000)\n",
    "@benchmark simplesum(1000000)"
   ]
  },
  {
   "cell_type": "markdown",
   "id": "58e28a2c",
   "metadata": {},
   "source": [
    "Jeszcze bardziej szczegółowych informacji można uzyskać korzystając z profilera (moduł Profile)."
   ]
  },
  {
   "cell_type": "code",
   "execution_count": null,
   "id": "cdfec4e7",
   "metadata": {},
   "outputs": [],
   "source": [
    "using Profile\n",
    "@profile simplesum(1000000)\n",
    "Profile.print()"
   ]
  },
  {
   "cell_type": "code",
   "execution_count": null,
   "id": "9e99e929",
   "metadata": {},
   "outputs": [],
   "source": [
    "@profile sum(1:1000000)\n",
    "Profile.print()"
   ]
  },
  {
   "cell_type": "markdown",
   "id": "7a0830c5",
   "metadata": {},
   "source": [
    "## Przykład\n",
    "Rozważmy następujący problem: chcemy znaleźć indeks najmniejszego elementu w danej tablicy. Jeżeli taki sam wyraz występuje więcej niż jeden raz, chcemy dostać losowy element (z równym prawdopodobieństwem).\n",
    "\n",
    "Julia nie posiada wbudowanej procedury tego typu. Możemy natomiast użyć kilku wbudowanych funkcji (`minimum`, `filter`, `rand` oraz `eachindex`), aby osiągnąc pożądany rezultat."
   ]
  },
  {
   "cell_type": "code",
   "execution_count": null,
   "id": "810a3e61",
   "metadata": {},
   "outputs": [],
   "source": [
    "function randminarg1(a)\n",
    "    m = minimum(a)\n",
    "    rand(filter(i -> a[i] == m, eachindex(a)))\n",
    "end\n",
    "\n",
    "x = [1, 2, 3, 1, 1, 3]\n",
    "randminarg1(x)"
   ]
  },
  {
   "cell_type": "markdown",
   "id": "25dd16d7",
   "metadata": {},
   "source": [
    "Logika jest tu prosta: \n",
    "* szukamy najmniejszego elementu (`minimum`)\n",
    "* dla każdego indeksu (`eachindex` tworzy wydajny iterator chodzący po kolekcjach) sprawdź, czy element jest równy najmniejszemu\n",
    "* zwróć losowy element (`rand`) listy indeksów\n",
    "\n",
    "Sprawdzimy działanie funkcji na większej próbce"
   ]
  },
  {
   "cell_type": "code",
   "execution_count": null,
   "id": "c8903af0",
   "metadata": {},
   "outputs": [],
   "source": [
    "using StatsBase\n",
    "\n",
    "countmap([randminarg1(x) for i in 1:10000])\n"
   ]
  },
  {
   "cell_type": "markdown",
   "id": "bd3e284a",
   "metadata": {},
   "source": [
    "`countmap` z modułu StatsBase zwraca mapę (słownik) unikatowych wyrażeń występujących w kolekcji oraz liczbę ich wystąpień.\n",
    "\n",
    "Algorytm, który tu zastosowaliśmy musi przeglądać tablicę dwa razy. Czy jest to najlepszy sposób? \n",
    "Okazuje się, że można zrobić to w jednym przejściu tablicy:\n",
    "* Jeżeli spotkasz nową najmniejszą wartość to ją zapamiętaj `minval` i jej indeks `imin`\n",
    "* Jeżeli ta wartość została już spotkana `b` razy, to `imin` powinien przechowywać indeks każdej z nich z prawdopodobieństwem $1/b$.\n",
    "* Jeżeli spotkamy nowe miejsce jej występowania to z prawdopodobieństwem $1/(b+1)$ powinniśmy go przechować. Wtedy każdy z poprzednich wyrazów będzie miał prawdopodobieństwo przechowywania:\n",
    "$$\n",
    "   \\frac{1}{b} \\times (1 - \\frac{1}{b + 1}) = \\frac{1}{b}\\frac{b}{b+1} = \\frac{1}{b+1}\n",
    "$$\n",
    "\n",
    "Nasz algorytm, podobnie jak powyższy powienien działać dla dowolnych kolekcji (nie tylko jednowymiarowego wektora). Dlatego użyjemy *iteratora* poruszającego się po kolekcji indeksów.\n",
    "`iterate()` zwraca krotkę zawierającą dwie wartości - kolejny (lub pierwszy) element kolekcji oraz stan (który można podawać do następnych iteracji. Jeżeli kolekcja się skończy, funkcja zwróci `nothing`."
   ]
  },
  {
   "cell_type": "code",
   "execution_count": null,
   "id": "1a27e3c0",
   "metadata": {},
   "outputs": [],
   "source": [
    "function randminarg2(a)\n",
    "    indices = eachindex(a)\n",
    "    y = iterate(indices)\n",
    "    y == nothing && throw(ArgumentError(\"collection must be non-empty\"))\n",
    "    (idx, state) = y\n",
    "    minval = a[idx]\n",
    "    bestidx = idx\n",
    "    bestcount = 1\n",
    "    y = iterate(indices, state)\n",
    "    while y !== nothing\n",
    "        (idx, state) = y\n",
    "        current = a[idx]\n",
    "        if isless(current, minval)\n",
    "            minval = current\n",
    "            bestidx = idx\n",
    "            bestcount = 1\n",
    "        elseif isequal(current, minval)\n",
    "            bestcount += 1\n",
    "            rand() * bestcount < 1 && (bestidx = idx)\n",
    "        end\n",
    "        y = iterate(indices, state)\n",
    "    end\n",
    "    bestidx\n",
    "end\n",
    "\n"
   ]
  },
  {
   "cell_type": "markdown",
   "id": "823c5ffc",
   "metadata": {},
   "source": [
    "Sprawdzamy działanie"
   ]
  },
  {
   "cell_type": "code",
   "execution_count": null,
   "id": "5daa3e40",
   "metadata": {},
   "outputs": [],
   "source": [
    "\n",
    "countmap([randminarg2(x) for i in 1:10000])"
   ]
  },
  {
   "cell_type": "markdown",
   "id": "8cd3a768",
   "metadata": {},
   "source": [
    "Wreszcie przetestujemy wydajność jednego i drugiego podejścia"
   ]
  },
  {
   "cell_type": "code",
   "execution_count": null,
   "id": "abe99d45",
   "metadata": {},
   "outputs": [],
   "source": [
    "using BenchmarkTools\n",
    "\n",
    "x = rand(1:100, 100)\n",
    "@benchmark randminarg1($x)"
   ]
  },
  {
   "cell_type": "code",
   "execution_count": null,
   "id": "23fe5ed1",
   "metadata": {},
   "outputs": [],
   "source": [
    "@benchmark randminarg2($x)"
   ]
  },
  {
   "cell_type": "markdown",
   "id": "74942946",
   "metadata": {},
   "source": [
    "Dla większych rozmiarów tablic randminarg2 jest wolniejsze niż randminarg1! Proszę sprawdzić profilerem dlaczego!"
   ]
  },
  {
   "cell_type": "markdown",
   "id": "d9490cb4",
   "metadata": {},
   "source": [
    "### Zadanie\n",
    "Napisać funkcję sumującą wyrazy dwuwymiarowej macierzy w wersji iterującej najpierw po wierszach i najpierw po kolumnach. Sprawdzić prędkość dla losowych macierzy 10^4x10^4. Zoptymalizować znalezione problemy i porównać czas z wbudowaną funkcją `sum`."
   ]
  },
  {
   "cell_type": "code",
   "execution_count": null,
   "id": "5c83dcf4",
   "metadata": {},
   "outputs": [],
   "source": []
  }
 ],
 "metadata": {
  "kernelspec": {
   "display_name": "Julia 1.7.2",
   "language": "julia",
   "name": "julia-1.7"
  },
  "language_info": {
   "file_extension": ".jl",
   "mimetype": "application/julia",
   "name": "julia",
   "version": "1.7.2"
  }
 },
 "nbformat": 4,
 "nbformat_minor": 5
}

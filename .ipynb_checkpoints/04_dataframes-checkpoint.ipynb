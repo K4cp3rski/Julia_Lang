{
 "cells": [
  {
   "cell_type": "markdown",
   "id": "f6f0949e",
   "metadata": {},
   "source": [
    "# DataFrames\n",
    "\n",
    "DataFrames to biblioteka do pracy z danymi w postaci tabel z podobnymi możliwościami jak Pandas w Pythonie. Jest jedną z najważniejszych bibliotek Julii i łączy się z wielomi innymi bibliotekami o bardziej specyficznych zastosowaniach.\n",
    "\n",
    "Podstawowym obiektem w tej bibliotece jest `DataFrame` - tabela danych, którą można sobie wyobrazić analogicznie jak tabele w arkuszach kalkulacyjnych. Kolumny danych mogą mieć nazwy i zawierać różne typy danych.\n",
    "\n"
   ]
  },
  {
   "cell_type": "markdown",
   "id": "bccadf81",
   "metadata": {},
   "source": [
    "## Tworzenie (wczytywanie) tablicy danych\n",
    "\n",
    "Jest wiele różnych konstruktorów tego obiektu (`methods(DataFrame)` podaje listę 26 metod), które pozwalają na bardzo elastyczne przekazywanie danych z innych struktur takich jak wektory, słowniki, krotki czy macierze."
   ]
  },
  {
   "cell_type": "code",
   "execution_count": 4,
   "id": "25ba9fe9",
   "metadata": {},
   "outputs": [
    {
     "data": {
      "text/html": [
       "<div class=\"data-frame\"><p>10 rows × 2 columns</p><table class=\"data-frame\"><thead><tr><th></th><th>x</th><th>y</th></tr><tr><th></th><th title=\"Float64\">Float64</th><th title=\"Float64\">Float64</th></tr></thead><tbody><tr><th>1</th><td>0.699263</td><td>0.643601</td></tr><tr><th>2</th><td>0.74684</td><td>0.156363</td></tr><tr><th>3</th><td>0.776095</td><td>0.447702</td></tr><tr><th>4</th><td>0.930276</td><td>0.762071</td></tr><tr><th>5</th><td>0.920986</td><td>0.498181</td></tr><tr><th>6</th><td>0.0906745</td><td>0.398614</td></tr><tr><th>7</th><td>0.262483</td><td>0.652103</td></tr><tr><th>8</th><td>0.561283</td><td>0.0149752</td></tr><tr><th>9</th><td>0.29893</td><td>0.582038</td></tr><tr><th>10</th><td>0.670914</td><td>0.251406</td></tr></tbody></table></div>"
      ],
      "text/latex": [
       "\\begin{tabular}{r|cc}\n",
       "\t& x & y\\\\\n",
       "\t\\hline\n",
       "\t& Float64 & Float64\\\\\n",
       "\t\\hline\n",
       "\t1 & 0.699263 & 0.643601 \\\\\n",
       "\t2 & 0.74684 & 0.156363 \\\\\n",
       "\t3 & 0.776095 & 0.447702 \\\\\n",
       "\t4 & 0.930276 & 0.762071 \\\\\n",
       "\t5 & 0.920986 & 0.498181 \\\\\n",
       "\t6 & 0.0906745 & 0.398614 \\\\\n",
       "\t7 & 0.262483 & 0.652103 \\\\\n",
       "\t8 & 0.561283 & 0.0149752 \\\\\n",
       "\t9 & 0.29893 & 0.582038 \\\\\n",
       "\t10 & 0.670914 & 0.251406 \\\\\n",
       "\\end{tabular}\n"
      ],
      "text/plain": [
       "\u001b[1m10×2 DataFrame\u001b[0m\n",
       "\u001b[1m Row \u001b[0m│\u001b[1m x         \u001b[0m\u001b[1m y         \u001b[0m\n",
       "\u001b[1m     \u001b[0m│\u001b[90m Float64   \u001b[0m\u001b[90m Float64   \u001b[0m\n",
       "─────┼──────────────────────\n",
       "   1 │ 0.699263   0.643601\n",
       "   2 │ 0.74684    0.156363\n",
       "   3 │ 0.776095   0.447702\n",
       "   4 │ 0.930276   0.762071\n",
       "   5 │ 0.920986   0.498181\n",
       "   6 │ 0.0906745  0.398614\n",
       "   7 │ 0.262483   0.652103\n",
       "   8 │ 0.561283   0.0149752\n",
       "   9 │ 0.29893    0.582038\n",
       "  10 │ 0.670914   0.251406"
      ]
     },
     "metadata": {},
     "output_type": "display_data"
    }
   ],
   "source": [
    "using DataFrames\n",
    "using Dates\n",
    "\n",
    "x = rand(10)\n",
    "y = rand(10)\n",
    "df = DataFrame(x=x, y=y)"
   ]
  },
  {
   "cell_type": "code",
   "execution_count": 5,
   "id": "6399f9a3",
   "metadata": {},
   "outputs": [
    {
     "data": {
      "text/html": [
       "<div class=\"data-frame\"><p>3 rows × 3 columns</p><table class=\"data-frame\"><thead><tr><th></th><th>name</th><th>birthday</th><th>height</th></tr><tr><th></th><th title=\"String\">String</th><th title=\"Date\">Date</th><th title=\"Float64\">Float64</th></tr></thead><tbody><tr><th>1</th><td>Adam</td><td>2000-05-07</td><td>175.0</td></tr><tr><th>2</th><td>Barbara</td><td>1999-01-22</td><td>171.0</td></tr><tr><th>3</th><td>Celina</td><td>2001-11-29</td><td>169.5</td></tr></tbody></table></div>"
      ],
      "text/latex": [
       "\\begin{tabular}{r|ccc}\n",
       "\t& name & birthday & height\\\\\n",
       "\t\\hline\n",
       "\t& String & Date & Float64\\\\\n",
       "\t\\hline\n",
       "\t1 & Adam & 2000-05-07 & 175.0 \\\\\n",
       "\t2 & Barbara & 1999-01-22 & 171.0 \\\\\n",
       "\t3 & Celina & 2001-11-29 & 169.5 \\\\\n",
       "\\end{tabular}\n"
      ],
      "text/plain": [
       "\u001b[1m3×3 DataFrame\u001b[0m\n",
       "\u001b[1m Row \u001b[0m│\u001b[1m name    \u001b[0m\u001b[1m birthday   \u001b[0m\u001b[1m height  \u001b[0m\n",
       "\u001b[1m     \u001b[0m│\u001b[90m String  \u001b[0m\u001b[90m Date       \u001b[0m\u001b[90m Float64 \u001b[0m\n",
       "─────┼──────────────────────────────\n",
       "   1 │ Adam     2000-05-07    175.0\n",
       "   2 │ Barbara  1999-01-22    171.0\n",
       "   3 │ Celina   2001-11-29    169.5"
      ]
     },
     "metadata": {},
     "output_type": "display_data"
    }
   ],
   "source": [
    "df = DataFrame(name=[\"Adam\", \"Barbara\", \"Celina\"], \n",
    "    birthday=[Date(2000, 05, 07), Date(1999, 01, 22), Date(2001, 11, 29)], height=[175.0, 171.0, 169.5])"
   ]
  },
  {
   "cell_type": "code",
   "execution_count": 6,
   "id": "8d9ce35a",
   "metadata": {},
   "outputs": [
    {
     "data": {
      "text/html": [
       "<div class=\"data-frame\"><p>3 rows × 3 columns</p><table class=\"data-frame\"><thead><tr><th></th><th>birthday</th><th>height</th><th>name</th></tr><tr><th></th><th title=\"Date\">Date</th><th title=\"Float64\">Float64</th><th title=\"String\">String</th></tr></thead><tbody><tr><th>1</th><td>2000-05-07</td><td>175.0</td><td>Adam</td></tr><tr><th>2</th><td>1999-01-22</td><td>171.0</td><td>Barbara</td></tr><tr><th>3</th><td>2001-11-29</td><td>169.5</td><td>Celina</td></tr></tbody></table></div>"
      ],
      "text/latex": [
       "\\begin{tabular}{r|ccc}\n",
       "\t& birthday & height & name\\\\\n",
       "\t\\hline\n",
       "\t& Date & Float64 & String\\\\\n",
       "\t\\hline\n",
       "\t1 & 2000-05-07 & 175.0 & Adam \\\\\n",
       "\t2 & 1999-01-22 & 171.0 & Barbara \\\\\n",
       "\t3 & 2001-11-29 & 169.5 & Celina \\\\\n",
       "\\end{tabular}\n"
      ],
      "text/plain": [
       "\u001b[1m3×3 DataFrame\u001b[0m\n",
       "\u001b[1m Row \u001b[0m│\u001b[1m birthday   \u001b[0m\u001b[1m height  \u001b[0m\u001b[1m name    \u001b[0m\n",
       "\u001b[1m     \u001b[0m│\u001b[90m Date       \u001b[0m\u001b[90m Float64 \u001b[0m\u001b[90m String  \u001b[0m\n",
       "─────┼──────────────────────────────\n",
       "   1 │ 2000-05-07    175.0  Adam\n",
       "   2 │ 1999-01-22    171.0  Barbara\n",
       "   3 │ 2001-11-29    169.5  Celina"
      ]
     },
     "metadata": {},
     "output_type": "display_data"
    }
   ],
   "source": [
    "d = Dict(\"name\" => [\"Adam\", \"Barbara\", \"Celina\"], \n",
    "         \"birthday\" => [Date(2000, 05, 07), Date(1999, 01, 22), Date(2001, 11, 29)],\n",
    "         \"height\" => [175.0, 171.0, 169.5] )\n",
    "df = DataFrame(d)"
   ]
  },
  {
   "cell_type": "code",
   "execution_count": 7,
   "id": "0decf0de",
   "metadata": {},
   "outputs": [
    {
     "data": {
      "text/html": [
       "<div class=\"data-frame\"><p>3 rows × 3 columns</p><table class=\"data-frame\"><thead><tr><th></th><th>a</th><th>b</th><th>c</th></tr><tr><th></th><th title=\"Int64\">Int64</th><th title=\"Float64\">Float64</th><th title=\"String\">String</th></tr></thead><tbody><tr><th>1</th><td>1</td><td>0.1</td><td>x</td></tr><tr><th>2</th><td>2</td><td>0.2</td><td>y</td></tr><tr><th>3</th><td>3</td><td>0.5</td><td>z</td></tr></tbody></table></div>"
      ],
      "text/latex": [
       "\\begin{tabular}{r|ccc}\n",
       "\t& a & b & c\\\\\n",
       "\t\\hline\n",
       "\t& Int64 & Float64 & String\\\\\n",
       "\t\\hline\n",
       "\t1 & 1 & 0.1 & x \\\\\n",
       "\t2 & 2 & 0.2 & y \\\\\n",
       "\t3 & 3 & 0.5 & z \\\\\n",
       "\\end{tabular}\n"
      ],
      "text/plain": [
       "\u001b[1m3×3 DataFrame\u001b[0m\n",
       "\u001b[1m Row \u001b[0m│\u001b[1m a     \u001b[0m\u001b[1m b       \u001b[0m\u001b[1m c      \u001b[0m\n",
       "\u001b[1m     \u001b[0m│\u001b[90m Int64 \u001b[0m\u001b[90m Float64 \u001b[0m\u001b[90m String \u001b[0m\n",
       "─────┼────────────────────────\n",
       "   1 │     1      0.1  x\n",
       "   2 │     2      0.2  y\n",
       "   3 │     3      0.5  z"
      ]
     },
     "metadata": {},
     "output_type": "display_data"
    }
   ],
   "source": [
    "nt = (a=[1, 2, 3], b=[0.1, 0.2, 0.5], c=[\"x\", \"y\", \"z\"])\n",
    "df = DataFrame(nt)"
   ]
  },
  {
   "cell_type": "code",
   "execution_count": 8,
   "id": "de1e5e24",
   "metadata": {},
   "outputs": [
    {
     "data": {
      "text/html": [
       "<div class=\"data-frame\"><p>10 rows × 3 columns</p><table class=\"data-frame\"><thead><tr><th></th><th>x</th><th>y</th><th>z</th></tr><tr><th></th><th title=\"Float64\">Float64</th><th title=\"Float64\">Float64</th><th title=\"Float64\">Float64</th></tr></thead><tbody><tr><th>1</th><td>0.437267</td><td>0.504004</td><td>0.137237</td></tr><tr><th>2</th><td>0.86814</td><td>0.288058</td><td>0.0810625</td></tr><tr><th>3</th><td>0.260619</td><td>0.826208</td><td>0.579483</td></tr><tr><th>4</th><td>0.904188</td><td>0.357705</td><td>0.427849</td></tr><tr><th>5</th><td>0.674272</td><td>0.708629</td><td>0.468712</td></tr><tr><th>6</th><td>0.953666</td><td>0.474854</td><td>0.374695</td></tr><tr><th>7</th><td>0.30696</td><td>0.669983</td><td>0.417708</td></tr><tr><th>8</th><td>0.326426</td><td>0.992422</td><td>0.774217</td></tr><tr><th>9</th><td>0.776325</td><td>0.892615</td><td>0.469179</td></tr><tr><th>10</th><td>0.153021</td><td>0.913202</td><td>0.140021</td></tr></tbody></table></div>"
      ],
      "text/latex": [
       "\\begin{tabular}{r|ccc}\n",
       "\t& x & y & z\\\\\n",
       "\t\\hline\n",
       "\t& Float64 & Float64 & Float64\\\\\n",
       "\t\\hline\n",
       "\t1 & 0.437267 & 0.504004 & 0.137237 \\\\\n",
       "\t2 & 0.86814 & 0.288058 & 0.0810625 \\\\\n",
       "\t3 & 0.260619 & 0.826208 & 0.579483 \\\\\n",
       "\t4 & 0.904188 & 0.357705 & 0.427849 \\\\\n",
       "\t5 & 0.674272 & 0.708629 & 0.468712 \\\\\n",
       "\t6 & 0.953666 & 0.474854 & 0.374695 \\\\\n",
       "\t7 & 0.30696 & 0.669983 & 0.417708 \\\\\n",
       "\t8 & 0.326426 & 0.992422 & 0.774217 \\\\\n",
       "\t9 & 0.776325 & 0.892615 & 0.469179 \\\\\n",
       "\t10 & 0.153021 & 0.913202 & 0.140021 \\\\\n",
       "\\end{tabular}\n"
      ],
      "text/plain": [
       "\u001b[1m10×3 DataFrame\u001b[0m\n",
       "\u001b[1m Row \u001b[0m│\u001b[1m x        \u001b[0m\u001b[1m y        \u001b[0m\u001b[1m z         \u001b[0m\n",
       "\u001b[1m     \u001b[0m│\u001b[90m Float64  \u001b[0m\u001b[90m Float64  \u001b[0m\u001b[90m Float64   \u001b[0m\n",
       "─────┼───────────────────────────────\n",
       "   1 │ 0.437267  0.504004  0.137237\n",
       "   2 │ 0.86814   0.288058  0.0810625\n",
       "   3 │ 0.260619  0.826208  0.579483\n",
       "   4 │ 0.904188  0.357705  0.427849\n",
       "   5 │ 0.674272  0.708629  0.468712\n",
       "   6 │ 0.953666  0.474854  0.374695\n",
       "   7 │ 0.30696   0.669983  0.417708\n",
       "   8 │ 0.326426  0.992422  0.774217\n",
       "   9 │ 0.776325  0.892615  0.469179\n",
       "  10 │ 0.153021  0.913202  0.140021"
      ]
     },
     "metadata": {},
     "output_type": "display_data"
    }
   ],
   "source": [
    "x = rand(10, 3)\n",
    "df = DataFrame(x, [\"x\", \"y\", \"z\"])"
   ]
  },
  {
   "cell_type": "code",
   "execution_count": 9,
   "id": "e71a07d9",
   "metadata": {},
   "outputs": [
    {
     "data": {
      "text/html": [
       "<div class=\"data-frame\"><p>2 rows × 2 columns</p><table class=\"data-frame\"><thead><tr><th></th><th>name</th><th>value</th></tr><tr><th></th><th title=\"String\">String</th><th title=\"Float64\">Float64</th></tr></thead><tbody><tr><th>1</th><td>A</td><td>1.0</td></tr><tr><th>2</th><td>B</td><td>2.0</td></tr></tbody></table></div>"
      ],
      "text/latex": [
       "\\begin{tabular}{r|cc}\n",
       "\t& name & value\\\\\n",
       "\t\\hline\n",
       "\t& String & Float64\\\\\n",
       "\t\\hline\n",
       "\t1 & A & 1.0 \\\\\n",
       "\t2 & B & 2.0 \\\\\n",
       "\\end{tabular}\n"
      ],
      "text/plain": [
       "\u001b[1m2×2 DataFrame\u001b[0m\n",
       "\u001b[1m Row \u001b[0m│\u001b[1m name   \u001b[0m\u001b[1m value   \u001b[0m\n",
       "\u001b[1m     \u001b[0m│\u001b[90m String \u001b[0m\u001b[90m Float64 \u001b[0m\n",
       "─────┼─────────────────\n",
       "   1 │ A           1.0\n",
       "   2 │ B           2.0"
      ]
     },
     "metadata": {},
     "output_type": "display_data"
    }
   ],
   "source": [
    "df = DataFrame(name=String[], value=Float64[])\n",
    "push!(df, [\"A\", 1.0])\n",
    "push!(df, [\"B\", 2.0])"
   ]
  },
  {
   "cell_type": "markdown",
   "id": "2345cc3c",
   "metadata": {},
   "source": [
    "Często dane wczytywane pochodzą z plików. W przypadku specyficznych formatów trzeba je odpowiednio wczytać do jednej z pokazanych wcześniej struktur, ale jeżeli format jest typowy, jak np. CSV to możemy wczytać taki plik automatycznie"
   ]
  },
  {
   "cell_type": "code",
   "execution_count": 13,
   "id": "5952a1b4",
   "metadata": {},
   "outputs": [
    {
     "data": {
      "text/html": [
       "<div class=\"data-frame\"><p>64 rows × 7 columns</p><table class=\"data-frame\"><thead><tr><th></th><th>YEAR</th><th>MO</th><th>DY</th><th>T2M</th><th>PRECTOT</th><th>PS</th><th>WS10M_RANGE</th></tr><tr><th></th><th title=\"Int64\">Int64</th><th title=\"Int64\">Int64</th><th title=\"Int64\">Int64</th><th title=\"Float64\">Float64</th><th title=\"Float64\">Float64</th><th title=\"Float64\">Float64</th><th title=\"Float64\">Float64</th></tr></thead><tbody><tr><th>1</th><td>2015</td><td>1</td><td>1</td><td>0.24</td><td>0.56</td><td>101.3</td><td>1.96</td></tr><tr><th>2</th><td>2015</td><td>1</td><td>2</td><td>1.43</td><td>1.48</td><td>100.14</td><td>5.6</td></tr><tr><th>3</th><td>2015</td><td>1</td><td>3</td><td>1.57</td><td>2.13</td><td>99.62</td><td>4.7</td></tr><tr><th>4</th><td>2015</td><td>1</td><td>4</td><td>0.53</td><td>0.43</td><td>99.43</td><td>2.32</td></tr><tr><th>5</th><td>2015</td><td>1</td><td>5</td><td>-1.42</td><td>0.23</td><td>100.39</td><td>2.07</td></tr><tr><th>6</th><td>2015</td><td>1</td><td>6</td><td>-7.95</td><td>0.01</td><td>101.49</td><td>3.92</td></tr><tr><th>7</th><td>2015</td><td>1</td><td>7</td><td>-9.57</td><td>0.61</td><td>101.67</td><td>3.67</td></tr><tr><th>8</th><td>2015</td><td>1</td><td>8</td><td>-2.99</td><td>2.54</td><td>100.91</td><td>6.33</td></tr><tr><th>9</th><td>2015</td><td>1</td><td>9</td><td>1.59</td><td>10.16</td><td>99.18</td><td>4.45</td></tr><tr><th>10</th><td>2015</td><td>1</td><td>10</td><td>3.15</td><td>5.46</td><td>98.29</td><td>8.3</td></tr><tr><th>11</th><td>2015</td><td>1</td><td>11</td><td>1.74</td><td>0.84</td><td>98.5</td><td>1.77</td></tr><tr><th>12</th><td>2015</td><td>1</td><td>12</td><td>2.42</td><td>1.72</td><td>99.52</td><td>4.15</td></tr><tr><th>13</th><td>2015</td><td>1</td><td>13</td><td>4.12</td><td>0.66</td><td>99.66</td><td>3.12</td></tr><tr><th>14</th><td>2015</td><td>1</td><td>14</td><td>2.78</td><td>0.67</td><td>99.56</td><td>6.18</td></tr><tr><th>15</th><td>2015</td><td>1</td><td>15</td><td>0.08</td><td>0.48</td><td>100.02</td><td>3.94</td></tr><tr><th>16</th><td>2015</td><td>1</td><td>16</td><td>1.71</td><td>0.01</td><td>99.77</td><td>3.65</td></tr><tr><th>17</th><td>2015</td><td>1</td><td>17</td><td>1.33</td><td>0.97</td><td>99.7</td><td>3.73</td></tr><tr><th>18</th><td>2015</td><td>1</td><td>18</td><td>0.41</td><td>1.13</td><td>100.49</td><td>1.09</td></tr><tr><th>19</th><td>2015</td><td>1</td><td>19</td><td>-1.51</td><td>0.17</td><td>100.46</td><td>4.14</td></tr><tr><th>20</th><td>2015</td><td>1</td><td>20</td><td>-0.41</td><td>1.01</td><td>100.18</td><td>3.44</td></tr><tr><th>21</th><td>2015</td><td>1</td><td>21</td><td>0.48</td><td>0.35</td><td>100.23</td><td>1.9</td></tr><tr><th>22</th><td>2015</td><td>1</td><td>22</td><td>0.03</td><td>3.04</td><td>100.53</td><td>3.12</td></tr><tr><th>23</th><td>2015</td><td>1</td><td>23</td><td>-0.88</td><td>1.52</td><td>100.51</td><td>2.26</td></tr><tr><th>24</th><td>2015</td><td>1</td><td>24</td><td>-2.4</td><td>1.62</td><td>100.5</td><td>2.27</td></tr><tr><th>&vellip;</th><td>&vellip;</td><td>&vellip;</td><td>&vellip;</td><td>&vellip;</td><td>&vellip;</td><td>&vellip;</td><td>&vellip;</td></tr></tbody></table></div>"
      ],
      "text/latex": [
       "\\begin{tabular}{r|ccccccc}\n",
       "\t& YEAR & MO & DY & T2M & PRECTOT & PS & WS10M\\_RANGE\\\\\n",
       "\t\\hline\n",
       "\t& Int64 & Int64 & Int64 & Float64 & Float64 & Float64 & Float64\\\\\n",
       "\t\\hline\n",
       "\t1 & 2015 & 1 & 1 & 0.24 & 0.56 & 101.3 & 1.96 \\\\\n",
       "\t2 & 2015 & 1 & 2 & 1.43 & 1.48 & 100.14 & 5.6 \\\\\n",
       "\t3 & 2015 & 1 & 3 & 1.57 & 2.13 & 99.62 & 4.7 \\\\\n",
       "\t4 & 2015 & 1 & 4 & 0.53 & 0.43 & 99.43 & 2.32 \\\\\n",
       "\t5 & 2015 & 1 & 5 & -1.42 & 0.23 & 100.39 & 2.07 \\\\\n",
       "\t6 & 2015 & 1 & 6 & -7.95 & 0.01 & 101.49 & 3.92 \\\\\n",
       "\t7 & 2015 & 1 & 7 & -9.57 & 0.61 & 101.67 & 3.67 \\\\\n",
       "\t8 & 2015 & 1 & 8 & -2.99 & 2.54 & 100.91 & 6.33 \\\\\n",
       "\t9 & 2015 & 1 & 9 & 1.59 & 10.16 & 99.18 & 4.45 \\\\\n",
       "\t10 & 2015 & 1 & 10 & 3.15 & 5.46 & 98.29 & 8.3 \\\\\n",
       "\t11 & 2015 & 1 & 11 & 1.74 & 0.84 & 98.5 & 1.77 \\\\\n",
       "\t12 & 2015 & 1 & 12 & 2.42 & 1.72 & 99.52 & 4.15 \\\\\n",
       "\t13 & 2015 & 1 & 13 & 4.12 & 0.66 & 99.66 & 3.12 \\\\\n",
       "\t14 & 2015 & 1 & 14 & 2.78 & 0.67 & 99.56 & 6.18 \\\\\n",
       "\t15 & 2015 & 1 & 15 & 0.08 & 0.48 & 100.02 & 3.94 \\\\\n",
       "\t16 & 2015 & 1 & 16 & 1.71 & 0.01 & 99.77 & 3.65 \\\\\n",
       "\t17 & 2015 & 1 & 17 & 1.33 & 0.97 & 99.7 & 3.73 \\\\\n",
       "\t18 & 2015 & 1 & 18 & 0.41 & 1.13 & 100.49 & 1.09 \\\\\n",
       "\t19 & 2015 & 1 & 19 & -1.51 & 0.17 & 100.46 & 4.14 \\\\\n",
       "\t20 & 2015 & 1 & 20 & -0.41 & 1.01 & 100.18 & 3.44 \\\\\n",
       "\t21 & 2015 & 1 & 21 & 0.48 & 0.35 & 100.23 & 1.9 \\\\\n",
       "\t22 & 2015 & 1 & 22 & 0.03 & 3.04 & 100.53 & 3.12 \\\\\n",
       "\t23 & 2015 & 1 & 23 & -0.88 & 1.52 & 100.51 & 2.26 \\\\\n",
       "\t24 & 2015 & 1 & 24 & -2.4 & 1.62 & 100.5 & 2.27 \\\\\n",
       "\t$\\dots$ & $\\dots$ & $\\dots$ & $\\dots$ & $\\dots$ & $\\dots$ & $\\dots$ & $\\dots$ \\\\\n",
       "\\end{tabular}\n"
      ],
      "text/plain": [
       "\u001b[1m64×7 DataFrame\u001b[0m\n",
       "\u001b[1m Row \u001b[0m│\u001b[1m YEAR  \u001b[0m\u001b[1m MO    \u001b[0m\u001b[1m DY    \u001b[0m\u001b[1m T2M     \u001b[0m\u001b[1m PRECTOT \u001b[0m\u001b[1m PS      \u001b[0m\u001b[1m WS10M_RANGE \u001b[0m\n",
       "\u001b[1m     \u001b[0m│\u001b[90m Int64 \u001b[0m\u001b[90m Int64 \u001b[0m\u001b[90m Int64 \u001b[0m\u001b[90m Float64 \u001b[0m\u001b[90m Float64 \u001b[0m\u001b[90m Float64 \u001b[0m\u001b[90m Float64     \u001b[0m\n",
       "─────┼─────────────────────────────────────────────────────────────\n",
       "   1 │  2015      1      1     0.24     0.56   101.3          1.96\n",
       "   2 │  2015      1      2     1.43     1.48   100.14         5.6\n",
       "   3 │  2015      1      3     1.57     2.13    99.62         4.7\n",
       "   4 │  2015      1      4     0.53     0.43    99.43         2.32\n",
       "   5 │  2015      1      5    -1.42     0.23   100.39         2.07\n",
       "   6 │  2015      1      6    -7.95     0.01   101.49         3.92\n",
       "   7 │  2015      1      7    -9.57     0.61   101.67         3.67\n",
       "   8 │  2015      1      8    -2.99     2.54   100.91         6.33\n",
       "  ⋮  │   ⋮      ⋮      ⋮       ⋮        ⋮        ⋮          ⋮\n",
       "  58 │  2015      2     27     3.62     0.1    100.21         1.89\n",
       "  59 │  2015      2     28     2.81     0.16   100.32         2.53\n",
       "  60 │  2015      3      1     2.67     0.51    99.75         4.88\n",
       "  61 │  2015      3      2     3.0      2.81    98.72         4.3\n",
       "  62 │  2015      3      3     1.21     0.69    99.78         4.94\n",
       "  63 │  2015      3      4     0.7      3.99   100.23         7.95\n",
       "  64 │  2015      3      5    -0.01     0.83   101.25         1.83\n",
       "\u001b[36m                                                    49 rows omitted\u001b[0m"
      ]
     },
     "metadata": {},
     "output_type": "display_data"
    }
   ],
   "source": [
    "using CSV\n",
    "\n",
    "df = DataFrame(CSV.File(\"pasteura.csv\", header=13, skipto=15, delim=\" \", ignorerepeated=true))"
   ]
  },
  {
   "cell_type": "markdown",
   "id": "cc732777",
   "metadata": {},
   "source": [
    "## Praca z danymi\n",
    "\n",
    "Podzbiór danych"
   ]
  },
  {
   "cell_type": "markdown",
   "id": "393e3ce8",
   "metadata": {},
   "source": [
    "Wiersze: po indeksie"
   ]
  },
  {
   "cell_type": "code",
   "execution_count": 14,
   "id": "f3d0c6b9",
   "metadata": {},
   "outputs": [
    {
     "data": {
      "text/html": [
       "<div class=\"data-frame\"><p>5 rows × 7 columns</p><table class=\"data-frame\"><thead><tr><th></th><th>YEAR</th><th>MO</th><th>DY</th><th>T2M</th><th>PRECTOT</th><th>PS</th><th>WS10M_RANGE</th></tr><tr><th></th><th title=\"Int64\">Int64</th><th title=\"Int64\">Int64</th><th title=\"Int64\">Int64</th><th title=\"Float64\">Float64</th><th title=\"Float64\">Float64</th><th title=\"Float64\">Float64</th><th title=\"Float64\">Float64</th></tr></thead><tbody><tr><th>1</th><td>2015</td><td>1</td><td>1</td><td>0.24</td><td>0.56</td><td>101.3</td><td>1.96</td></tr><tr><th>2</th><td>2015</td><td>1</td><td>2</td><td>1.43</td><td>1.48</td><td>100.14</td><td>5.6</td></tr><tr><th>3</th><td>2015</td><td>1</td><td>3</td><td>1.57</td><td>2.13</td><td>99.62</td><td>4.7</td></tr><tr><th>4</th><td>2015</td><td>1</td><td>4</td><td>0.53</td><td>0.43</td><td>99.43</td><td>2.32</td></tr><tr><th>5</th><td>2015</td><td>1</td><td>5</td><td>-1.42</td><td>0.23</td><td>100.39</td><td>2.07</td></tr></tbody></table></div>"
      ],
      "text/latex": [
       "\\begin{tabular}{r|ccccccc}\n",
       "\t& YEAR & MO & DY & T2M & PRECTOT & PS & WS10M\\_RANGE\\\\\n",
       "\t\\hline\n",
       "\t& Int64 & Int64 & Int64 & Float64 & Float64 & Float64 & Float64\\\\\n",
       "\t\\hline\n",
       "\t1 & 2015 & 1 & 1 & 0.24 & 0.56 & 101.3 & 1.96 \\\\\n",
       "\t2 & 2015 & 1 & 2 & 1.43 & 1.48 & 100.14 & 5.6 \\\\\n",
       "\t3 & 2015 & 1 & 3 & 1.57 & 2.13 & 99.62 & 4.7 \\\\\n",
       "\t4 & 2015 & 1 & 4 & 0.53 & 0.43 & 99.43 & 2.32 \\\\\n",
       "\t5 & 2015 & 1 & 5 & -1.42 & 0.23 & 100.39 & 2.07 \\\\\n",
       "\\end{tabular}\n"
      ],
      "text/plain": [
       "\u001b[1m5×7 DataFrame\u001b[0m\n",
       "\u001b[1m Row \u001b[0m│\u001b[1m YEAR  \u001b[0m\u001b[1m MO    \u001b[0m\u001b[1m DY    \u001b[0m\u001b[1m T2M     \u001b[0m\u001b[1m PRECTOT \u001b[0m\u001b[1m PS      \u001b[0m\u001b[1m WS10M_RANGE \u001b[0m\n",
       "\u001b[1m     \u001b[0m│\u001b[90m Int64 \u001b[0m\u001b[90m Int64 \u001b[0m\u001b[90m Int64 \u001b[0m\u001b[90m Float64 \u001b[0m\u001b[90m Float64 \u001b[0m\u001b[90m Float64 \u001b[0m\u001b[90m Float64     \u001b[0m\n",
       "─────┼─────────────────────────────────────────────────────────────\n",
       "   1 │  2015      1      1     0.24     0.56   101.3          1.96\n",
       "   2 │  2015      1      2     1.43     1.48   100.14         5.6\n",
       "   3 │  2015      1      3     1.57     2.13    99.62         4.7\n",
       "   4 │  2015      1      4     0.53     0.43    99.43         2.32\n",
       "   5 │  2015      1      5    -1.42     0.23   100.39         2.07"
      ]
     },
     "metadata": {},
     "output_type": "display_data"
    }
   ],
   "source": [
    "df[1:5, :]"
   ]
  },
  {
   "cell_type": "code",
   "execution_count": 15,
   "id": "4028b4b2",
   "metadata": {},
   "outputs": [
    {
     "data": {
      "text/html": [
       "<div class=\"data-frame\"><p>3 rows × 7 columns</p><table class=\"data-frame\"><thead><tr><th></th><th>YEAR</th><th>MO</th><th>DY</th><th>T2M</th><th>PRECTOT</th><th>PS</th><th>WS10M_RANGE</th></tr><tr><th></th><th title=\"Int64\">Int64</th><th title=\"Int64\">Int64</th><th title=\"Int64\">Int64</th><th title=\"Float64\">Float64</th><th title=\"Float64\">Float64</th><th title=\"Float64\">Float64</th><th title=\"Float64\">Float64</th></tr></thead><tbody><tr><th>1</th><td>2015</td><td>1</td><td>1</td><td>0.24</td><td>0.56</td><td>101.3</td><td>1.96</td></tr><tr><th>2</th><td>2015</td><td>1</td><td>30</td><td>-1.67</td><td>2.35</td><td>96.75</td><td>4.89</td></tr><tr><th>3</th><td>2015</td><td>3</td><td>1</td><td>2.67</td><td>0.51</td><td>99.75</td><td>4.88</td></tr></tbody></table></div>"
      ],
      "text/latex": [
       "\\begin{tabular}{r|ccccccc}\n",
       "\t& YEAR & MO & DY & T2M & PRECTOT & PS & WS10M\\_RANGE\\\\\n",
       "\t\\hline\n",
       "\t& Int64 & Int64 & Int64 & Float64 & Float64 & Float64 & Float64\\\\\n",
       "\t\\hline\n",
       "\t1 & 2015 & 1 & 1 & 0.24 & 0.56 & 101.3 & 1.96 \\\\\n",
       "\t2 & 2015 & 1 & 30 & -1.67 & 2.35 & 96.75 & 4.89 \\\\\n",
       "\t3 & 2015 & 3 & 1 & 2.67 & 0.51 & 99.75 & 4.88 \\\\\n",
       "\\end{tabular}\n"
      ],
      "text/plain": [
       "\u001b[1m3×7 DataFrame\u001b[0m\n",
       "\u001b[1m Row \u001b[0m│\u001b[1m YEAR  \u001b[0m\u001b[1m MO    \u001b[0m\u001b[1m DY    \u001b[0m\u001b[1m T2M     \u001b[0m\u001b[1m PRECTOT \u001b[0m\u001b[1m PS      \u001b[0m\u001b[1m WS10M_RANGE \u001b[0m\n",
       "\u001b[1m     \u001b[0m│\u001b[90m Int64 \u001b[0m\u001b[90m Int64 \u001b[0m\u001b[90m Int64 \u001b[0m\u001b[90m Float64 \u001b[0m\u001b[90m Float64 \u001b[0m\u001b[90m Float64 \u001b[0m\u001b[90m Float64     \u001b[0m\n",
       "─────┼─────────────────────────────────────────────────────────────\n",
       "   1 │  2015      1      1     0.24     0.56   101.3          1.96\n",
       "   2 │  2015      1     30    -1.67     2.35    96.75         4.89\n",
       "   3 │  2015      3      1     2.67     0.51    99.75         4.88"
      ]
     },
     "metadata": {},
     "output_type": "display_data"
    }
   ],
   "source": [
    "df[[1, 30, 60], :]"
   ]
  },
  {
   "cell_type": "markdown",
   "id": "27d8814d",
   "metadata": {},
   "source": [
    "Kolumny"
   ]
  },
  {
   "cell_type": "code",
   "execution_count": 17,
   "id": "502e406b",
   "metadata": {},
   "outputs": [
    {
     "data": {
      "text/html": [
       "<div class=\"data-frame\"><p>64 rows × 2 columns</p><table class=\"data-frame\"><thead><tr><th></th><th>T2M</th><th>PS</th></tr><tr><th></th><th title=\"Float64\">Float64</th><th title=\"Float64\">Float64</th></tr></thead><tbody><tr><th>1</th><td>0.24</td><td>101.3</td></tr><tr><th>2</th><td>1.43</td><td>100.14</td></tr><tr><th>3</th><td>1.57</td><td>99.62</td></tr><tr><th>4</th><td>0.53</td><td>99.43</td></tr><tr><th>5</th><td>-1.42</td><td>100.39</td></tr><tr><th>6</th><td>-7.95</td><td>101.49</td></tr><tr><th>7</th><td>-9.57</td><td>101.67</td></tr><tr><th>8</th><td>-2.99</td><td>100.91</td></tr><tr><th>9</th><td>1.59</td><td>99.18</td></tr><tr><th>10</th><td>3.15</td><td>98.29</td></tr><tr><th>11</th><td>1.74</td><td>98.5</td></tr><tr><th>12</th><td>2.42</td><td>99.52</td></tr><tr><th>13</th><td>4.12</td><td>99.66</td></tr><tr><th>14</th><td>2.78</td><td>99.56</td></tr><tr><th>15</th><td>0.08</td><td>100.02</td></tr><tr><th>16</th><td>1.71</td><td>99.77</td></tr><tr><th>17</th><td>1.33</td><td>99.7</td></tr><tr><th>18</th><td>0.41</td><td>100.49</td></tr><tr><th>19</th><td>-1.51</td><td>100.46</td></tr><tr><th>20</th><td>-0.41</td><td>100.18</td></tr><tr><th>21</th><td>0.48</td><td>100.23</td></tr><tr><th>22</th><td>0.03</td><td>100.53</td></tr><tr><th>23</th><td>-0.88</td><td>100.51</td></tr><tr><th>24</th><td>-2.4</td><td>100.5</td></tr><tr><th>&vellip;</th><td>&vellip;</td><td>&vellip;</td></tr></tbody></table></div>"
      ],
      "text/latex": [
       "\\begin{tabular}{r|cc}\n",
       "\t& T2M & PS\\\\\n",
       "\t\\hline\n",
       "\t& Float64 & Float64\\\\\n",
       "\t\\hline\n",
       "\t1 & 0.24 & 101.3 \\\\\n",
       "\t2 & 1.43 & 100.14 \\\\\n",
       "\t3 & 1.57 & 99.62 \\\\\n",
       "\t4 & 0.53 & 99.43 \\\\\n",
       "\t5 & -1.42 & 100.39 \\\\\n",
       "\t6 & -7.95 & 101.49 \\\\\n",
       "\t7 & -9.57 & 101.67 \\\\\n",
       "\t8 & -2.99 & 100.91 \\\\\n",
       "\t9 & 1.59 & 99.18 \\\\\n",
       "\t10 & 3.15 & 98.29 \\\\\n",
       "\t11 & 1.74 & 98.5 \\\\\n",
       "\t12 & 2.42 & 99.52 \\\\\n",
       "\t13 & 4.12 & 99.66 \\\\\n",
       "\t14 & 2.78 & 99.56 \\\\\n",
       "\t15 & 0.08 & 100.02 \\\\\n",
       "\t16 & 1.71 & 99.77 \\\\\n",
       "\t17 & 1.33 & 99.7 \\\\\n",
       "\t18 & 0.41 & 100.49 \\\\\n",
       "\t19 & -1.51 & 100.46 \\\\\n",
       "\t20 & -0.41 & 100.18 \\\\\n",
       "\t21 & 0.48 & 100.23 \\\\\n",
       "\t22 & 0.03 & 100.53 \\\\\n",
       "\t23 & -0.88 & 100.51 \\\\\n",
       "\t24 & -2.4 & 100.5 \\\\\n",
       "\t$\\dots$ & $\\dots$ & $\\dots$ \\\\\n",
       "\\end{tabular}\n"
      ],
      "text/plain": [
       "\u001b[1m64×2 DataFrame\u001b[0m\n",
       "\u001b[1m Row \u001b[0m│\u001b[1m T2M     \u001b[0m\u001b[1m PS      \u001b[0m\n",
       "\u001b[1m     \u001b[0m│\u001b[90m Float64 \u001b[0m\u001b[90m Float64 \u001b[0m\n",
       "─────┼──────────────────\n",
       "   1 │    0.24   101.3\n",
       "   2 │    1.43   100.14\n",
       "   3 │    1.57    99.62\n",
       "   4 │    0.53    99.43\n",
       "   5 │   -1.42   100.39\n",
       "   6 │   -7.95   101.49\n",
       "   7 │   -9.57   101.67\n",
       "   8 │   -2.99   100.91\n",
       "  ⋮  │    ⋮        ⋮\n",
       "  58 │    3.62   100.21\n",
       "  59 │    2.81   100.32\n",
       "  60 │    2.67    99.75\n",
       "  61 │    3.0     98.72\n",
       "  62 │    1.21    99.78\n",
       "  63 │    0.7    100.23\n",
       "  64 │   -0.01   101.25\n",
       "\u001b[36m         49 rows omitted\u001b[0m"
      ]
     },
     "metadata": {},
     "output_type": "display_data"
    }
   ],
   "source": [
    "df[:, [:T2M, :PS]]"
   ]
  },
  {
   "cell_type": "code",
   "execution_count": 18,
   "id": "4fe280fa",
   "metadata": {},
   "outputs": [
    {
     "data": {
      "text/html": [
       "<div class=\"data-frame\"><p>7 rows × 1 columns</p><table class=\"data-frame\"><thead><tr><th></th><th>PS</th></tr><tr><th></th><th title=\"Float64\">Float64</th></tr></thead><tbody><tr><th>1</th><td>101.3</td></tr><tr><th>2</th><td>100.14</td></tr><tr><th>3</th><td>99.62</td></tr><tr><th>4</th><td>99.43</td></tr><tr><th>5</th><td>100.39</td></tr><tr><th>6</th><td>101.49</td></tr><tr><th>7</th><td>101.67</td></tr></tbody></table></div>"
      ],
      "text/latex": [
       "\\begin{tabular}{r|c}\n",
       "\t& PS\\\\\n",
       "\t\\hline\n",
       "\t& Float64\\\\\n",
       "\t\\hline\n",
       "\t1 & 101.3 \\\\\n",
       "\t2 & 100.14 \\\\\n",
       "\t3 & 99.62 \\\\\n",
       "\t4 & 99.43 \\\\\n",
       "\t5 & 100.39 \\\\\n",
       "\t6 & 101.49 \\\\\n",
       "\t7 & 101.67 \\\\\n",
       "\\end{tabular}\n"
      ],
      "text/plain": [
       "\u001b[1m7×1 DataFrame\u001b[0m\n",
       "\u001b[1m Row \u001b[0m│\u001b[1m PS      \u001b[0m\n",
       "\u001b[1m     \u001b[0m│\u001b[90m Float64 \u001b[0m\n",
       "─────┼─────────\n",
       "   1 │  101.3\n",
       "   2 │  100.14\n",
       "   3 │   99.62\n",
       "   4 │   99.43\n",
       "   5 │  100.39\n",
       "   6 │  101.49\n",
       "   7 │  101.67"
      ]
     },
     "metadata": {},
     "output_type": "display_data"
    }
   ],
   "source": [
    "df[1:7, [:PS]]"
   ]
  },
  {
   "cell_type": "code",
   "execution_count": 19,
   "id": "8090835c",
   "metadata": {},
   "outputs": [
    {
     "data": {
      "text/html": [
       "<div class=\"data-frame\"><p>64 rows × 1 columns</p><table class=\"data-frame\"><thead><tr><th></th><th>PS</th></tr><tr><th></th><th title=\"Float64\">Float64</th></tr></thead><tbody><tr><th>1</th><td>101.3</td></tr><tr><th>2</th><td>100.14</td></tr><tr><th>3</th><td>99.62</td></tr><tr><th>4</th><td>99.43</td></tr><tr><th>5</th><td>100.39</td></tr><tr><th>6</th><td>101.49</td></tr><tr><th>7</th><td>101.67</td></tr><tr><th>8</th><td>100.91</td></tr><tr><th>9</th><td>99.18</td></tr><tr><th>10</th><td>98.29</td></tr><tr><th>11</th><td>98.5</td></tr><tr><th>12</th><td>99.52</td></tr><tr><th>13</th><td>99.66</td></tr><tr><th>14</th><td>99.56</td></tr><tr><th>15</th><td>100.02</td></tr><tr><th>16</th><td>99.77</td></tr><tr><th>17</th><td>99.7</td></tr><tr><th>18</th><td>100.49</td></tr><tr><th>19</th><td>100.46</td></tr><tr><th>20</th><td>100.18</td></tr><tr><th>21</th><td>100.23</td></tr><tr><th>22</th><td>100.53</td></tr><tr><th>23</th><td>100.51</td></tr><tr><th>24</th><td>100.5</td></tr><tr><th>&vellip;</th><td>&vellip;</td></tr></tbody></table></div>"
      ],
      "text/latex": [
       "\\begin{tabular}{r|c}\n",
       "\t& PS\\\\\n",
       "\t\\hline\n",
       "\t& Float64\\\\\n",
       "\t\\hline\n",
       "\t1 & 101.3 \\\\\n",
       "\t2 & 100.14 \\\\\n",
       "\t3 & 99.62 \\\\\n",
       "\t4 & 99.43 \\\\\n",
       "\t5 & 100.39 \\\\\n",
       "\t6 & 101.49 \\\\\n",
       "\t7 & 101.67 \\\\\n",
       "\t8 & 100.91 \\\\\n",
       "\t9 & 99.18 \\\\\n",
       "\t10 & 98.29 \\\\\n",
       "\t11 & 98.5 \\\\\n",
       "\t12 & 99.52 \\\\\n",
       "\t13 & 99.66 \\\\\n",
       "\t14 & 99.56 \\\\\n",
       "\t15 & 100.02 \\\\\n",
       "\t16 & 99.77 \\\\\n",
       "\t17 & 99.7 \\\\\n",
       "\t18 & 100.49 \\\\\n",
       "\t19 & 100.46 \\\\\n",
       "\t20 & 100.18 \\\\\n",
       "\t21 & 100.23 \\\\\n",
       "\t22 & 100.53 \\\\\n",
       "\t23 & 100.51 \\\\\n",
       "\t24 & 100.5 \\\\\n",
       "\t$\\dots$ & $\\dots$ \\\\\n",
       "\\end{tabular}\n"
      ],
      "text/plain": [
       "\u001b[1m64×1 DataFrame\u001b[0m\n",
       "\u001b[1m Row \u001b[0m│\u001b[1m PS      \u001b[0m\n",
       "\u001b[1m     \u001b[0m│\u001b[90m Float64 \u001b[0m\n",
       "─────┼─────────\n",
       "   1 │  101.3\n",
       "   2 │  100.14\n",
       "   3 │   99.62\n",
       "   4 │   99.43\n",
       "   5 │  100.39\n",
       "   6 │  101.49\n",
       "   7 │  101.67\n",
       "   8 │  100.91\n",
       "  ⋮  │    ⋮\n",
       "  58 │  100.21\n",
       "  59 │  100.32\n",
       "  60 │   99.75\n",
       "  61 │   98.72\n",
       "  62 │   99.78\n",
       "  63 │  100.23\n",
       "  64 │  101.25\n",
       "\u001b[36m49 rows omitted\u001b[0m"
      ]
     },
     "metadata": {},
     "output_type": "display_data"
    }
   ],
   "source": [
    "df[!, [:PS]]"
   ]
  },
  {
   "cell_type": "code",
   "execution_count": 23,
   "id": "e817615e",
   "metadata": {},
   "outputs": [
    {
     "data": {
      "text/plain": [
       "64-element Vector{Float64}:\n",
       " 101.3\n",
       " 100.14\n",
       "  99.62\n",
       "  99.43\n",
       " 100.39\n",
       " 101.49\n",
       " 101.67\n",
       " 100.91\n",
       "  99.18\n",
       "  98.29\n",
       "   ⋮\n",
       " 100.22\n",
       " 100.63\n",
       " 100.21\n",
       " 100.32\n",
       "  99.75\n",
       "  98.72\n",
       "  99.78\n",
       " 100.23\n",
       " 101.25"
      ]
     },
     "metadata": {},
     "output_type": "display_data"
    }
   ],
   "source": [
    "df[!, :PS]"
   ]
  },
  {
   "cell_type": "code",
   "execution_count": 21,
   "id": "5cca6a38",
   "metadata": {},
   "outputs": [
    {
     "data": {
      "text/plain": [
       "64-element Vector{Float64}:\n",
       " 101.3\n",
       " 100.14\n",
       "  99.62\n",
       "  99.43\n",
       " 100.39\n",
       " 101.49\n",
       " 101.67\n",
       " 100.91\n",
       "  99.18\n",
       "  98.29\n",
       "   ⋮\n",
       " 100.22\n",
       " 100.63\n",
       " 100.21\n",
       " 100.32\n",
       "  99.75\n",
       "  98.72\n",
       "  99.78\n",
       " 100.23\n",
       " 101.25"
      ]
     },
     "metadata": {},
     "output_type": "display_data"
    }
   ],
   "source": [
    "df[:, :PS]"
   ]
  },
  {
   "cell_type": "markdown",
   "id": "fa4dca94",
   "metadata": {},
   "source": [
    "Używając `[:PS]` a nie `:PS` to dostajemy DataFrame a nie Vector"
   ]
  },
  {
   "cell_type": "code",
   "execution_count": 24,
   "id": "0ef79b11",
   "metadata": {},
   "outputs": [
    {
     "data": {
      "text/html": [
       "<div class=\"data-frame\"><p>64 rows × 6 columns</p><table class=\"data-frame\"><thead><tr><th></th><th>MO</th><th>DY</th><th>T2M</th><th>PRECTOT</th><th>PS</th><th>WS10M_RANGE</th></tr><tr><th></th><th title=\"Int64\">Int64</th><th title=\"Int64\">Int64</th><th title=\"Float64\">Float64</th><th title=\"Float64\">Float64</th><th title=\"Float64\">Float64</th><th title=\"Float64\">Float64</th></tr></thead><tbody><tr><th>1</th><td>1</td><td>1</td><td>0.24</td><td>0.56</td><td>101.3</td><td>1.96</td></tr><tr><th>2</th><td>1</td><td>2</td><td>1.43</td><td>1.48</td><td>100.14</td><td>5.6</td></tr><tr><th>3</th><td>1</td><td>3</td><td>1.57</td><td>2.13</td><td>99.62</td><td>4.7</td></tr><tr><th>4</th><td>1</td><td>4</td><td>0.53</td><td>0.43</td><td>99.43</td><td>2.32</td></tr><tr><th>5</th><td>1</td><td>5</td><td>-1.42</td><td>0.23</td><td>100.39</td><td>2.07</td></tr><tr><th>6</th><td>1</td><td>6</td><td>-7.95</td><td>0.01</td><td>101.49</td><td>3.92</td></tr><tr><th>7</th><td>1</td><td>7</td><td>-9.57</td><td>0.61</td><td>101.67</td><td>3.67</td></tr><tr><th>8</th><td>1</td><td>8</td><td>-2.99</td><td>2.54</td><td>100.91</td><td>6.33</td></tr><tr><th>9</th><td>1</td><td>9</td><td>1.59</td><td>10.16</td><td>99.18</td><td>4.45</td></tr><tr><th>10</th><td>1</td><td>10</td><td>3.15</td><td>5.46</td><td>98.29</td><td>8.3</td></tr><tr><th>11</th><td>1</td><td>11</td><td>1.74</td><td>0.84</td><td>98.5</td><td>1.77</td></tr><tr><th>12</th><td>1</td><td>12</td><td>2.42</td><td>1.72</td><td>99.52</td><td>4.15</td></tr><tr><th>13</th><td>1</td><td>13</td><td>4.12</td><td>0.66</td><td>99.66</td><td>3.12</td></tr><tr><th>14</th><td>1</td><td>14</td><td>2.78</td><td>0.67</td><td>99.56</td><td>6.18</td></tr><tr><th>15</th><td>1</td><td>15</td><td>0.08</td><td>0.48</td><td>100.02</td><td>3.94</td></tr><tr><th>16</th><td>1</td><td>16</td><td>1.71</td><td>0.01</td><td>99.77</td><td>3.65</td></tr><tr><th>17</th><td>1</td><td>17</td><td>1.33</td><td>0.97</td><td>99.7</td><td>3.73</td></tr><tr><th>18</th><td>1</td><td>18</td><td>0.41</td><td>1.13</td><td>100.49</td><td>1.09</td></tr><tr><th>19</th><td>1</td><td>19</td><td>-1.51</td><td>0.17</td><td>100.46</td><td>4.14</td></tr><tr><th>20</th><td>1</td><td>20</td><td>-0.41</td><td>1.01</td><td>100.18</td><td>3.44</td></tr><tr><th>21</th><td>1</td><td>21</td><td>0.48</td><td>0.35</td><td>100.23</td><td>1.9</td></tr><tr><th>22</th><td>1</td><td>22</td><td>0.03</td><td>3.04</td><td>100.53</td><td>3.12</td></tr><tr><th>23</th><td>1</td><td>23</td><td>-0.88</td><td>1.52</td><td>100.51</td><td>2.26</td></tr><tr><th>24</th><td>1</td><td>24</td><td>-2.4</td><td>1.62</td><td>100.5</td><td>2.27</td></tr><tr><th>&vellip;</th><td>&vellip;</td><td>&vellip;</td><td>&vellip;</td><td>&vellip;</td><td>&vellip;</td><td>&vellip;</td></tr></tbody></table></div>"
      ],
      "text/latex": [
       "\\begin{tabular}{r|cccccc}\n",
       "\t& MO & DY & T2M & PRECTOT & PS & WS10M\\_RANGE\\\\\n",
       "\t\\hline\n",
       "\t& Int64 & Int64 & Float64 & Float64 & Float64 & Float64\\\\\n",
       "\t\\hline\n",
       "\t1 & 1 & 1 & 0.24 & 0.56 & 101.3 & 1.96 \\\\\n",
       "\t2 & 1 & 2 & 1.43 & 1.48 & 100.14 & 5.6 \\\\\n",
       "\t3 & 1 & 3 & 1.57 & 2.13 & 99.62 & 4.7 \\\\\n",
       "\t4 & 1 & 4 & 0.53 & 0.43 & 99.43 & 2.32 \\\\\n",
       "\t5 & 1 & 5 & -1.42 & 0.23 & 100.39 & 2.07 \\\\\n",
       "\t6 & 1 & 6 & -7.95 & 0.01 & 101.49 & 3.92 \\\\\n",
       "\t7 & 1 & 7 & -9.57 & 0.61 & 101.67 & 3.67 \\\\\n",
       "\t8 & 1 & 8 & -2.99 & 2.54 & 100.91 & 6.33 \\\\\n",
       "\t9 & 1 & 9 & 1.59 & 10.16 & 99.18 & 4.45 \\\\\n",
       "\t10 & 1 & 10 & 3.15 & 5.46 & 98.29 & 8.3 \\\\\n",
       "\t11 & 1 & 11 & 1.74 & 0.84 & 98.5 & 1.77 \\\\\n",
       "\t12 & 1 & 12 & 2.42 & 1.72 & 99.52 & 4.15 \\\\\n",
       "\t13 & 1 & 13 & 4.12 & 0.66 & 99.66 & 3.12 \\\\\n",
       "\t14 & 1 & 14 & 2.78 & 0.67 & 99.56 & 6.18 \\\\\n",
       "\t15 & 1 & 15 & 0.08 & 0.48 & 100.02 & 3.94 \\\\\n",
       "\t16 & 1 & 16 & 1.71 & 0.01 & 99.77 & 3.65 \\\\\n",
       "\t17 & 1 & 17 & 1.33 & 0.97 & 99.7 & 3.73 \\\\\n",
       "\t18 & 1 & 18 & 0.41 & 1.13 & 100.49 & 1.09 \\\\\n",
       "\t19 & 1 & 19 & -1.51 & 0.17 & 100.46 & 4.14 \\\\\n",
       "\t20 & 1 & 20 & -0.41 & 1.01 & 100.18 & 3.44 \\\\\n",
       "\t21 & 1 & 21 & 0.48 & 0.35 & 100.23 & 1.9 \\\\\n",
       "\t22 & 1 & 22 & 0.03 & 3.04 & 100.53 & 3.12 \\\\\n",
       "\t23 & 1 & 23 & -0.88 & 1.52 & 100.51 & 2.26 \\\\\n",
       "\t24 & 1 & 24 & -2.4 & 1.62 & 100.5 & 2.27 \\\\\n",
       "\t$\\dots$ & $\\dots$ & $\\dots$ & $\\dots$ & $\\dots$ & $\\dots$ & $\\dots$ \\\\\n",
       "\\end{tabular}\n"
      ],
      "text/plain": [
       "\u001b[1m64×6 DataFrame\u001b[0m\n",
       "\u001b[1m Row \u001b[0m│\u001b[1m MO    \u001b[0m\u001b[1m DY    \u001b[0m\u001b[1m T2M     \u001b[0m\u001b[1m PRECTOT \u001b[0m\u001b[1m PS      \u001b[0m\u001b[1m WS10M_RANGE \u001b[0m\n",
       "\u001b[1m     \u001b[0m│\u001b[90m Int64 \u001b[0m\u001b[90m Int64 \u001b[0m\u001b[90m Float64 \u001b[0m\u001b[90m Float64 \u001b[0m\u001b[90m Float64 \u001b[0m\u001b[90m Float64     \u001b[0m\n",
       "─────┼──────────────────────────────────────────────────────\n",
       "   1 │     1      1     0.24     0.56   101.3          1.96\n",
       "   2 │     1      2     1.43     1.48   100.14         5.6\n",
       "   3 │     1      3     1.57     2.13    99.62         4.7\n",
       "   4 │     1      4     0.53     0.43    99.43         2.32\n",
       "   5 │     1      5    -1.42     0.23   100.39         2.07\n",
       "   6 │     1      6    -7.95     0.01   101.49         3.92\n",
       "   7 │     1      7    -9.57     0.61   101.67         3.67\n",
       "   8 │     1      8    -2.99     2.54   100.91         6.33\n",
       "  ⋮  │   ⋮      ⋮       ⋮        ⋮        ⋮          ⋮\n",
       "  58 │     2     27     3.62     0.1    100.21         1.89\n",
       "  59 │     2     28     2.81     0.16   100.32         2.53\n",
       "  60 │     3      1     2.67     0.51    99.75         4.88\n",
       "  61 │     3      2     3.0      2.81    98.72         4.3\n",
       "  62 │     3      3     1.21     0.69    99.78         4.94\n",
       "  63 │     3      4     0.7      3.99   100.23         7.95\n",
       "  64 │     3      5    -0.01     0.83   101.25         1.83\n",
       "\u001b[36m                                             49 rows omitted\u001b[0m"
      ]
     },
     "metadata": {},
     "output_type": "display_data"
    }
   ],
   "source": [
    "df[!, Not(:YEAR)]"
   ]
  },
  {
   "cell_type": "code",
   "execution_count": 25,
   "id": "064d1476",
   "metadata": {},
   "outputs": [
    {
     "data": {
      "text/html": [
       "<div class=\"data-frame\"><p>64 rows × 3 columns</p><table class=\"data-frame\"><thead><tr><th></th><th>YEAR</th><th>MO</th><th>DY</th></tr><tr><th></th><th title=\"Int64\">Int64</th><th title=\"Int64\">Int64</th><th title=\"Int64\">Int64</th></tr></thead><tbody><tr><th>1</th><td>2015</td><td>1</td><td>1</td></tr><tr><th>2</th><td>2015</td><td>1</td><td>2</td></tr><tr><th>3</th><td>2015</td><td>1</td><td>3</td></tr><tr><th>4</th><td>2015</td><td>1</td><td>4</td></tr><tr><th>5</th><td>2015</td><td>1</td><td>5</td></tr><tr><th>6</th><td>2015</td><td>1</td><td>6</td></tr><tr><th>7</th><td>2015</td><td>1</td><td>7</td></tr><tr><th>8</th><td>2015</td><td>1</td><td>8</td></tr><tr><th>9</th><td>2015</td><td>1</td><td>9</td></tr><tr><th>10</th><td>2015</td><td>1</td><td>10</td></tr><tr><th>11</th><td>2015</td><td>1</td><td>11</td></tr><tr><th>12</th><td>2015</td><td>1</td><td>12</td></tr><tr><th>13</th><td>2015</td><td>1</td><td>13</td></tr><tr><th>14</th><td>2015</td><td>1</td><td>14</td></tr><tr><th>15</th><td>2015</td><td>1</td><td>15</td></tr><tr><th>16</th><td>2015</td><td>1</td><td>16</td></tr><tr><th>17</th><td>2015</td><td>1</td><td>17</td></tr><tr><th>18</th><td>2015</td><td>1</td><td>18</td></tr><tr><th>19</th><td>2015</td><td>1</td><td>19</td></tr><tr><th>20</th><td>2015</td><td>1</td><td>20</td></tr><tr><th>21</th><td>2015</td><td>1</td><td>21</td></tr><tr><th>22</th><td>2015</td><td>1</td><td>22</td></tr><tr><th>23</th><td>2015</td><td>1</td><td>23</td></tr><tr><th>24</th><td>2015</td><td>1</td><td>24</td></tr><tr><th>&vellip;</th><td>&vellip;</td><td>&vellip;</td><td>&vellip;</td></tr></tbody></table></div>"
      ],
      "text/latex": [
       "\\begin{tabular}{r|ccc}\n",
       "\t& YEAR & MO & DY\\\\\n",
       "\t\\hline\n",
       "\t& Int64 & Int64 & Int64\\\\\n",
       "\t\\hline\n",
       "\t1 & 2015 & 1 & 1 \\\\\n",
       "\t2 & 2015 & 1 & 2 \\\\\n",
       "\t3 & 2015 & 1 & 3 \\\\\n",
       "\t4 & 2015 & 1 & 4 \\\\\n",
       "\t5 & 2015 & 1 & 5 \\\\\n",
       "\t6 & 2015 & 1 & 6 \\\\\n",
       "\t7 & 2015 & 1 & 7 \\\\\n",
       "\t8 & 2015 & 1 & 8 \\\\\n",
       "\t9 & 2015 & 1 & 9 \\\\\n",
       "\t10 & 2015 & 1 & 10 \\\\\n",
       "\t11 & 2015 & 1 & 11 \\\\\n",
       "\t12 & 2015 & 1 & 12 \\\\\n",
       "\t13 & 2015 & 1 & 13 \\\\\n",
       "\t14 & 2015 & 1 & 14 \\\\\n",
       "\t15 & 2015 & 1 & 15 \\\\\n",
       "\t16 & 2015 & 1 & 16 \\\\\n",
       "\t17 & 2015 & 1 & 17 \\\\\n",
       "\t18 & 2015 & 1 & 18 \\\\\n",
       "\t19 & 2015 & 1 & 19 \\\\\n",
       "\t20 & 2015 & 1 & 20 \\\\\n",
       "\t21 & 2015 & 1 & 21 \\\\\n",
       "\t22 & 2015 & 1 & 22 \\\\\n",
       "\t23 & 2015 & 1 & 23 \\\\\n",
       "\t24 & 2015 & 1 & 24 \\\\\n",
       "\t$\\dots$ & $\\dots$ & $\\dots$ & $\\dots$ \\\\\n",
       "\\end{tabular}\n"
      ],
      "text/plain": [
       "\u001b[1m64×3 DataFrame\u001b[0m\n",
       "\u001b[1m Row \u001b[0m│\u001b[1m YEAR  \u001b[0m\u001b[1m MO    \u001b[0m\u001b[1m DY    \u001b[0m\n",
       "\u001b[1m     \u001b[0m│\u001b[90m Int64 \u001b[0m\u001b[90m Int64 \u001b[0m\u001b[90m Int64 \u001b[0m\n",
       "─────┼─────────────────────\n",
       "   1 │  2015      1      1\n",
       "   2 │  2015      1      2\n",
       "   3 │  2015      1      3\n",
       "   4 │  2015      1      4\n",
       "   5 │  2015      1      5\n",
       "   6 │  2015      1      6\n",
       "   7 │  2015      1      7\n",
       "   8 │  2015      1      8\n",
       "  ⋮  │   ⋮      ⋮      ⋮\n",
       "  58 │  2015      2     27\n",
       "  59 │  2015      2     28\n",
       "  60 │  2015      3      1\n",
       "  61 │  2015      3      2\n",
       "  62 │  2015      3      3\n",
       "  63 │  2015      3      4\n",
       "  64 │  2015      3      5\n",
       "\u001b[36m            49 rows omitted\u001b[0m"
      ]
     },
     "metadata": {},
     "output_type": "display_data"
    }
   ],
   "source": [
    "df[!, Between(:YEAR, :DY)]"
   ]
  },
  {
   "cell_type": "code",
   "execution_count": 26,
   "id": "02044f81",
   "metadata": {},
   "outputs": [
    {
     "data": {
      "text/html": [
       "<div class=\"data-frame\"><p>64 rows × 2 columns</p><table class=\"data-frame\"><thead><tr><th></th><th>PRECTOT</th><th>PS</th></tr><tr><th></th><th title=\"Float64\">Float64</th><th title=\"Float64\">Float64</th></tr></thead><tbody><tr><th>1</th><td>0.56</td><td>101.3</td></tr><tr><th>2</th><td>1.48</td><td>100.14</td></tr><tr><th>3</th><td>2.13</td><td>99.62</td></tr><tr><th>4</th><td>0.43</td><td>99.43</td></tr><tr><th>5</th><td>0.23</td><td>100.39</td></tr><tr><th>6</th><td>0.01</td><td>101.49</td></tr><tr><th>7</th><td>0.61</td><td>101.67</td></tr><tr><th>8</th><td>2.54</td><td>100.91</td></tr><tr><th>9</th><td>10.16</td><td>99.18</td></tr><tr><th>10</th><td>5.46</td><td>98.29</td></tr><tr><th>11</th><td>0.84</td><td>98.5</td></tr><tr><th>12</th><td>1.72</td><td>99.52</td></tr><tr><th>13</th><td>0.66</td><td>99.66</td></tr><tr><th>14</th><td>0.67</td><td>99.56</td></tr><tr><th>15</th><td>0.48</td><td>100.02</td></tr><tr><th>16</th><td>0.01</td><td>99.77</td></tr><tr><th>17</th><td>0.97</td><td>99.7</td></tr><tr><th>18</th><td>1.13</td><td>100.49</td></tr><tr><th>19</th><td>0.17</td><td>100.46</td></tr><tr><th>20</th><td>1.01</td><td>100.18</td></tr><tr><th>21</th><td>0.35</td><td>100.23</td></tr><tr><th>22</th><td>3.04</td><td>100.53</td></tr><tr><th>23</th><td>1.52</td><td>100.51</td></tr><tr><th>24</th><td>1.62</td><td>100.5</td></tr><tr><th>&vellip;</th><td>&vellip;</td><td>&vellip;</td></tr></tbody></table></div>"
      ],
      "text/latex": [
       "\\begin{tabular}{r|cc}\n",
       "\t& PRECTOT & PS\\\\\n",
       "\t\\hline\n",
       "\t& Float64 & Float64\\\\\n",
       "\t\\hline\n",
       "\t1 & 0.56 & 101.3 \\\\\n",
       "\t2 & 1.48 & 100.14 \\\\\n",
       "\t3 & 2.13 & 99.62 \\\\\n",
       "\t4 & 0.43 & 99.43 \\\\\n",
       "\t5 & 0.23 & 100.39 \\\\\n",
       "\t6 & 0.01 & 101.49 \\\\\n",
       "\t7 & 0.61 & 101.67 \\\\\n",
       "\t8 & 2.54 & 100.91 \\\\\n",
       "\t9 & 10.16 & 99.18 \\\\\n",
       "\t10 & 5.46 & 98.29 \\\\\n",
       "\t11 & 0.84 & 98.5 \\\\\n",
       "\t12 & 1.72 & 99.52 \\\\\n",
       "\t13 & 0.66 & 99.66 \\\\\n",
       "\t14 & 0.67 & 99.56 \\\\\n",
       "\t15 & 0.48 & 100.02 \\\\\n",
       "\t16 & 0.01 & 99.77 \\\\\n",
       "\t17 & 0.97 & 99.7 \\\\\n",
       "\t18 & 1.13 & 100.49 \\\\\n",
       "\t19 & 0.17 & 100.46 \\\\\n",
       "\t20 & 1.01 & 100.18 \\\\\n",
       "\t21 & 0.35 & 100.23 \\\\\n",
       "\t22 & 3.04 & 100.53 \\\\\n",
       "\t23 & 1.52 & 100.51 \\\\\n",
       "\t24 & 1.62 & 100.5 \\\\\n",
       "\t$\\dots$ & $\\dots$ & $\\dots$ \\\\\n",
       "\\end{tabular}\n"
      ],
      "text/plain": [
       "\u001b[1m64×2 DataFrame\u001b[0m\n",
       "\u001b[1m Row \u001b[0m│\u001b[1m PRECTOT \u001b[0m\u001b[1m PS      \u001b[0m\n",
       "\u001b[1m     \u001b[0m│\u001b[90m Float64 \u001b[0m\u001b[90m Float64 \u001b[0m\n",
       "─────┼──────────────────\n",
       "   1 │    0.56   101.3\n",
       "   2 │    1.48   100.14\n",
       "   3 │    2.13    99.62\n",
       "   4 │    0.43    99.43\n",
       "   5 │    0.23   100.39\n",
       "   6 │    0.01   101.49\n",
       "   7 │    0.61   101.67\n",
       "   8 │    2.54   100.91\n",
       "  ⋮  │    ⋮        ⋮\n",
       "  58 │    0.1    100.21\n",
       "  59 │    0.16   100.32\n",
       "  60 │    0.51    99.75\n",
       "  61 │    2.81    98.72\n",
       "  62 │    0.69    99.78\n",
       "  63 │    3.99   100.23\n",
       "  64 │    0.83   101.25\n",
       "\u001b[36m         49 rows omitted\u001b[0m"
      ]
     },
     "metadata": {},
     "output_type": "display_data"
    }
   ],
   "source": [
    "df[!, Cols(x->startswith(x, \"P\"))]"
   ]
  },
  {
   "cell_type": "markdown",
   "id": "fbdf673f",
   "metadata": {},
   "source": [
    "Po danych"
   ]
  },
  {
   "cell_type": "code",
   "execution_count": 27,
   "id": "fb086a4d",
   "metadata": {},
   "outputs": [
    {
     "data": {
      "text/html": [
       "<div class=\"data-frame\"><p>3 rows × 7 columns</p><table class=\"data-frame\"><thead><tr><th></th><th>YEAR</th><th>MO</th><th>DY</th><th>T2M</th><th>PRECTOT</th><th>PS</th><th>WS10M_RANGE</th></tr><tr><th></th><th title=\"Int64\">Int64</th><th title=\"Int64\">Int64</th><th title=\"Int64\">Int64</th><th title=\"Float64\">Float64</th><th title=\"Float64\">Float64</th><th title=\"Float64\">Float64</th><th title=\"Float64\">Float64</th></tr></thead><tbody><tr><th>1</th><td>2015</td><td>1</td><td>1</td><td>0.24</td><td>0.56</td><td>101.3</td><td>1.96</td></tr><tr><th>2</th><td>2015</td><td>2</td><td>1</td><td>-2.95</td><td>0.03</td><td>97.58</td><td>3.57</td></tr><tr><th>3</th><td>2015</td><td>3</td><td>1</td><td>2.67</td><td>0.51</td><td>99.75</td><td>4.88</td></tr></tbody></table></div>"
      ],
      "text/latex": [
       "\\begin{tabular}{r|ccccccc}\n",
       "\t& YEAR & MO & DY & T2M & PRECTOT & PS & WS10M\\_RANGE\\\\\n",
       "\t\\hline\n",
       "\t& Int64 & Int64 & Int64 & Float64 & Float64 & Float64 & Float64\\\\\n",
       "\t\\hline\n",
       "\t1 & 2015 & 1 & 1 & 0.24 & 0.56 & 101.3 & 1.96 \\\\\n",
       "\t2 & 2015 & 2 & 1 & -2.95 & 0.03 & 97.58 & 3.57 \\\\\n",
       "\t3 & 2015 & 3 & 1 & 2.67 & 0.51 & 99.75 & 4.88 \\\\\n",
       "\\end{tabular}\n"
      ],
      "text/plain": [
       "\u001b[1m3×7 DataFrame\u001b[0m\n",
       "\u001b[1m Row \u001b[0m│\u001b[1m YEAR  \u001b[0m\u001b[1m MO    \u001b[0m\u001b[1m DY    \u001b[0m\u001b[1m T2M     \u001b[0m\u001b[1m PRECTOT \u001b[0m\u001b[1m PS      \u001b[0m\u001b[1m WS10M_RANGE \u001b[0m\n",
       "\u001b[1m     \u001b[0m│\u001b[90m Int64 \u001b[0m\u001b[90m Int64 \u001b[0m\u001b[90m Int64 \u001b[0m\u001b[90m Float64 \u001b[0m\u001b[90m Float64 \u001b[0m\u001b[90m Float64 \u001b[0m\u001b[90m Float64     \u001b[0m\n",
       "─────┼─────────────────────────────────────────────────────────────\n",
       "   1 │  2015      1      1     0.24     0.56   101.3          1.96\n",
       "   2 │  2015      2      1    -2.95     0.03    97.58         3.57\n",
       "   3 │  2015      3      1     2.67     0.51    99.75         4.88"
      ]
     },
     "metadata": {},
     "output_type": "display_data"
    }
   ],
   "source": [
    "df[df.DY .== 1, :]"
   ]
  },
  {
   "cell_type": "code",
   "execution_count": 28,
   "id": "3bc91305",
   "metadata": {},
   "outputs": [
    {
     "data": {
      "text/html": [
       "<div class=\"data-frame\"><p>22 rows × 7 columns</p><table class=\"data-frame\"><thead><tr><th></th><th>YEAR</th><th>MO</th><th>DY</th><th>T2M</th><th>PRECTOT</th><th>PS</th><th>WS10M_RANGE</th></tr><tr><th></th><th title=\"Int64\">Int64</th><th title=\"Int64\">Int64</th><th title=\"Int64\">Int64</th><th title=\"Float64\">Float64</th><th title=\"Float64\">Float64</th><th title=\"Float64\">Float64</th><th title=\"Float64\">Float64</th></tr></thead><tbody><tr><th>1</th><td>2015</td><td>1</td><td>5</td><td>-1.42</td><td>0.23</td><td>100.39</td><td>2.07</td></tr><tr><th>2</th><td>2015</td><td>1</td><td>6</td><td>-7.95</td><td>0.01</td><td>101.49</td><td>3.92</td></tr><tr><th>3</th><td>2015</td><td>1</td><td>7</td><td>-9.57</td><td>0.61</td><td>101.67</td><td>3.67</td></tr><tr><th>4</th><td>2015</td><td>1</td><td>8</td><td>-2.99</td><td>2.54</td><td>100.91</td><td>6.33</td></tr><tr><th>5</th><td>2015</td><td>1</td><td>19</td><td>-1.51</td><td>0.17</td><td>100.46</td><td>4.14</td></tr><tr><th>6</th><td>2015</td><td>1</td><td>20</td><td>-0.41</td><td>1.01</td><td>100.18</td><td>3.44</td></tr><tr><th>7</th><td>2015</td><td>1</td><td>23</td><td>-0.88</td><td>1.52</td><td>100.51</td><td>2.26</td></tr><tr><th>8</th><td>2015</td><td>1</td><td>24</td><td>-2.4</td><td>1.62</td><td>100.5</td><td>2.27</td></tr><tr><th>9</th><td>2015</td><td>1</td><td>25</td><td>-2.6</td><td>2.33</td><td>100.48</td><td>2.96</td></tr><tr><th>10</th><td>2015</td><td>1</td><td>26</td><td>-3.31</td><td>0.19</td><td>100.77</td><td>2.58</td></tr><tr><th>11</th><td>2015</td><td>2</td><td>5</td><td>-4.32</td><td>0.36</td><td>100.91</td><td>1.61</td></tr><tr><th>12</th><td>2015</td><td>2</td><td>6</td><td>-5.87</td><td>0.05</td><td>101.46</td><td>1.56</td></tr><tr><th>13</th><td>2015</td><td>2</td><td>7</td><td>-3.3</td><td>0.7</td><td>100.33</td><td>6.69</td></tr><tr><th>14</th><td>2015</td><td>2</td><td>11</td><td>-0.21</td><td>0.24</td><td>101.19</td><td>1.94</td></tr><tr><th>15</th><td>2015</td><td>2</td><td>12</td><td>-0.63</td><td>0.13</td><td>101.25</td><td>1.64</td></tr><tr><th>16</th><td>2015</td><td>2</td><td>13</td><td>-1.0</td><td>0.06</td><td>100.96</td><td>1.21</td></tr><tr><th>17</th><td>2015</td><td>2</td><td>14</td><td>-0.88</td><td>0.0</td><td>100.57</td><td>2.21</td></tr><tr><th>18</th><td>2015</td><td>2</td><td>15</td><td>-1.97</td><td>0.05</td><td>101.0</td><td>4.69</td></tr><tr><th>19</th><td>2015</td><td>2</td><td>16</td><td>-3.72</td><td>0.03</td><td>101.97</td><td>2.76</td></tr><tr><th>20</th><td>2015</td><td>2</td><td>17</td><td>-5.49</td><td>0.0</td><td>102.3</td><td>4.92</td></tr><tr><th>21</th><td>2015</td><td>2</td><td>18</td><td>-2.35</td><td>0.1</td><td>102.14</td><td>1.85</td></tr><tr><th>22</th><td>2015</td><td>3</td><td>5</td><td>-0.01</td><td>0.83</td><td>101.25</td><td>1.83</td></tr></tbody></table></div>"
      ],
      "text/latex": [
       "\\begin{tabular}{r|ccccccc}\n",
       "\t& YEAR & MO & DY & T2M & PRECTOT & PS & WS10M\\_RANGE\\\\\n",
       "\t\\hline\n",
       "\t& Int64 & Int64 & Int64 & Float64 & Float64 & Float64 & Float64\\\\\n",
       "\t\\hline\n",
       "\t1 & 2015 & 1 & 5 & -1.42 & 0.23 & 100.39 & 2.07 \\\\\n",
       "\t2 & 2015 & 1 & 6 & -7.95 & 0.01 & 101.49 & 3.92 \\\\\n",
       "\t3 & 2015 & 1 & 7 & -9.57 & 0.61 & 101.67 & 3.67 \\\\\n",
       "\t4 & 2015 & 1 & 8 & -2.99 & 2.54 & 100.91 & 6.33 \\\\\n",
       "\t5 & 2015 & 1 & 19 & -1.51 & 0.17 & 100.46 & 4.14 \\\\\n",
       "\t6 & 2015 & 1 & 20 & -0.41 & 1.01 & 100.18 & 3.44 \\\\\n",
       "\t7 & 2015 & 1 & 23 & -0.88 & 1.52 & 100.51 & 2.26 \\\\\n",
       "\t8 & 2015 & 1 & 24 & -2.4 & 1.62 & 100.5 & 2.27 \\\\\n",
       "\t9 & 2015 & 1 & 25 & -2.6 & 2.33 & 100.48 & 2.96 \\\\\n",
       "\t10 & 2015 & 1 & 26 & -3.31 & 0.19 & 100.77 & 2.58 \\\\\n",
       "\t11 & 2015 & 2 & 5 & -4.32 & 0.36 & 100.91 & 1.61 \\\\\n",
       "\t12 & 2015 & 2 & 6 & -5.87 & 0.05 & 101.46 & 1.56 \\\\\n",
       "\t13 & 2015 & 2 & 7 & -3.3 & 0.7 & 100.33 & 6.69 \\\\\n",
       "\t14 & 2015 & 2 & 11 & -0.21 & 0.24 & 101.19 & 1.94 \\\\\n",
       "\t15 & 2015 & 2 & 12 & -0.63 & 0.13 & 101.25 & 1.64 \\\\\n",
       "\t16 & 2015 & 2 & 13 & -1.0 & 0.06 & 100.96 & 1.21 \\\\\n",
       "\t17 & 2015 & 2 & 14 & -0.88 & 0.0 & 100.57 & 2.21 \\\\\n",
       "\t18 & 2015 & 2 & 15 & -1.97 & 0.05 & 101.0 & 4.69 \\\\\n",
       "\t19 & 2015 & 2 & 16 & -3.72 & 0.03 & 101.97 & 2.76 \\\\\n",
       "\t20 & 2015 & 2 & 17 & -5.49 & 0.0 & 102.3 & 4.92 \\\\\n",
       "\t21 & 2015 & 2 & 18 & -2.35 & 0.1 & 102.14 & 1.85 \\\\\n",
       "\t22 & 2015 & 3 & 5 & -0.01 & 0.83 & 101.25 & 1.83 \\\\\n",
       "\\end{tabular}\n"
      ],
      "text/plain": [
       "\u001b[1m22×7 DataFrame\u001b[0m\n",
       "\u001b[1m Row \u001b[0m│\u001b[1m YEAR  \u001b[0m\u001b[1m MO    \u001b[0m\u001b[1m DY    \u001b[0m\u001b[1m T2M     \u001b[0m\u001b[1m PRECTOT \u001b[0m\u001b[1m PS      \u001b[0m\u001b[1m WS10M_RANGE \u001b[0m\n",
       "\u001b[1m     \u001b[0m│\u001b[90m Int64 \u001b[0m\u001b[90m Int64 \u001b[0m\u001b[90m Int64 \u001b[0m\u001b[90m Float64 \u001b[0m\u001b[90m Float64 \u001b[0m\u001b[90m Float64 \u001b[0m\u001b[90m Float64     \u001b[0m\n",
       "─────┼─────────────────────────────────────────────────────────────\n",
       "   1 │  2015      1      5    -1.42     0.23   100.39         2.07\n",
       "   2 │  2015      1      6    -7.95     0.01   101.49         3.92\n",
       "   3 │  2015      1      7    -9.57     0.61   101.67         3.67\n",
       "   4 │  2015      1      8    -2.99     2.54   100.91         6.33\n",
       "   5 │  2015      1     19    -1.51     0.17   100.46         4.14\n",
       "   6 │  2015      1     20    -0.41     1.01   100.18         3.44\n",
       "   7 │  2015      1     23    -0.88     1.52   100.51         2.26\n",
       "   8 │  2015      1     24    -2.4      1.62   100.5          2.27\n",
       "  ⋮  │   ⋮      ⋮      ⋮       ⋮        ⋮        ⋮          ⋮\n",
       "  16 │  2015      2     13    -1.0      0.06   100.96         1.21\n",
       "  17 │  2015      2     14    -0.88     0.0    100.57         2.21\n",
       "  18 │  2015      2     15    -1.97     0.05   101.0          4.69\n",
       "  19 │  2015      2     16    -3.72     0.03   101.97         2.76\n",
       "  20 │  2015      2     17    -5.49     0.0    102.3          4.92\n",
       "  21 │  2015      2     18    -2.35     0.1    102.14         1.85\n",
       "  22 │  2015      3      5    -0.01     0.83   101.25         1.83\n",
       "\u001b[36m                                                     7 rows omitted\u001b[0m"
      ]
     },
     "metadata": {},
     "output_type": "display_data"
    }
   ],
   "source": [
    "df[(df.T2M .< 0.0) .& (df.PS .> 100.0), :]"
   ]
  },
  {
   "cell_type": "code",
   "execution_count": 29,
   "id": "f25e3a02",
   "metadata": {},
   "outputs": [
    {
     "data": {
      "text/html": [
       "<div class=\"data-frame\"><p>9 rows × 7 columns</p><table class=\"data-frame\"><thead><tr><th></th><th>YEAR</th><th>MO</th><th>DY</th><th>T2M</th><th>PRECTOT</th><th>PS</th><th>WS10M_RANGE</th></tr><tr><th></th><th title=\"Int64\">Int64</th><th title=\"Int64\">Int64</th><th title=\"Int64\">Int64</th><th title=\"Float64\">Float64</th><th title=\"Float64\">Float64</th><th title=\"Float64\">Float64</th><th title=\"Float64\">Float64</th></tr></thead><tbody><tr><th>1</th><td>2015</td><td>1</td><td>1</td><td>0.24</td><td>0.56</td><td>101.3</td><td>1.96</td></tr><tr><th>2</th><td>2015</td><td>1</td><td>2</td><td>1.43</td><td>1.48</td><td>100.14</td><td>5.6</td></tr><tr><th>3</th><td>2015</td><td>1</td><td>3</td><td>1.57</td><td>2.13</td><td>99.62</td><td>4.7</td></tr><tr><th>4</th><td>2015</td><td>1</td><td>4</td><td>0.53</td><td>0.43</td><td>99.43</td><td>2.32</td></tr><tr><th>5</th><td>2015</td><td>1</td><td>5</td><td>-1.42</td><td>0.23</td><td>100.39</td><td>2.07</td></tr><tr><th>6</th><td>2015</td><td>1</td><td>6</td><td>-7.95</td><td>0.01</td><td>101.49</td><td>3.92</td></tr><tr><th>7</th><td>2015</td><td>1</td><td>7</td><td>-9.57</td><td>0.61</td><td>101.67</td><td>3.67</td></tr><tr><th>8</th><td>2015</td><td>1</td><td>8</td><td>-2.99</td><td>2.54</td><td>100.91</td><td>6.33</td></tr><tr><th>9</th><td>2015</td><td>1</td><td>9</td><td>1.59</td><td>10.16</td><td>99.18</td><td>4.45</td></tr></tbody></table></div>"
      ],
      "text/latex": [
       "\\begin{tabular}{r|ccccccc}\n",
       "\t& YEAR & MO & DY & T2M & PRECTOT & PS & WS10M\\_RANGE\\\\\n",
       "\t\\hline\n",
       "\t& Int64 & Int64 & Int64 & Float64 & Float64 & Float64 & Float64\\\\\n",
       "\t\\hline\n",
       "\t1 & 2015 & 1 & 1 & 0.24 & 0.56 & 101.3 & 1.96 \\\\\n",
       "\t2 & 2015 & 1 & 2 & 1.43 & 1.48 & 100.14 & 5.6 \\\\\n",
       "\t3 & 2015 & 1 & 3 & 1.57 & 2.13 & 99.62 & 4.7 \\\\\n",
       "\t4 & 2015 & 1 & 4 & 0.53 & 0.43 & 99.43 & 2.32 \\\\\n",
       "\t5 & 2015 & 1 & 5 & -1.42 & 0.23 & 100.39 & 2.07 \\\\\n",
       "\t6 & 2015 & 1 & 6 & -7.95 & 0.01 & 101.49 & 3.92 \\\\\n",
       "\t7 & 2015 & 1 & 7 & -9.57 & 0.61 & 101.67 & 3.67 \\\\\n",
       "\t8 & 2015 & 1 & 8 & -2.99 & 2.54 & 100.91 & 6.33 \\\\\n",
       "\t9 & 2015 & 1 & 9 & 1.59 & 10.16 & 99.18 & 4.45 \\\\\n",
       "\\end{tabular}\n"
      ],
      "text/plain": [
       "\u001b[1m9×7 DataFrame\u001b[0m\n",
       "\u001b[1m Row \u001b[0m│\u001b[1m YEAR  \u001b[0m\u001b[1m MO    \u001b[0m\u001b[1m DY    \u001b[0m\u001b[1m T2M     \u001b[0m\u001b[1m PRECTOT \u001b[0m\u001b[1m PS      \u001b[0m\u001b[1m WS10M_RANGE \u001b[0m\n",
       "\u001b[1m     \u001b[0m│\u001b[90m Int64 \u001b[0m\u001b[90m Int64 \u001b[0m\u001b[90m Int64 \u001b[0m\u001b[90m Float64 \u001b[0m\u001b[90m Float64 \u001b[0m\u001b[90m Float64 \u001b[0m\u001b[90m Float64     \u001b[0m\n",
       "─────┼─────────────────────────────────────────────────────────────\n",
       "   1 │  2015      1      1     0.24     0.56   101.3          1.96\n",
       "   2 │  2015      1      2     1.43     1.48   100.14         5.6\n",
       "   3 │  2015      1      3     1.57     2.13    99.62         4.7\n",
       "   4 │  2015      1      4     0.53     0.43    99.43         2.32\n",
       "   5 │  2015      1      5    -1.42     0.23   100.39         2.07\n",
       "   6 │  2015      1      6    -7.95     0.01   101.49         3.92\n",
       "   7 │  2015      1      7    -9.57     0.61   101.67         3.67\n",
       "   8 │  2015      1      8    -2.99     2.54   100.91         6.33\n",
       "   9 │  2015      1      9     1.59    10.16    99.18         4.45"
      ]
     },
     "metadata": {},
     "output_type": "display_data"
    }
   ],
   "source": [
    "subset(df, :DY => d -> d .< 10, :MO => m -> m .== 1)"
   ]
  },
  {
   "cell_type": "code",
   "execution_count": 30,
   "id": "0d84847e",
   "metadata": {},
   "outputs": [
    {
     "data": {
      "text/html": [
       "<div class=\"data-frame\"><p>64 rows × 8 columns</p><table class=\"data-frame\"><thead><tr><th></th><th>YEAR</th><th>MO</th><th>DY</th><th>T2M</th><th>PRECTOT</th><th>PS</th><th>WS10M_RANGE</th><th>Date</th></tr><tr><th></th><th title=\"Int64\">Int64</th><th title=\"Int64\">Int64</th><th title=\"Int64\">Int64</th><th title=\"Float64\">Float64</th><th title=\"Float64\">Float64</th><th title=\"Float64\">Float64</th><th title=\"Float64\">Float64</th><th title=\"Date\">Date</th></tr></thead><tbody><tr><th>1</th><td>2015</td><td>1</td><td>1</td><td>0.24</td><td>0.56</td><td>101.3</td><td>1.96</td><td>2015-01-01</td></tr><tr><th>2</th><td>2015</td><td>1</td><td>2</td><td>1.43</td><td>1.48</td><td>100.14</td><td>5.6</td><td>2015-01-02</td></tr><tr><th>3</th><td>2015</td><td>1</td><td>3</td><td>1.57</td><td>2.13</td><td>99.62</td><td>4.7</td><td>2015-01-03</td></tr><tr><th>4</th><td>2015</td><td>1</td><td>4</td><td>0.53</td><td>0.43</td><td>99.43</td><td>2.32</td><td>2015-01-04</td></tr><tr><th>5</th><td>2015</td><td>1</td><td>5</td><td>-1.42</td><td>0.23</td><td>100.39</td><td>2.07</td><td>2015-01-05</td></tr><tr><th>6</th><td>2015</td><td>1</td><td>6</td><td>-7.95</td><td>0.01</td><td>101.49</td><td>3.92</td><td>2015-01-06</td></tr><tr><th>7</th><td>2015</td><td>1</td><td>7</td><td>-9.57</td><td>0.61</td><td>101.67</td><td>3.67</td><td>2015-01-07</td></tr><tr><th>8</th><td>2015</td><td>1</td><td>8</td><td>-2.99</td><td>2.54</td><td>100.91</td><td>6.33</td><td>2015-01-08</td></tr><tr><th>9</th><td>2015</td><td>1</td><td>9</td><td>1.59</td><td>10.16</td><td>99.18</td><td>4.45</td><td>2015-01-09</td></tr><tr><th>10</th><td>2015</td><td>1</td><td>10</td><td>3.15</td><td>5.46</td><td>98.29</td><td>8.3</td><td>2015-01-10</td></tr><tr><th>11</th><td>2015</td><td>1</td><td>11</td><td>1.74</td><td>0.84</td><td>98.5</td><td>1.77</td><td>2015-01-11</td></tr><tr><th>12</th><td>2015</td><td>1</td><td>12</td><td>2.42</td><td>1.72</td><td>99.52</td><td>4.15</td><td>2015-01-12</td></tr><tr><th>13</th><td>2015</td><td>1</td><td>13</td><td>4.12</td><td>0.66</td><td>99.66</td><td>3.12</td><td>2015-01-13</td></tr><tr><th>14</th><td>2015</td><td>1</td><td>14</td><td>2.78</td><td>0.67</td><td>99.56</td><td>6.18</td><td>2015-01-14</td></tr><tr><th>15</th><td>2015</td><td>1</td><td>15</td><td>0.08</td><td>0.48</td><td>100.02</td><td>3.94</td><td>2015-01-15</td></tr><tr><th>16</th><td>2015</td><td>1</td><td>16</td><td>1.71</td><td>0.01</td><td>99.77</td><td>3.65</td><td>2015-01-16</td></tr><tr><th>17</th><td>2015</td><td>1</td><td>17</td><td>1.33</td><td>0.97</td><td>99.7</td><td>3.73</td><td>2015-01-17</td></tr><tr><th>18</th><td>2015</td><td>1</td><td>18</td><td>0.41</td><td>1.13</td><td>100.49</td><td>1.09</td><td>2015-01-18</td></tr><tr><th>19</th><td>2015</td><td>1</td><td>19</td><td>-1.51</td><td>0.17</td><td>100.46</td><td>4.14</td><td>2015-01-19</td></tr><tr><th>20</th><td>2015</td><td>1</td><td>20</td><td>-0.41</td><td>1.01</td><td>100.18</td><td>3.44</td><td>2015-01-20</td></tr><tr><th>21</th><td>2015</td><td>1</td><td>21</td><td>0.48</td><td>0.35</td><td>100.23</td><td>1.9</td><td>2015-01-21</td></tr><tr><th>22</th><td>2015</td><td>1</td><td>22</td><td>0.03</td><td>3.04</td><td>100.53</td><td>3.12</td><td>2015-01-22</td></tr><tr><th>23</th><td>2015</td><td>1</td><td>23</td><td>-0.88</td><td>1.52</td><td>100.51</td><td>2.26</td><td>2015-01-23</td></tr><tr><th>24</th><td>2015</td><td>1</td><td>24</td><td>-2.4</td><td>1.62</td><td>100.5</td><td>2.27</td><td>2015-01-24</td></tr><tr><th>&vellip;</th><td>&vellip;</td><td>&vellip;</td><td>&vellip;</td><td>&vellip;</td><td>&vellip;</td><td>&vellip;</td><td>&vellip;</td><td>&vellip;</td></tr></tbody></table></div>"
      ],
      "text/latex": [
       "\\begin{tabular}{r|cccccccc}\n",
       "\t& YEAR & MO & DY & T2M & PRECTOT & PS & WS10M\\_RANGE & Date\\\\\n",
       "\t\\hline\n",
       "\t& Int64 & Int64 & Int64 & Float64 & Float64 & Float64 & Float64 & Date\\\\\n",
       "\t\\hline\n",
       "\t1 & 2015 & 1 & 1 & 0.24 & 0.56 & 101.3 & 1.96 & 2015-01-01 \\\\\n",
       "\t2 & 2015 & 1 & 2 & 1.43 & 1.48 & 100.14 & 5.6 & 2015-01-02 \\\\\n",
       "\t3 & 2015 & 1 & 3 & 1.57 & 2.13 & 99.62 & 4.7 & 2015-01-03 \\\\\n",
       "\t4 & 2015 & 1 & 4 & 0.53 & 0.43 & 99.43 & 2.32 & 2015-01-04 \\\\\n",
       "\t5 & 2015 & 1 & 5 & -1.42 & 0.23 & 100.39 & 2.07 & 2015-01-05 \\\\\n",
       "\t6 & 2015 & 1 & 6 & -7.95 & 0.01 & 101.49 & 3.92 & 2015-01-06 \\\\\n",
       "\t7 & 2015 & 1 & 7 & -9.57 & 0.61 & 101.67 & 3.67 & 2015-01-07 \\\\\n",
       "\t8 & 2015 & 1 & 8 & -2.99 & 2.54 & 100.91 & 6.33 & 2015-01-08 \\\\\n",
       "\t9 & 2015 & 1 & 9 & 1.59 & 10.16 & 99.18 & 4.45 & 2015-01-09 \\\\\n",
       "\t10 & 2015 & 1 & 10 & 3.15 & 5.46 & 98.29 & 8.3 & 2015-01-10 \\\\\n",
       "\t11 & 2015 & 1 & 11 & 1.74 & 0.84 & 98.5 & 1.77 & 2015-01-11 \\\\\n",
       "\t12 & 2015 & 1 & 12 & 2.42 & 1.72 & 99.52 & 4.15 & 2015-01-12 \\\\\n",
       "\t13 & 2015 & 1 & 13 & 4.12 & 0.66 & 99.66 & 3.12 & 2015-01-13 \\\\\n",
       "\t14 & 2015 & 1 & 14 & 2.78 & 0.67 & 99.56 & 6.18 & 2015-01-14 \\\\\n",
       "\t15 & 2015 & 1 & 15 & 0.08 & 0.48 & 100.02 & 3.94 & 2015-01-15 \\\\\n",
       "\t16 & 2015 & 1 & 16 & 1.71 & 0.01 & 99.77 & 3.65 & 2015-01-16 \\\\\n",
       "\t17 & 2015 & 1 & 17 & 1.33 & 0.97 & 99.7 & 3.73 & 2015-01-17 \\\\\n",
       "\t18 & 2015 & 1 & 18 & 0.41 & 1.13 & 100.49 & 1.09 & 2015-01-18 \\\\\n",
       "\t19 & 2015 & 1 & 19 & -1.51 & 0.17 & 100.46 & 4.14 & 2015-01-19 \\\\\n",
       "\t20 & 2015 & 1 & 20 & -0.41 & 1.01 & 100.18 & 3.44 & 2015-01-20 \\\\\n",
       "\t21 & 2015 & 1 & 21 & 0.48 & 0.35 & 100.23 & 1.9 & 2015-01-21 \\\\\n",
       "\t22 & 2015 & 1 & 22 & 0.03 & 3.04 & 100.53 & 3.12 & 2015-01-22 \\\\\n",
       "\t23 & 2015 & 1 & 23 & -0.88 & 1.52 & 100.51 & 2.26 & 2015-01-23 \\\\\n",
       "\t24 & 2015 & 1 & 24 & -2.4 & 1.62 & 100.5 & 2.27 & 2015-01-24 \\\\\n",
       "\t$\\dots$ & $\\dots$ & $\\dots$ & $\\dots$ & $\\dots$ & $\\dots$ & $\\dots$ & $\\dots$ & $\\dots$ \\\\\n",
       "\\end{tabular}\n"
      ],
      "text/plain": [
       "\u001b[1m64×8 DataFrame\u001b[0m\n",
       "\u001b[1m Row \u001b[0m│\u001b[1m YEAR  \u001b[0m\u001b[1m MO    \u001b[0m\u001b[1m DY    \u001b[0m\u001b[1m T2M     \u001b[0m\u001b[1m PRECTOT \u001b[0m\u001b[1m PS      \u001b[0m\u001b[1m WS10M_RANGE \u001b[0m\u001b[1m Date      \u001b[0m ⋯\n",
       "\u001b[1m     \u001b[0m│\u001b[90m Int64 \u001b[0m\u001b[90m Int64 \u001b[0m\u001b[90m Int64 \u001b[0m\u001b[90m Float64 \u001b[0m\u001b[90m Float64 \u001b[0m\u001b[90m Float64 \u001b[0m\u001b[90m Float64     \u001b[0m\u001b[90m Date      \u001b[0m ⋯\n",
       "─────┼──────────────────────────────────────────────────────────────────────────\n",
       "   1 │  2015      1      1     0.24     0.56   101.3          1.96  2015-01-01 ⋯\n",
       "   2 │  2015      1      2     1.43     1.48   100.14         5.6   2015-01-02\n",
       "   3 │  2015      1      3     1.57     2.13    99.62         4.7   2015-01-03\n",
       "   4 │  2015      1      4     0.53     0.43    99.43         2.32  2015-01-04\n",
       "   5 │  2015      1      5    -1.42     0.23   100.39         2.07  2015-01-05 ⋯\n",
       "   6 │  2015      1      6    -7.95     0.01   101.49         3.92  2015-01-06\n",
       "   7 │  2015      1      7    -9.57     0.61   101.67         3.67  2015-01-07\n",
       "   8 │  2015      1      8    -2.99     2.54   100.91         6.33  2015-01-08\n",
       "  ⋮  │   ⋮      ⋮      ⋮       ⋮        ⋮        ⋮          ⋮           ⋮      ⋱\n",
       "  58 │  2015      2     27     3.62     0.1    100.21         1.89  2015-02-27 ⋯\n",
       "  59 │  2015      2     28     2.81     0.16   100.32         2.53  2015-02-28\n",
       "  60 │  2015      3      1     2.67     0.51    99.75         4.88  2015-03-01\n",
       "  61 │  2015      3      2     3.0      2.81    98.72         4.3   2015-03-02\n",
       "  62 │  2015      3      3     1.21     0.69    99.78         4.94  2015-03-03 ⋯\n",
       "  63 │  2015      3      4     0.7      3.99   100.23         7.95  2015-03-04\n",
       "  64 │  2015      3      5    -0.01     0.83   101.25         1.83  2015-03-05\n",
       "\u001b[36m                                                                49 rows omitted\u001b[0m"
      ]
     },
     "metadata": {},
     "output_type": "display_data"
    }
   ],
   "source": [
    "transform!(df, [:YEAR, :MO, :DY] => ((y, m, d) -> Date.(y, m, d)) => :Date)"
   ]
  },
  {
   "cell_type": "code",
   "execution_count": 31,
   "id": "fe1b2d7c",
   "metadata": {},
   "outputs": [
    {
     "data": {
      "text/html": [
       "<div class=\"data-frame\"><p>64 rows × 5 columns</p><table class=\"data-frame\"><thead><tr><th></th><th>T2M</th><th>PRECTOT</th><th>PS</th><th>WS10M_RANGE</th><th>Date</th></tr><tr><th></th><th title=\"Float64\">Float64</th><th title=\"Float64\">Float64</th><th title=\"Float64\">Float64</th><th title=\"Float64\">Float64</th><th title=\"Date\">Date</th></tr></thead><tbody><tr><th>1</th><td>0.24</td><td>0.56</td><td>101.3</td><td>1.96</td><td>2015-01-01</td></tr><tr><th>2</th><td>1.43</td><td>1.48</td><td>100.14</td><td>5.6</td><td>2015-01-02</td></tr><tr><th>3</th><td>1.57</td><td>2.13</td><td>99.62</td><td>4.7</td><td>2015-01-03</td></tr><tr><th>4</th><td>0.53</td><td>0.43</td><td>99.43</td><td>2.32</td><td>2015-01-04</td></tr><tr><th>5</th><td>-1.42</td><td>0.23</td><td>100.39</td><td>2.07</td><td>2015-01-05</td></tr><tr><th>6</th><td>-7.95</td><td>0.01</td><td>101.49</td><td>3.92</td><td>2015-01-06</td></tr><tr><th>7</th><td>-9.57</td><td>0.61</td><td>101.67</td><td>3.67</td><td>2015-01-07</td></tr><tr><th>8</th><td>-2.99</td><td>2.54</td><td>100.91</td><td>6.33</td><td>2015-01-08</td></tr><tr><th>9</th><td>1.59</td><td>10.16</td><td>99.18</td><td>4.45</td><td>2015-01-09</td></tr><tr><th>10</th><td>3.15</td><td>5.46</td><td>98.29</td><td>8.3</td><td>2015-01-10</td></tr><tr><th>11</th><td>1.74</td><td>0.84</td><td>98.5</td><td>1.77</td><td>2015-01-11</td></tr><tr><th>12</th><td>2.42</td><td>1.72</td><td>99.52</td><td>4.15</td><td>2015-01-12</td></tr><tr><th>13</th><td>4.12</td><td>0.66</td><td>99.66</td><td>3.12</td><td>2015-01-13</td></tr><tr><th>14</th><td>2.78</td><td>0.67</td><td>99.56</td><td>6.18</td><td>2015-01-14</td></tr><tr><th>15</th><td>0.08</td><td>0.48</td><td>100.02</td><td>3.94</td><td>2015-01-15</td></tr><tr><th>16</th><td>1.71</td><td>0.01</td><td>99.77</td><td>3.65</td><td>2015-01-16</td></tr><tr><th>17</th><td>1.33</td><td>0.97</td><td>99.7</td><td>3.73</td><td>2015-01-17</td></tr><tr><th>18</th><td>0.41</td><td>1.13</td><td>100.49</td><td>1.09</td><td>2015-01-18</td></tr><tr><th>19</th><td>-1.51</td><td>0.17</td><td>100.46</td><td>4.14</td><td>2015-01-19</td></tr><tr><th>20</th><td>-0.41</td><td>1.01</td><td>100.18</td><td>3.44</td><td>2015-01-20</td></tr><tr><th>21</th><td>0.48</td><td>0.35</td><td>100.23</td><td>1.9</td><td>2015-01-21</td></tr><tr><th>22</th><td>0.03</td><td>3.04</td><td>100.53</td><td>3.12</td><td>2015-01-22</td></tr><tr><th>23</th><td>-0.88</td><td>1.52</td><td>100.51</td><td>2.26</td><td>2015-01-23</td></tr><tr><th>24</th><td>-2.4</td><td>1.62</td><td>100.5</td><td>2.27</td><td>2015-01-24</td></tr><tr><th>&vellip;</th><td>&vellip;</td><td>&vellip;</td><td>&vellip;</td><td>&vellip;</td><td>&vellip;</td></tr></tbody></table></div>"
      ],
      "text/latex": [
       "\\begin{tabular}{r|ccccc}\n",
       "\t& T2M & PRECTOT & PS & WS10M\\_RANGE & Date\\\\\n",
       "\t\\hline\n",
       "\t& Float64 & Float64 & Float64 & Float64 & Date\\\\\n",
       "\t\\hline\n",
       "\t1 & 0.24 & 0.56 & 101.3 & 1.96 & 2015-01-01 \\\\\n",
       "\t2 & 1.43 & 1.48 & 100.14 & 5.6 & 2015-01-02 \\\\\n",
       "\t3 & 1.57 & 2.13 & 99.62 & 4.7 & 2015-01-03 \\\\\n",
       "\t4 & 0.53 & 0.43 & 99.43 & 2.32 & 2015-01-04 \\\\\n",
       "\t5 & -1.42 & 0.23 & 100.39 & 2.07 & 2015-01-05 \\\\\n",
       "\t6 & -7.95 & 0.01 & 101.49 & 3.92 & 2015-01-06 \\\\\n",
       "\t7 & -9.57 & 0.61 & 101.67 & 3.67 & 2015-01-07 \\\\\n",
       "\t8 & -2.99 & 2.54 & 100.91 & 6.33 & 2015-01-08 \\\\\n",
       "\t9 & 1.59 & 10.16 & 99.18 & 4.45 & 2015-01-09 \\\\\n",
       "\t10 & 3.15 & 5.46 & 98.29 & 8.3 & 2015-01-10 \\\\\n",
       "\t11 & 1.74 & 0.84 & 98.5 & 1.77 & 2015-01-11 \\\\\n",
       "\t12 & 2.42 & 1.72 & 99.52 & 4.15 & 2015-01-12 \\\\\n",
       "\t13 & 4.12 & 0.66 & 99.66 & 3.12 & 2015-01-13 \\\\\n",
       "\t14 & 2.78 & 0.67 & 99.56 & 6.18 & 2015-01-14 \\\\\n",
       "\t15 & 0.08 & 0.48 & 100.02 & 3.94 & 2015-01-15 \\\\\n",
       "\t16 & 1.71 & 0.01 & 99.77 & 3.65 & 2015-01-16 \\\\\n",
       "\t17 & 1.33 & 0.97 & 99.7 & 3.73 & 2015-01-17 \\\\\n",
       "\t18 & 0.41 & 1.13 & 100.49 & 1.09 & 2015-01-18 \\\\\n",
       "\t19 & -1.51 & 0.17 & 100.46 & 4.14 & 2015-01-19 \\\\\n",
       "\t20 & -0.41 & 1.01 & 100.18 & 3.44 & 2015-01-20 \\\\\n",
       "\t21 & 0.48 & 0.35 & 100.23 & 1.9 & 2015-01-21 \\\\\n",
       "\t22 & 0.03 & 3.04 & 100.53 & 3.12 & 2015-01-22 \\\\\n",
       "\t23 & -0.88 & 1.52 & 100.51 & 2.26 & 2015-01-23 \\\\\n",
       "\t24 & -2.4 & 1.62 & 100.5 & 2.27 & 2015-01-24 \\\\\n",
       "\t$\\dots$ & $\\dots$ & $\\dots$ & $\\dots$ & $\\dots$ & $\\dots$ \\\\\n",
       "\\end{tabular}\n"
      ],
      "text/plain": [
       "\u001b[1m64×5 DataFrame\u001b[0m\n",
       "\u001b[1m Row \u001b[0m│\u001b[1m T2M     \u001b[0m\u001b[1m PRECTOT \u001b[0m\u001b[1m PS      \u001b[0m\u001b[1m WS10M_RANGE \u001b[0m\u001b[1m Date       \u001b[0m\n",
       "\u001b[1m     \u001b[0m│\u001b[90m Float64 \u001b[0m\u001b[90m Float64 \u001b[0m\u001b[90m Float64 \u001b[0m\u001b[90m Float64     \u001b[0m\u001b[90m Date       \u001b[0m\n",
       "─────┼────────────────────────────────────────────────────\n",
       "   1 │    0.24     0.56   101.3          1.96  2015-01-01\n",
       "   2 │    1.43     1.48   100.14         5.6   2015-01-02\n",
       "   3 │    1.57     2.13    99.62         4.7   2015-01-03\n",
       "   4 │    0.53     0.43    99.43         2.32  2015-01-04\n",
       "   5 │   -1.42     0.23   100.39         2.07  2015-01-05\n",
       "   6 │   -7.95     0.01   101.49         3.92  2015-01-06\n",
       "   7 │   -9.57     0.61   101.67         3.67  2015-01-07\n",
       "   8 │   -2.99     2.54   100.91         6.33  2015-01-08\n",
       "  ⋮  │    ⋮        ⋮        ⋮          ⋮           ⋮\n",
       "  58 │    3.62     0.1    100.21         1.89  2015-02-27\n",
       "  59 │    2.81     0.16   100.32         2.53  2015-02-28\n",
       "  60 │    2.67     0.51    99.75         4.88  2015-03-01\n",
       "  61 │    3.0      2.81    98.72         4.3   2015-03-02\n",
       "  62 │    1.21     0.69    99.78         4.94  2015-03-03\n",
       "  63 │    0.7      3.99   100.23         7.95  2015-03-04\n",
       "  64 │   -0.01     0.83   101.25         1.83  2015-03-05\n",
       "\u001b[36m                                           49 rows omitted\u001b[0m"
      ]
     },
     "metadata": {},
     "output_type": "display_data"
    }
   ],
   "source": [
    "select!(df, Not([:YEAR, :MO, :DY]))"
   ]
  },
  {
   "cell_type": "code",
   "execution_count": 32,
   "id": "9e063bff",
   "metadata": {},
   "outputs": [],
   "source": [
    "using GRUtils"
   ]
  },
  {
   "cell_type": "code",
   "execution_count": 33,
   "id": "f801c453",
   "metadata": {},
   "outputs": [
    {
     "data": {
      "image/svg+xml": "<?xml version=\"1.0\" encoding=\"utf-8\"?>\n<svg xmlns=\"http://www.w3.org/2000/svg\" xmlns:xlink=\"http://www.w3.org/1999/xlink\" width=\"600\" height=\"450\" viewBox=\"0 0 2400 1800\">\n<defs>\n  <clipPath id=\"clip490\">\n    <rect x=\"300\" y=\"135\" width=\"1921\" height=\"1441\"/>\n  </clipPath>\n</defs>\n<defs>\n  <clipPath id=\"clip491\">\n    <rect x=\"0\" y=\"0\" width=\"2400\" height=\"1800\"/>\n  </clipPath>\n</defs>\n<path clip-path=\"url(#clip491)\" d=\"\nM300 1575 L2220 1575 L2220 135 L300 135  Z\n  \" fill=\"#ffffff\" fill-rule=\"evenodd\" fill-opacity=\"1\"/>\n<polyline clip-path=\"url(#clip491)\" style=\"stroke:#cccccc; stroke-linecap:butt; stroke-linejoin:round; stroke-width:3.6; stroke-opacity:1; fill:none\" points=\"\n  300,1575 2220,1575 \n  \"/>\n<polyline clip-path=\"url(#clip491)\" style=\"stroke:#ededed; stroke-linecap:butt; stroke-linejoin:round; stroke-width:3.6; stroke-opacity:1; fill:none\" points=\"\n  300,1479 2220,1479 \n  \"/>\n<polyline clip-path=\"url(#clip491)\" style=\"stroke:#ededed; stroke-linecap:butt; stroke-linejoin:round; stroke-width:3.6; stroke-opacity:1; fill:none\" points=\"\n  300,1383 2220,1383 \n  \"/>\n<polyline clip-path=\"url(#clip491)\" style=\"stroke:#ededed; stroke-linecap:butt; stroke-linejoin:round; stroke-width:3.6; stroke-opacity:1; fill:none\" points=\"\n  300,1287 2220,1287 \n  \"/>\n<polyline clip-path=\"url(#clip491)\" style=\"stroke:#ededed; stroke-linecap:butt; stroke-linejoin:round; stroke-width:3.6; stroke-opacity:1; fill:none\" points=\"\n  300,1191 2220,1191 \n  \"/>\n<polyline clip-path=\"url(#clip491)\" style=\"stroke:#cccccc; stroke-linecap:butt; stroke-linejoin:round; stroke-width:3.6; stroke-opacity:1; fill:none\" points=\"\n  300,1095 2220,1095 \n  \"/>\n<polyline clip-path=\"url(#clip491)\" style=\"stroke:#ededed; stroke-linecap:butt; stroke-linejoin:round; stroke-width:3.6; stroke-opacity:1; fill:none\" points=\"\n  300,999 2220,999 \n  \"/>\n<polyline clip-path=\"url(#clip491)\" style=\"stroke:#ededed; stroke-linecap:butt; stroke-linejoin:round; stroke-width:3.6; stroke-opacity:1; fill:none\" points=\"\n  300,903 2220,903 \n  \"/>\n<polyline clip-path=\"url(#clip491)\" style=\"stroke:#ededed; stroke-linecap:butt; stroke-linejoin:round; stroke-width:3.6; stroke-opacity:1; fill:none\" points=\"\n  300,807 2220,807 \n  \"/>\n<polyline clip-path=\"url(#clip491)\" style=\"stroke:#ededed; stroke-linecap:butt; stroke-linejoin:round; stroke-width:3.6; stroke-opacity:1; fill:none\" points=\"\n  300,711 2220,711 \n  \"/>\n<polyline clip-path=\"url(#clip491)\" style=\"stroke:#cccccc; stroke-linecap:butt; stroke-linejoin:round; stroke-width:3.6; stroke-opacity:1; fill:none\" points=\"\n  300,615 2220,615 \n  \"/>\n<polyline clip-path=\"url(#clip491)\" style=\"stroke:#ededed; stroke-linecap:butt; stroke-linejoin:round; stroke-width:3.6; stroke-opacity:1; fill:none\" points=\"\n  300,519 2220,519 \n  \"/>\n<polyline clip-path=\"url(#clip491)\" style=\"stroke:#ededed; stroke-linecap:butt; stroke-linejoin:round; stroke-width:3.6; stroke-opacity:1; fill:none\" points=\"\n  300,423 2220,423 \n  \"/>\n<polyline clip-path=\"url(#clip491)\" style=\"stroke:#ededed; stroke-linecap:butt; stroke-linejoin:round; stroke-width:3.6; stroke-opacity:1; fill:none\" points=\"\n  300,327 2220,327 \n  \"/>\n<polyline clip-path=\"url(#clip491)\" style=\"stroke:#ededed; stroke-linecap:butt; stroke-linejoin:round; stroke-width:3.6; stroke-opacity:1; fill:none\" points=\"\n  300,231 2220,231 \n  \"/>\n<polyline clip-path=\"url(#clip491)\" style=\"stroke:#cccccc; stroke-linecap:butt; stroke-linejoin:round; stroke-width:3.6; stroke-opacity:1; fill:none\" points=\"\n  300,135 2220,135 \n  \"/>\n<polyline clip-path=\"url(#clip491)\" style=\"stroke:#cccccc; stroke-linecap:butt; stroke-linejoin:round; stroke-width:3.6; stroke-opacity:1; fill:none\" points=\"\n  300,1575 300,135 \n  \"/>\n<polyline clip-path=\"url(#clip491)\" style=\"stroke:#ededed; stroke-linecap:butt; stroke-linejoin:round; stroke-width:3.6; stroke-opacity:1; fill:none\" points=\"\n  409.714,1575 409.714,135 \n  \"/>\n<polyline clip-path=\"url(#clip491)\" style=\"stroke:#ededed; stroke-linecap:butt; stroke-linejoin:round; stroke-width:3.6; stroke-opacity:1; fill:none\" points=\"\n  519.429,1575 519.429,135 \n  \"/>\n<polyline clip-path=\"url(#clip491)\" style=\"stroke:#ededed; stroke-linecap:butt; stroke-linejoin:round; stroke-width:3.6; stroke-opacity:1; fill:none\" points=\"\n  629.143,1575 629.143,135 \n  \"/>\n<polyline clip-path=\"url(#clip491)\" style=\"stroke:#ededed; stroke-linecap:butt; stroke-linejoin:round; stroke-width:3.6; stroke-opacity:1; fill:none\" points=\"\n  738.857,1575 738.857,135 \n  \"/>\n<polyline clip-path=\"url(#clip491)\" style=\"stroke:#cccccc; stroke-linecap:butt; stroke-linejoin:round; stroke-width:3.6; stroke-opacity:1; fill:none\" points=\"\n  848.571,1575 848.571,135 \n  \"/>\n<polyline clip-path=\"url(#clip491)\" style=\"stroke:#ededed; stroke-linecap:butt; stroke-linejoin:round; stroke-width:3.6; stroke-opacity:1; fill:none\" points=\"\n  958.286,1575 958.286,135 \n  \"/>\n<polyline clip-path=\"url(#clip491)\" style=\"stroke:#ededed; stroke-linecap:butt; stroke-linejoin:round; stroke-width:3.6; stroke-opacity:1; fill:none\" points=\"\n  1068,1575 1068,135 \n  \"/>\n<polyline clip-path=\"url(#clip491)\" style=\"stroke:#ededed; stroke-linecap:butt; stroke-linejoin:round; stroke-width:3.6; stroke-opacity:1; fill:none\" points=\"\n  1177.71,1575 1177.71,135 \n  \"/>\n<polyline clip-path=\"url(#clip491)\" style=\"stroke:#ededed; stroke-linecap:butt; stroke-linejoin:round; stroke-width:3.6; stroke-opacity:1; fill:none\" points=\"\n  1287.43,1575 1287.43,135 \n  \"/>\n<polyline clip-path=\"url(#clip491)\" style=\"stroke:#cccccc; stroke-linecap:butt; stroke-linejoin:round; stroke-width:3.6; stroke-opacity:1; fill:none\" points=\"\n  1397.14,1575 1397.14,135 \n  \"/>\n<polyline clip-path=\"url(#clip491)\" style=\"stroke:#ededed; stroke-linecap:butt; stroke-linejoin:round; stroke-width:3.6; stroke-opacity:1; fill:none\" points=\"\n  1506.86,1575 1506.86,135 \n  \"/>\n<polyline clip-path=\"url(#clip491)\" style=\"stroke:#ededed; stroke-linecap:butt; stroke-linejoin:round; stroke-width:3.6; stroke-opacity:1; fill:none\" points=\"\n  1616.57,1575 1616.57,135 \n  \"/>\n<polyline clip-path=\"url(#clip491)\" style=\"stroke:#ededed; stroke-linecap:butt; stroke-linejoin:round; stroke-width:3.6; stroke-opacity:1; fill:none\" points=\"\n  1726.29,1575 1726.29,135 \n  \"/>\n<polyline clip-path=\"url(#clip491)\" style=\"stroke:#ededed; stroke-linecap:butt; stroke-linejoin:round; stroke-width:3.6; stroke-opacity:1; fill:none\" points=\"\n  1836,1575 1836,135 \n  \"/>\n<polyline clip-path=\"url(#clip491)\" style=\"stroke:#cccccc; stroke-linecap:butt; stroke-linejoin:round; stroke-width:3.6; stroke-opacity:1; fill:none\" points=\"\n  1945.71,1575 1945.71,135 \n  \"/>\n<polyline clip-path=\"url(#clip491)\" style=\"stroke:#ededed; stroke-linecap:butt; stroke-linejoin:round; stroke-width:3.6; stroke-opacity:1; fill:none\" points=\"\n  2055.43,1575 2055.43,135 \n  \"/>\n<polyline clip-path=\"url(#clip491)\" style=\"stroke:#ededed; stroke-linecap:butt; stroke-linejoin:round; stroke-width:3.6; stroke-opacity:1; fill:none\" points=\"\n  2165.14,1575 2165.14,135 \n  \"/>\n<path clip-path=\"url(#clip491)\" d=\"M217.401 1575.36 Q217.771 1575.73 217.771 1576.25 Q217.771 1576.78 217.401 1577.15 Q217.03 1577.52 216.505 1577.52 L176.918 1577.52 Q176.393 1577.52 176.023 1577.15 Q175.652 1576.78 175.652 1576.25 Q175.652 1575.73 176.023 1575.36 Q176.393 1574.99 176.918 1574.99 L216.505 1574.99 Q217.03 1574.99 217.401 1575.36 Z\" fill=\"#000000\" fill-rule=\"evenodd\" fill-opacity=\"1\" /><path clip-path=\"url(#clip491)\" d=\"M226.912 1555.97 L226.912 1553.99 Q234.508 1553.99 238.429 1549.94 Q239.51 1549.94 239.695 1550.19 Q239.881 1550.44 239.881 1551.58 L239.881 1587.06 Q239.881 1588.95 240.807 1589.53 Q241.734 1590.12 245.779 1590.12 L247.786 1590.12 L247.786 1592.06 Q245.563 1591.88 237.534 1591.88 Q229.505 1591.88 227.313 1592.06 L227.313 1590.12 L229.32 1590.12 Q233.304 1590.12 234.261 1589.56 Q235.218 1588.98 235.218 1587.06 L235.218 1554.3 Q231.914 1555.97 226.912 1555.97 Z\" fill=\"#000000\" fill-rule=\"evenodd\" fill-opacity=\"1\" /><path clip-path=\"url(#clip491)\" d=\"M255.382 1571.84 Q255.382 1562.54 257.729 1557.48 Q261.002 1549.94 268.722 1549.94 Q270.359 1549.94 272.057 1550.41 Q273.786 1550.84 275.948 1552.54 Q278.14 1554.24 279.468 1557.02 Q282 1562.39 282 1571.84 Q282 1581.07 279.653 1586.1 Q276.226 1593.45 268.66 1593.45 Q265.819 1593.45 262.917 1592 Q260.045 1590.55 258.223 1587.06 Q255.382 1581.84 255.382 1571.84 M260.632 1571.07 Q260.632 1580.61 261.311 1584.41 Q262.083 1588.51 264.183 1590.3 Q266.313 1592.06 268.66 1592.06 Q271.192 1592.06 273.292 1590.18 Q275.423 1588.27 276.071 1584.16 Q276.781 1580.11 276.751 1571.07 Q276.751 1562.27 276.133 1558.75 Q275.299 1554.64 273.076 1553 Q270.883 1551.33 268.66 1551.33 Q267.826 1551.33 266.931 1551.58 Q266.066 1551.83 264.8 1552.54 Q263.534 1553.25 262.546 1555.01 Q261.589 1556.77 261.126 1559.42 Q260.632 1562.85 260.632 1571.07 Z\" fill=\"#000000\" fill-rule=\"evenodd\" fill-opacity=\"1\" /><path clip-path=\"url(#clip491)\" d=\"M249.7 1095.36 Q250.071 1095.73 250.071 1096.25 Q250.071 1096.78 249.7 1097.15 Q249.33 1097.52 248.805 1097.52 L209.218 1097.52 Q208.693 1097.52 208.322 1097.15 Q207.952 1096.78 207.952 1096.25 Q207.952 1095.73 208.322 1095.36 Q208.693 1094.99 209.218 1094.99 L248.805 1094.99 Q249.33 1094.99 249.7 1095.36 Z\" fill=\"#000000\" fill-rule=\"evenodd\" fill-opacity=\"1\" /><path clip-path=\"url(#clip491)\" d=\"M256.741 1101.87 Q256.741 1099.99 257.76 1099.28 Q258.779 1098.54 259.86 1098.54 Q261.311 1098.54 262.145 1099.47 Q263.009 1100.36 263.009 1101.63 Q263.009 1102.89 262.145 1103.82 Q261.311 1104.71 259.86 1104.71 Q259.149 1104.71 258.779 1104.59 Q259.613 1107.49 262.145 1109.59 Q264.708 1111.69 268.073 1111.69 Q272.304 1111.69 274.836 1107.59 Q276.349 1104.93 276.349 1098.91 Q276.349 1093.6 275.207 1090.94 Q273.446 1086.9 269.834 1086.9 Q264.708 1086.9 261.681 1091.31 Q261.311 1091.87 260.879 1091.9 Q260.261 1091.9 260.107 1091.56 Q259.983 1091.19 259.983 1090.23 L259.983 1071.52 Q259.983 1070.01 260.601 1070.01 Q260.848 1070.01 261.373 1070.19 Q265.356 1071.95 269.772 1071.98 Q274.311 1071.98 278.387 1070.13 Q278.696 1069.94 278.881 1069.94 Q279.499 1069.94 279.53 1070.65 Q279.53 1070.9 279.005 1071.64 Q278.511 1072.35 277.43 1073.31 Q276.349 1074.24 274.96 1075.13 Q273.57 1076.03 271.532 1076.65 Q269.525 1077.23 267.302 1077.23 Q264.646 1077.23 261.929 1076.4 L261.929 1088.72 Q265.202 1085.51 269.957 1085.51 Q275.021 1085.51 278.511 1089.58 Q282 1093.66 282 1099.34 Q282 1105.3 277.862 1109.38 Q273.755 1113.45 268.197 1113.45 Q263.133 1113.45 259.921 1109.84 Q256.741 1106.23 256.741 1101.87 Z\" fill=\"#000000\" fill-rule=\"evenodd\" fill-opacity=\"1\" /><path clip-path=\"url(#clip491)\" d=\"M255.382 611.838 Q255.382 602.543 257.729 597.479 Q261.002 589.945 268.722 589.945 Q270.359 589.945 272.057 590.408 Q273.786 590.84 275.948 592.539 Q278.14 594.237 279.468 597.016 Q282 602.389 282 611.838 Q282 621.071 279.653 626.104 Q276.226 633.454 268.66 633.454 Q265.819 633.454 262.917 632.002 Q260.045 630.551 258.223 627.062 Q255.382 621.843 255.382 611.838 M260.632 611.066 Q260.632 620.608 261.311 624.406 Q262.083 628.513 264.183 630.304 Q266.313 632.064 268.66 632.064 Q271.192 632.064 273.292 630.18 Q275.423 628.266 276.071 624.159 Q276.781 620.114 276.751 611.066 Q276.751 602.266 276.133 598.745 Q275.299 594.638 273.076 593.002 Q270.883 591.334 268.66 591.334 Q267.826 591.334 266.931 591.581 Q266.066 591.828 264.8 592.539 Q263.534 593.249 262.546 595.009 Q261.589 596.769 261.126 599.425 Q260.632 602.852 260.632 611.066 Z\" fill=\"#000000\" fill-rule=\"evenodd\" fill-opacity=\"1\" /><path clip-path=\"url(#clip491)\" d=\"M256.741 141.874 Q256.741 139.99 257.76 139.28 Q258.779 138.539 259.86 138.539 Q261.311 138.539 262.145 139.465 Q263.009 140.361 263.009 141.627 Q263.009 142.893 262.145 143.819 Q261.311 144.715 259.86 144.715 Q259.149 144.715 258.779 144.591 Q259.613 147.494 262.145 149.594 Q264.708 151.693 268.073 151.693 Q272.304 151.693 274.836 147.587 Q276.349 144.931 276.349 138.909 Q276.349 133.598 275.207 130.943 Q273.446 126.897 269.834 126.897 Q264.708 126.897 261.681 131.313 Q261.311 131.869 260.879 131.9 Q260.261 131.9 260.107 131.56 Q259.983 131.19 259.983 130.232 L259.983 111.52 Q259.983 110.007 260.601 110.007 Q260.848 110.007 261.373 110.192 Q265.356 111.952 269.772 111.983 Q274.311 111.983 278.387 110.13 Q278.696 109.945 278.881 109.945 Q279.499 109.945 279.53 110.655 Q279.53 110.902 279.005 111.643 Q278.511 112.353 277.43 113.311 Q276.349 114.237 274.96 115.132 Q273.57 116.028 271.532 116.646 Q269.525 117.232 267.302 117.232 Q264.646 117.232 261.929 116.399 L261.929 128.719 Q265.202 125.508 269.957 125.508 Q275.021 125.508 278.511 129.584 Q282 133.66 282 139.342 Q282 145.301 277.862 149.378 Q273.755 153.454 268.197 153.454 Q263.133 153.454 259.921 149.841 Q256.741 146.228 256.741 141.874 Z\" fill=\"#000000\" fill-rule=\"evenodd\" fill-opacity=\"1\" /><polyline clip-path=\"url(#clip491)\" style=\"stroke:#000000; stroke-linecap:butt; stroke-linejoin:round; stroke-width:3.6; stroke-opacity:1; fill:none\" points=\"\n  300,1575 300,1575 336,1575 300,1575 300,1479 318,1479 300,1479 300,1383 318,1383 300,1383 \n  300,1287 318,1287 300,1287 300,1191 318,1191 300,1191 300,1095 336,1095 300,1095 300,999 \n  318,999 300,999 300,903 318,903 300,903 300,807 318,807 300,807 300,711 318,711 \n  300,711 300,615 336,615 300,615 300,519 318,519 300,519 300,423 318,423 300,423 \n  300,327 318,327 300,327 300,231 318,231 300,231 300,135 336,135 300,135 \n  \n  \"/>\n<path clip-path=\"url(#clip491)\" d=\"M286.691 1626.34 Q286.691 1617.05 289.038 1611.98 Q292.311 1604.45 300.031 1604.45 Q301.667 1604.45 303.366 1604.91 Q305.095 1605.34 307.257 1607.04 Q309.449 1608.74 310.777 1611.52 Q313.309 1616.89 313.309 1626.34 Q313.309 1635.58 310.962 1640.61 Q307.535 1647.96 299.969 1647.96 Q297.128 1647.96 294.226 1646.51 Q291.354 1645.05 289.532 1641.57 Q286.691 1636.35 286.691 1626.34 M291.941 1625.57 Q291.941 1635.11 292.62 1638.91 Q293.392 1643.02 295.492 1644.81 Q297.622 1646.57 299.969 1646.57 Q302.501 1646.57 304.601 1644.68 Q306.732 1642.77 307.38 1638.66 Q308.09 1634.62 308.059 1625.57 Q308.059 1616.77 307.442 1613.25 Q306.608 1609.14 304.385 1607.51 Q302.192 1605.84 299.969 1605.84 Q299.135 1605.84 298.24 1606.09 Q297.375 1606.33 296.109 1607.04 Q294.843 1607.75 293.855 1609.51 Q292.898 1611.27 292.435 1613.93 Q291.941 1617.36 291.941 1625.57 Z\" fill=\"#000000\" fill-rule=\"evenodd\" fill-opacity=\"1\" /><path clip-path=\"url(#clip491)\" d=\"M819.792 1646.57 Q819.792 1645.43 819.885 1645.09 Q820.008 1644.75 820.502 1644.22 L832.638 1630.7 Q839.277 1623.22 839.277 1616.71 Q839.277 1612.48 837.053 1609.45 Q834.861 1606.43 830.816 1606.43 Q828.037 1606.43 825.69 1608.12 Q823.343 1609.82 822.262 1612.85 Q822.448 1612.79 823.096 1612.79 Q824.671 1612.79 825.536 1613.77 Q826.431 1614.76 826.431 1616.09 Q826.431 1617.79 825.319 1618.62 Q824.239 1619.43 823.158 1619.43 Q822.726 1619.43 822.139 1619.33 Q821.583 1619.24 820.688 1618.38 Q819.792 1617.48 819.792 1615.9 Q819.792 1611.49 823.127 1607.97 Q826.493 1604.45 831.619 1604.45 Q837.424 1604.45 841.222 1607.91 Q845.051 1611.33 845.051 1616.71 Q845.051 1618.59 844.464 1620.32 Q843.909 1622.02 843.137 1623.35 Q842.396 1624.67 840.358 1626.81 Q838.32 1628.94 836.683 1630.45 Q835.046 1631.96 831.372 1635.17 L824.671 1641.69 L836.065 1641.69 Q841.624 1641.69 842.056 1641.2 Q842.674 1640.3 843.445 1635.58 L845.051 1635.58 L843.26 1646.57 L819.792 1646.57 Z\" fill=\"#000000\" fill-rule=\"evenodd\" fill-opacity=\"1\" /><path clip-path=\"url(#clip491)\" d=\"M850.733 1626.34 Q850.733 1617.05 853.08 1611.98 Q856.353 1604.45 864.073 1604.45 Q865.709 1604.45 867.408 1604.91 Q869.137 1605.34 871.299 1607.04 Q873.491 1608.74 874.819 1611.52 Q877.351 1616.89 877.351 1626.34 Q877.351 1635.58 875.004 1640.61 Q871.576 1647.96 864.011 1647.96 Q861.17 1647.96 858.267 1646.51 Q855.396 1645.05 853.574 1641.57 Q850.733 1636.35 850.733 1626.34 M855.982 1625.57 Q855.982 1635.11 856.662 1638.91 Q857.434 1643.02 859.534 1644.81 Q861.664 1646.57 864.011 1646.57 Q866.543 1646.57 868.643 1644.68 Q870.774 1642.77 871.422 1638.66 Q872.132 1634.62 872.101 1625.57 Q872.101 1616.77 871.484 1613.25 Q870.65 1609.14 868.427 1607.51 Q866.234 1605.84 864.011 1605.84 Q863.177 1605.84 862.282 1606.09 Q861.417 1606.33 860.151 1607.04 Q858.885 1607.75 857.897 1609.51 Q856.94 1611.27 856.477 1613.93 Q855.982 1617.36 855.982 1625.57 Z\" fill=\"#000000\" fill-rule=\"evenodd\" fill-opacity=\"1\" /><path clip-path=\"url(#clip491)\" d=\"M1367.67 1636.13 L1367.67 1634.19 L1387.09 1604.51 Q1387.59 1603.74 1388.36 1603.77 Q1389.07 1603.77 1389.22 1604.05 Q1389.38 1604.33 1389.38 1605.41 L1389.38 1634.19 L1395.71 1634.19 L1395.71 1636.13 L1389.38 1636.13 L1389.38 1641.63 Q1389.38 1643.45 1390.12 1644.04 Q1390.89 1644.62 1394.16 1644.62 L1395.49 1644.62 L1395.49 1646.57 Q1392.9 1646.38 1386.91 1646.38 Q1380.95 1646.38 1378.35 1646.57 L1378.35 1644.62 L1379.68 1644.62 Q1382.95 1644.62 1383.73 1644.07 Q1384.5 1643.48 1384.5 1641.63 L1384.5 1636.13 L1367.67 1636.13 M1369.46 1634.19 L1384.87 1634.19 L1384.87 1610.59 L1369.46 1634.19 Z\" fill=\"#000000\" fill-rule=\"evenodd\" fill-opacity=\"1\" /><path clip-path=\"url(#clip491)\" d=\"M1400 1626.34 Q1400 1617.05 1402.35 1611.98 Q1405.62 1604.45 1413.34 1604.45 Q1414.98 1604.45 1416.67 1604.91 Q1418.4 1605.34 1420.56 1607.04 Q1422.76 1608.74 1424.08 1611.52 Q1426.62 1616.89 1426.62 1626.34 Q1426.62 1635.58 1424.27 1640.61 Q1420.84 1647.96 1413.28 1647.96 Q1410.44 1647.96 1407.53 1646.51 Q1404.66 1645.05 1402.84 1641.57 Q1400 1636.35 1400 1626.34 M1405.25 1625.57 Q1405.25 1635.11 1405.93 1638.91 Q1406.7 1643.02 1408.8 1644.81 Q1410.93 1646.57 1413.28 1646.57 Q1415.81 1646.57 1417.91 1644.68 Q1420.04 1642.77 1420.69 1638.66 Q1421.4 1634.62 1421.37 1625.57 Q1421.37 1616.77 1420.75 1613.25 Q1419.92 1609.14 1417.69 1607.51 Q1415.5 1605.84 1413.28 1605.84 Q1412.44 1605.84 1411.55 1606.09 Q1410.68 1606.33 1409.42 1607.04 Q1408.15 1607.75 1407.16 1609.51 Q1406.21 1611.27 1405.74 1613.93 Q1405.25 1617.36 1405.25 1625.57 Z\" fill=\"#000000\" fill-rule=\"evenodd\" fill-opacity=\"1\" /><path clip-path=\"url(#clip491)\" d=\"M1916.69 1626.59 Q1916.69 1616.65 1921.75 1610.56 Q1926.82 1604.45 1933.33 1604.45 Q1937.13 1604.45 1939.23 1606.39 Q1941.36 1608.31 1941.36 1611.27 Q1941.36 1612.91 1940.4 1613.62 Q1939.45 1614.33 1938.46 1614.33 Q1937.32 1614.33 1936.42 1613.56 Q1935.52 1612.79 1935.52 1611.4 Q1935.52 1608.56 1939.01 1608.56 Q1937.38 1606.02 1933.46 1606.02 Q1932.25 1606.02 1931.02 1606.39 Q1929.78 1606.73 1928.17 1607.91 Q1926.57 1609.08 1925.33 1610.93 Q1924.1 1612.79 1923.23 1616.28 Q1922.37 1619.76 1922.37 1624.3 L1922.37 1625.82 Q1924.96 1619.55 1930.27 1619.58 Q1935.59 1619.58 1939.26 1623.62 Q1942.94 1627.67 1942.94 1633.66 Q1942.94 1639.81 1939.11 1643.88 Q1935.28 1647.96 1929.9 1647.96 Q1927.5 1647.96 1925.3 1646.94 Q1923.14 1645.95 1921.1 1643.67 Q1919.1 1641.38 1917.89 1637 Q1916.69 1632.61 1916.69 1626.59 M1922.49 1632.27 Q1922.49 1638.48 1923.64 1641.44 Q1923.82 1641.94 1924.22 1642.62 Q1924.65 1643.29 1925.36 1644.19 Q1926.11 1645.05 1927.31 1645.64 Q1928.51 1646.2 1929.9 1646.2 Q1934.13 1646.2 1936.17 1642.09 Q1937.25 1639.81 1937.25 1633.6 Q1937.25 1627.27 1936.11 1624.95 Q1934.17 1621.03 1930.21 1621.03 Q1927.56 1621.03 1925.7 1622.85 Q1923.88 1624.67 1923.17 1627.11 Q1922.49 1629.55 1922.49 1632.27 Z\" fill=\"#000000\" fill-rule=\"evenodd\" fill-opacity=\"1\" /><path clip-path=\"url(#clip491)\" d=\"M1948.12 1626.34 Q1948.12 1617.05 1950.47 1611.98 Q1953.74 1604.45 1961.46 1604.45 Q1963.1 1604.45 1964.8 1604.91 Q1966.53 1605.34 1968.69 1607.04 Q1970.88 1608.74 1972.21 1611.52 Q1974.74 1616.89 1974.74 1626.34 Q1974.74 1635.58 1972.39 1640.61 Q1968.97 1647.96 1961.4 1647.96 Q1958.56 1647.96 1955.66 1646.51 Q1952.79 1645.05 1950.96 1641.57 Q1948.12 1636.35 1948.12 1626.34 M1953.37 1625.57 Q1953.37 1635.11 1954.05 1638.91 Q1954.82 1643.02 1956.92 1644.81 Q1959.05 1646.57 1961.4 1646.57 Q1963.93 1646.57 1966.03 1644.68 Q1968.16 1642.77 1968.81 1638.66 Q1969.52 1634.62 1969.49 1625.57 Q1969.49 1616.77 1968.87 1613.25 Q1968.04 1609.14 1965.82 1607.51 Q1963.62 1605.84 1961.4 1605.84 Q1960.57 1605.84 1959.67 1606.09 Q1958.81 1606.33 1957.54 1607.04 Q1956.27 1607.75 1955.29 1609.51 Q1954.33 1611.27 1953.87 1613.93 Q1953.37 1617.36 1953.37 1625.57 Z\" fill=\"#000000\" fill-rule=\"evenodd\" fill-opacity=\"1\" /><polyline clip-path=\"url(#clip491)\" style=\"stroke:#000000; stroke-linecap:butt; stroke-linejoin:round; stroke-width:3.6; stroke-opacity:1; fill:none\" points=\"\n  300,1575 300,1575 300,1539 300,1575 409.714,1575 409.714,1557 409.714,1575 519.429,1575 519.429,1557 519.429,1575 \n  629.143,1575 629.143,1557 629.143,1575 738.857,1575 738.857,1557 738.857,1575 848.571,1575 848.571,1539 848.571,1575 958.286,1575 \n  958.286,1557 958.286,1575 1068,1575 1068,1557 1068,1575 1177.71,1575 1177.71,1557 1177.71,1575 1287.43,1575 1287.43,1557 \n  1287.43,1575 1397.14,1575 1397.14,1539 1397.14,1575 1506.86,1575 1506.86,1557 1506.86,1575 1616.57,1575 1616.57,1557 1616.57,1575 \n  1726.29,1575 1726.29,1557 1726.29,1575 1836,1575 1836,1557 1836,1575 1945.71,1575 1945.71,1539 1945.71,1575 2055.43,1575 \n  2055.43,1557 2055.43,1575 2165.14,1575 2165.14,1557 2165.14,1575 2220,1575 \n  \"/>\n<polyline clip-path=\"url(#clip491)\" style=\"stroke:#000000; stroke-linecap:butt; stroke-linejoin:round; stroke-width:3.6; stroke-opacity:1; fill:none\" points=\"\n  2220,1575 2220,1575 2184,1575 2220,1575 2220,1479 2202,1479 2220,1479 2220,1383 2202,1383 2220,1383 \n  2220,1287 2202,1287 2220,1287 2220,1191 2202,1191 2220,1191 2220,1095 2184,1095 2220,1095 2220,999 \n  2202,999 2220,999 2220,903 2202,903 2220,903 2220,807 2202,807 2220,807 2220,711 2202,711 \n  2220,711 2220,615 2184,615 2220,615 2220,519 2202,519 2220,519 2220,423 2202,423 2220,423 \n  2220,327 2202,327 2220,327 2220,231 2202,231 2220,231 2220,135 2184,135 2220,135 \n  \n  \"/>\n<polyline clip-path=\"url(#clip491)\" style=\"stroke:#000000; stroke-linecap:butt; stroke-linejoin:round; stroke-width:3.6; stroke-opacity:1; fill:none\" points=\"\n  300,135 300,135 300,171 300,135 409.714,135 409.714,153 409.714,135 519.429,135 519.429,153 519.429,135 \n  629.143,135 629.143,153 629.143,135 738.857,135 738.857,153 738.857,135 848.571,135 848.571,171 848.571,135 958.286,135 \n  958.286,153 958.286,135 1068,135 1068,153 1068,135 1177.71,135 1177.71,153 1177.71,135 1287.43,135 1287.43,153 \n  1287.43,135 1397.14,135 1397.14,171 1397.14,135 1506.86,135 1506.86,153 1506.86,135 1616.57,135 1616.57,153 1616.57,135 \n  1726.29,135 1726.29,153 1726.29,135 1836,135 1836,153 1836,135 1945.71,135 1945.71,171 1945.71,135 2055.43,135 \n  2055.43,153 2055.43,135 2165.14,135 2165.14,153 2165.14,135 2220,135 \n  \"/>\n<polyline clip-path=\"url(#clip490)\" style=\"stroke:#00528a; stroke-linecap:butt; stroke-linejoin:round; stroke-width:3.6; stroke-opacity:1; fill:none\" points=\"\n  300,591.96 327.429,477.72 354.857,464.28 382.286,564.12 409.714,751.32 437.143,1378.2 464.571,1533.72 492,902.04 519.429,462.36 546.857,312.6 \n  574.286,447.96 601.714,382.68 629.143,219.48 656.571,348.12 684,607.32 711.429,450.84 738.857,487.32 766.286,575.64 793.714,759.96 821.143,654.36 \n  848.571,568.92 876,612.12 903.429,699.48 930.857,845.4 958.286,864.6 985.714,932.76 1013.14,883.8 1040.57,693.72 1068,782.04 1095.43,775.32 \n  1122.86,745.56 1150.29,898.2 1177.71,942.36 1205.14,837.72 1232.57,919.32 1260,1029.72 1287.43,1178.52 1314.86,931.8 1342.29,813.72 1369.71,837.72 \n  1397.14,612.12 1424.57,635.16 1452,675.48 1479.43,711 1506.86,699.48 1534.29,804.12 1561.71,972.12 1589.14,1142.04 1616.57,840.6 1644,557.4 \n  1671.43,558.36 1698.86,519 1726.29,409.56 1753.71,428.76 1781.14,282.84 1808.57,332.76 1836,327 1863.43,267.48 1890.86,345.24 1918.29,358.68 \n  1945.71,327 1973.14,498.84 2000.57,547.8 2028,615.96 \n  \"/>\n</svg>\n",
      "text/plain": [
       "GR.SVG(UInt8[0x3c, 0x3f, 0x78, 0x6d, 0x6c, 0x20, 0x76, 0x65, 0x72, 0x73  …  0x2f, 0x3e, 0x0a, 0x3c, 0x2f, 0x73, 0x76, 0x67, 0x3e, 0x0a])"
      ]
     },
     "metadata": {},
     "output_type": "display_data"
    }
   ],
   "source": [
    "plot(Dates.value.(df.Date - Date(2015, 1, 1)), df.T2M)"
   ]
  },
  {
   "cell_type": "markdown",
   "id": "a529875f",
   "metadata": {},
   "source": [
    "Zadanie: Ściągnąć z Nasa power dane w .csv dla jakiegoś miejsca, spróbować przerobić daty i narysować wykres jakiś (np jakie jest ciśnienie vs temperatura, albo ciśnienie vs prędkość wiatru.)"
   ]
  },
  {
   "cell_type": "markdown",
   "id": "44708ff9",
   "metadata": {},
   "source": []
  }
 ],
 "metadata": {
  "kernelspec": {
   "display_name": "Julia 1.7.2",
   "language": "julia",
   "name": "julia-1.7"
  },
  "language_info": {
   "file_extension": ".jl",
   "mimetype": "application/julia",
   "name": "julia",
   "version": "1.7.2"
  }
 },
 "nbformat": 4,
 "nbformat_minor": 5
}

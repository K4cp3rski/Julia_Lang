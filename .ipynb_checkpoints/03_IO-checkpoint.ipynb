{
 "cells": [
  {
   "cell_type": "markdown",
   "id": "f6f0949e",
   "metadata": {
    "pycharm": {
     "name": "#%% md\n"
    }
   },
   "source": [
    "# Operacje wejścia i wyjścia\n",
    "\n",
    "Operacje IO to wszelkie działania mające na celu komunikację programu z zewnętrznym światem - człowiekiem, danymi, siecią, innymi procesami itp. W tym przypadku szczególny nacisk położmy na wczytywanie i zapisywanie danych, co jest, rzecz jasna, jedną z pierwszych i podstawowych czynności w ich analizie."
   ]
  },
  {
   "cell_type": "markdown",
   "source": [
    "---\n",
    "Polecajki bibliotek:\n",
    "* Serialization (do zapisu danych binarnie) - trochę jak Pickle\n",
    "* SparseArrayKit\n",
    "* Printf  \n",
    "\n",
    "Do wczytywania wielkich plików co się nie mieszczą w pamięci RAM:\n",
    "* JLD2\n",
    "* Arrow\n",
    "  \n",
    "Do czytania plików `.csv`\n",
    "* CSV\n",
    "\n",
    "---"
   ],
   "metadata": {
    "collapsed": false,
    "pycharm": {
     "name": "#%% md\n"
    }
   }
  },
  {
   "cell_type": "markdown",
   "source": [
    "## Strumienie systemowe (stdin, stdout, stderr)\n",
    "Polecenie `readline()` domyślnie wczytuje jedną linię tekstu ze strumienia `stdin`. Zamiast niego może być podany inny strumień (każdy strumień IO zawsze obsługuje conajmniej metodę read i write), np. plik, strumień sieciowy. Zawsze dostępne systemowe strumienie to `stdin`, `stdout` (domyślny argument funkcji print) oraz `stderr`."
   ],
   "metadata": {
    "collapsed": false,
    "pycharm": {
     "name": "#%% md\n"
    }
   }
  },
  {
   "cell_type": "markdown",
   "id": "ef30f2ea",
   "metadata": {
    "pycharm": {
     "name": "#%% md\n"
    }
   },
   "source": [
    "## Strumienie systemowe (stdin, stdout, stderr)\n",
    "Polecenie `readline()` domyślnie wczytuje jedną linię tekstu ze strumienia `stdin`. Zamiast niego może być podany inny strumień (każdy strumień IO zawsze obsługuje conajmniej metodę read i write), np. plik, strumień sieciowy. Zawsze dostępne systemowe strumienie to `stdin`, `stdout` (domyślny argument funkcji print) oraz `stderr`."
   ]
  },
  {
   "cell_type": "code",
   "execution_count": 1,
   "id": "8f93a12d",
   "metadata": {
    "pycharm": {
     "name": "#%%\n"
    }
   },
   "outputs": [
    {
     "ename": "",
     "evalue": "",
     "output_type": "error",
     "traceback": [
      "\u001B[1;31mThe Kernel crashed while executing code in the the current cell or a previous cell. Please review the code in the cell(s) to identify a possible cause of the failure. Click <a href='https://aka.ms/vscodeJupyterKernelCrash'>here</a> for more info. View Jupyter <a href='command:jupyter.viewOutput'>log</a> for further details."
     ]
    },
    {
     "ename": "",
     "evalue": "",
     "output_type": "error",
     "traceback": [
      "\u001B[1;31mCanceled future for execute_request message before replies were done"
     ]
    }
   ],
   "source": [
    "x = parse(Float64, readline(stdin))\n",
    "if x < 0.0\n",
    "    println(stderr, \"Podaj x >= 0\")\n",
    "    exit(1)\n",
    "end\n",
    "println(\"√$x = \", sqrt(x))\n",
    "\n"
   ]
  },
  {
   "cell_type": "markdown",
   "id": "9ce5fc94",
   "metadata": {
    "pycharm": {
     "name": "#%% md\n"
    }
   },
   "source": [
    "### Zadanie \n",
    "Napisz program (skrypt) wczytujący 2 punkty na płaszczyźnie podane przez użytkownika (x1, y1, x2, y2), który następnie podaje równanie prostej przechodzącej przez punkty, oraz przedstawia wykres z punktami i linią. W przypadku gdy użytkownik poda błędne punkty (x1 = x2 lub dane, które nie są liczbami) program powinień wypisać odpowiednią informację w strumieniu stderr.\n",
    "\n",
    "Następnie stwórz plik z czterami liczbami \"dane.txt\" i przekaż go do programu przez wywołanie\n",
    "\n",
    "`$> cat dane.txt | julia skrypt.jl 1> wynik.txt 2> err.txt`\n",
    "\n",
    "Wyniki powinny zostać zapisane w pliku \"wynik.txt\" (1> to strumień stdout), natomiast ewentualne błędy, wypisywane do strumienia `stderr` (2>) zostaną zapisane do pliku \"err.txt\"."
   ]
  },
  {
   "cell_type": "markdown",
   "id": "e83d2641",
   "metadata": {
    "pycharm": {
     "name": "#%% md\n"
    }
   },
   "source": [
    "## Praca z plikami\n",
    "\n",
    "Otwarcie pliku poleceniem `open` zwraca strumień `IOStream` z którym możemy pracować podobnie jak ze strumieniami standardowymi."
   ]
  },
  {
   "cell_type": "code",
   "execution_count": 1,
   "id": "9a3f3eb8",
   "metadata": {
    "pycharm": {
     "name": "#%%\n"
    }
   },
   "outputs": [
    {
     "data": {
      "text/plain": [
       "IOStream(<file test.txt>)"
      ]
     },
     "execution_count": 1,
     "metadata": {},
     "output_type": "execute_result"
    }
   ],
   "source": [
    "f = open(\"test.txt\", \"w\")"
   ]
  },
  {
   "cell_type": "markdown",
   "id": "2e546bee",
   "metadata": {
    "pycharm": {
     "name": "#%% md\n"
    }
   },
   "source": [
    "Tryby otwarcia to:\n",
    "\n",
    "* r - (odczyt - domyślny),\n",
    "* w  - zapis, skasowanie istniejącej zawartości\n",
    "* a - zapis, dodawanie do istniejącej zawartości\n",
    "* r+ - odczyt i zapis (plik musi istnieć)\n",
    "* w+ - odczyt i zapis, skasowanie zawartości\n",
    "* a+ - odczyt i zapis, dodawanie do zawartości\n",
    "\n",
    "Do czytania służą funkcje `read`, `read!`, `readline`, `readlines`.\n",
    "\n",
    "Do pisania `write`, `print`, `println`.\n",
    "\n",
    "Funkcja `close` zamyka strumień.\n",
    "\n",
    "Funkcja `eof` zwraca prawdę jeżeli strumień osiągnął koniec pliku (end-of-file).\n",
    "\n"
   ]
  },
  {
   "cell_type": "code",
   "execution_count": 2,
   "id": "0d6d4e69",
   "metadata": {
    "pycharm": {
     "name": "#%%\n"
    }
   },
   "outputs": [
    {
     "data": {
      "text/plain": [
       "12"
      ]
     },
     "execution_count": 2,
     "metadata": {},
     "output_type": "execute_result"
    }
   ],
   "source": [
    "write(f, \"1.0\\n2.0\\n3.0\\n\")"
   ]
  },
  {
   "cell_type": "code",
   "execution_count": 3,
   "id": "60cf0790",
   "metadata": {
    "pycharm": {
     "name": "#%%\n"
    }
   },
   "outputs": [],
   "source": [
    "println(f, \"4.0\")\n",
    "close(f)"
   ]
  },
  {
   "cell_type": "markdown",
   "id": "ddf9566c",
   "metadata": {
    "pycharm": {
     "name": "#%% md\n"
    }
   },
   "source": [
    "Sprawdzimy teraz zawartość pliku (open domyślnie jest w trybie r)"
   ]
  },
  {
   "cell_type": "code",
   "execution_count": 4,
   "id": "43926f08",
   "metadata": {
    "pycharm": {
     "name": "#%%\n"
    }
   },
   "outputs": [
    {
     "data": {
      "text/plain": [
       "IOStream(<file test.txt>)"
      ]
     },
     "execution_count": 4,
     "metadata": {},
     "output_type": "execute_result"
    }
   ],
   "source": [
    "f = open(\"test.txt\")"
   ]
  },
  {
   "cell_type": "code",
   "execution_count": 5,
   "id": "1f0e0172",
   "metadata": {
    "pycharm": {
     "name": "#%%\n"
    }
   },
   "outputs": [
    {
     "data": {
      "text/plain": [
       "\"1.0\""
      ]
     },
     "execution_count": 5,
     "metadata": {},
     "output_type": "execute_result"
    }
   ],
   "source": [
    "readline(f)"
   ]
  },
  {
   "cell_type": "code",
   "execution_count": 6,
   "id": "87deb8a3",
   "metadata": {
    "pycharm": {
     "name": "#%%\n"
    }
   },
   "outputs": [
    {
     "data": {
      "text/plain": [
       "\"2.0\""
      ]
     },
     "execution_count": 6,
     "metadata": {},
     "output_type": "execute_result"
    }
   ],
   "source": [
    "readline(f)"
   ]
  },
  {
   "cell_type": "code",
   "execution_count": 7,
   "id": "ec148d6b",
   "metadata": {
    "pycharm": {
     "name": "#%%\n"
    }
   },
   "outputs": [
    {
     "data": {
      "text/plain": [
       "\"3.0\""
      ]
     },
     "execution_count": 7,
     "metadata": {},
     "output_type": "execute_result"
    }
   ],
   "source": [
    "readline(f)"
   ]
  },
  {
   "cell_type": "code",
   "execution_count": 8,
   "id": "46be2f65",
   "metadata": {
    "pycharm": {
     "name": "#%%\n"
    }
   },
   "outputs": [
    {
     "data": {
      "text/plain": [
       "\"4.0\""
      ]
     },
     "execution_count": 8,
     "metadata": {},
     "output_type": "execute_result"
    }
   ],
   "source": [
    "readline(f)"
   ]
  },
  {
   "cell_type": "code",
   "execution_count": 9,
   "id": "ac75fd44",
   "metadata": {
    "pycharm": {
     "name": "#%%\n"
    }
   },
   "outputs": [
    {
     "data": {
      "text/plain": [
       "\"\""
      ]
     },
     "execution_count": 9,
     "metadata": {},
     "output_type": "execute_result"
    }
   ],
   "source": [
    "readline(f)"
   ]
  },
  {
   "cell_type": "code",
   "execution_count": 10,
   "id": "f438cf00",
   "metadata": {
    "pycharm": {
     "name": "#%%\n"
    }
   },
   "outputs": [
    {
     "data": {
      "text/plain": [
       "true"
      ]
     },
     "execution_count": 10,
     "metadata": {},
     "output_type": "execute_result"
    }
   ],
   "source": [
    "eof(f)"
   ]
  },
  {
   "cell_type": "code",
   "execution_count": 11,
   "id": "e7f9a8b4",
   "metadata": {
    "pycharm": {
     "name": "#%%\n"
    }
   },
   "outputs": [],
   "source": [
    "close(f)"
   ]
  },
  {
   "cell_type": "markdown",
   "id": "21aa41c7",
   "metadata": {
    "pycharm": {
     "name": "#%% md\n"
    }
   },
   "source": [
    "Składnia `do ... end` zapewnia bezpieczne zamknięcie pliku automatycznie wywołując `close`. W poniższym przykładzie zawartość jest wczytana do wektora ciągów znaków."
   ]
  },
  {
   "cell_type": "code",
   "execution_count": 12,
   "id": "aae76182",
   "metadata": {
    "pycharm": {
     "name": "#%%\n"
    }
   },
   "outputs": [
    {
     "data": {
      "text/plain": [
       "4-element Vector{String}:\n",
       " \"1.0\"\n",
       " \"2.0\"\n",
       " \"3.0\"\n",
       " \"4.0\""
      ]
     },
     "execution_count": 12,
     "metadata": {},
     "output_type": "execute_result"
    }
   ],
   "source": [
    "lines = open(\"test.txt\") do f\n",
    "    readlines(f)\n",
    "end"
   ]
  },
  {
   "cell_type": "markdown",
   "id": "c461cb65",
   "metadata": {
    "pycharm": {
     "name": "#%% md\n"
    }
   },
   "source": [
    "To samo można osiągnąć w poniższej pętli, z różnicą taką, że dane są wczytywane linia po linii "
   ]
  },
  {
   "cell_type": "code",
   "execution_count": 13,
   "id": "c35e6f44",
   "metadata": {
    "pycharm": {
     "name": "#%%\n"
    }
   },
   "outputs": [
    {
     "name": "stdout",
     "output_type": "stream",
     "text": [
      "1.0\n",
      "2.0\n",
      "3.0\n",
      "4.0\n"
     ]
    }
   ],
   "source": [
    "f = open(\"test.txt\")\n",
    "for line in readlines(f)\n",
    "    println(line)\n",
    "end\n",
    "close(f)"
   ]
  },
  {
   "cell_type": "markdown",
   "id": "e573f865",
   "metadata": {
    "pycharm": {
     "name": "#%% md\n"
    }
   },
   "source": [
    "O ile funkcje `readline/readlines` działają tekstowo, to `read` zwraca binarną tablicę bajtów. Oczywiście można ją ewentualnie przerobić na ciąg znaków"
   ]
  },
  {
   "cell_type": "code",
   "execution_count": 14,
   "id": "b9cb7aeb",
   "metadata": {
    "pycharm": {
     "name": "#%%\n"
    }
   },
   "outputs": [
    {
     "name": "stdout",
     "output_type": "stream",
     "text": [
      "UInt8[0x31, 0x2e, 0x30, 0x0a, 0x32, 0x2e, 0x30, 0x0a, 0x33, 0x2e, 0x30, 0x0a, 0x34, 0x2e, 0x30, 0x0a]\n"
     ]
    }
   ],
   "source": [
    "f = open(\"test.txt\")\n",
    "data = read(f)\n",
    "println(data)\n",
    "close(f)"
   ]
  },
  {
   "cell_type": "code",
   "execution_count": 15,
   "id": "240cb3de",
   "metadata": {
    "pycharm": {
     "name": "#%%\n"
    }
   },
   "outputs": [
    {
     "data": {
      "text/plain": [
       "\"1.0\\n2.0\\n3.0\\n4.0\\n\""
      ]
     },
     "execution_count": 15,
     "metadata": {},
     "output_type": "execute_result"
    }
   ],
   "source": [
    "String(data)"
   ]
  },
  {
   "cell_type": "markdown",
   "id": "0e2931c4",
   "metadata": {
    "pycharm": {
     "name": "#%% md\n"
    }
   },
   "source": [
    "Lub od razu wczytać do odpowiedniego typu"
   ]
  },
  {
   "cell_type": "code",
   "execution_count": 16,
   "id": "9e8f79c0",
   "metadata": {
    "pycharm": {
     "name": "#%%\n"
    }
   },
   "outputs": [
    {
     "name": "stdout",
     "output_type": "stream",
     "text": [
      "1.0\n",
      "2.0\n",
      "3.0\n",
      "4.0\n",
      "\n"
     ]
    }
   ],
   "source": [
    "f = open(\"test.txt\")\n",
    "data = read(f, String)\n",
    "println(data)\n",
    "close(f)"
   ]
  },
  {
   "cell_type": "markdown",
   "id": "f5f76744",
   "metadata": {
    "pycharm": {
     "name": "#%% md\n"
    }
   },
   "source": [
    "Możemy przeczytać też zadaną liczbę (maksymalną, bo może być ich mniej jeżeli osiągniemy koniec pliku) bajtów"
   ]
  },
  {
   "cell_type": "code",
   "execution_count": 17,
   "id": "3b6a60b7",
   "metadata": {
    "pycharm": {
     "name": "#%%\n"
    }
   },
   "outputs": [
    {
     "name": "stdout",
     "output_type": "stream",
     "text": [
      "UInt8[0x31, 0x2e]\n"
     ]
    }
   ],
   "source": [
    "f = open(\"test.txt\")\n",
    "data = read(f, 2)\n",
    "close(f)\n",
    "println(data)"
   ]
  },
  {
   "cell_type": "markdown",
   "id": "2b3b69d6",
   "metadata": {
    "pycharm": {
     "name": "#%% md\n"
    }
   },
   "source": [
    "Oraz wczytać dane do zadanej przez nas dowolnej zmiennej (wersja `read!`). Informacja zapisana w pliku w postaci binarej jest wtedy wczytywana w tylu bitach ile zawiera zmienna i reinterpretowana. W przykładzie poniżej oczywiście taka reinterpretacja bitów nie ma wiele sensu, bo zapisane dane były w postaci tekstowej i miały zupełnie inne znaczenie."
   ]
  },
  {
   "cell_type": "code",
   "execution_count": 18,
   "id": "bde52a0d",
   "metadata": {
    "pycharm": {
     "name": "#%%\n"
    }
   },
   "outputs": [
    {
     "name": "stdout",
     "output_type": "stream",
     "text": [
      "[0, 0]\n",
      "[734137531715563057, 734137540305497651]\n"
     ]
    }
   ],
   "source": [
    "f = open(\"test.txt\")\n",
    "A = zeros(Int64, 2)\n",
    "println(A)\n",
    "read!(f, A)\n",
    "println(A)\n",
    "close(f)"
   ]
  },
  {
   "cell_type": "markdown",
   "id": "769e60ed",
   "metadata": {
    "pycharm": {
     "name": "#%% md\n"
    }
   },
   "source": [
    "Ale możemy stworzyć odpowiednie dane binarne i sprawdzić działanie tej metody. Stworzymy macierz losowych liczb Float64 3x2 i wczytamy ją ponownie do takiej samej macierzy wcześniej wypełnionej zerami."
   ]
  },
  {
   "cell_type": "code",
   "execution_count": 19,
   "id": "ae98cffb",
   "metadata": {
    "pycharm": {
     "name": "#%%\n"
    }
   },
   "outputs": [
    {
     "name": "stdout",
     "output_type": "stream",
     "text": [
      "[0.3673362644423729 0.42516128215338655; 0.5548245707476176 -2.1808183607976686; 0.2956896669646576 0.03870551010305722] (3, 2)\n"
     ]
    }
   ],
   "source": [
    "f = open(\"test.bin\", \"w\")\n",
    "A = [rand(3);; randn(3)]\n",
    "println(A, \" \", size(A))\n",
    "write(f, A)\n",
    "close(f)"
   ]
  },
  {
   "cell_type": "code",
   "execution_count": 20,
   "id": "95b379ae",
   "metadata": {
    "pycharm": {
     "name": "#%%\n"
    }
   },
   "outputs": [
    {
     "name": "stdout",
     "output_type": "stream",
     "text": [
      "[0.3673362644423729 0.42516128215338655; 0.5548245707476176 -2.1808183607976686; 0.2956896669646576 0.03870551010305722]\n"
     ]
    }
   ],
   "source": [
    "f = open(\"test.bin\", \"r\")\n",
    "A = zeros(3, 2)\n",
    "read!(f, A)\n",
    "println(A)\n",
    "close(f)"
   ]
  },
  {
   "cell_type": "markdown",
   "id": "ce3239f8",
   "metadata": {
    "pycharm": {
     "name": "#%% md\n"
    }
   },
   "source": [
    "Do poruszania się po strumieniu służy polecenie `skip` któremu podajemy strumień i liczbę bajtów o jaką chcemy się poruszyć (można poruszać się do przodu i tyłu). Ponieważ wpisaliśmy dane 64-bitowe, każda liczba zajmuje 8 bajtów. Idąc 8 bajtów do przodu przeskoczymy jedną liczbę, idąc 16 bajtów do tyłu cofniemy się o dwie. Aby sprawdzić czy liczby są poprawnie wczytywane trzeba pamiętać, że dane są zapisywane kolumnami (a nie rzędami)."
   ]
  },
  {
   "cell_type": "code",
   "execution_count": 21,
   "id": "3a5f352c",
   "metadata": {
    "pycharm": {
     "name": "#%%\n"
    }
   },
   "outputs": [
    {
     "name": "stdout",
     "output_type": "stream",
     "text": [
      "0.3673362644423729\n",
      "0.5548245707476176\n",
      "\n",
      "0.3673362644423729\n",
      "0.2956896669646576\n",
      "0.5548245707476176\n"
     ]
    }
   ],
   "source": [
    "f = open(\"test.bin\", \"r\")\n",
    "println(read(f, Float64))\n",
    "println(read(f, Float64), \"\\n\")\n",
    "close(f)\n",
    "\n",
    "f = open(\"test.bin\", \"r\")\n",
    "println(read(f, Float64))\n",
    "skip(f, 8)\n",
    "println(read(f, Float64))\n",
    "skip(f, -16)\n",
    "println(read(f, Float64))\n",
    "\n",
    "close(f)"
   ]
  },
  {
   "cell_type": "markdown",
   "id": "4505861d",
   "metadata": {
    "pycharm": {
     "name": "#%% md\n"
    }
   },
   "source": [
    "## Pliki tekstowe\n",
    "\n",
    "Wiele danych jest zapisywanych w postaci plików tekstowych, które pomimo iż zajmują zdecydowanie więcej miejsca (i są niepraktyczne dla dużych danych), to mają przewagę nad plikami binarnymi w postaci czytelności dla człowieka bez dodatkowych informacji o strukturze binarej i konieczności dekodowania. Standardowym formatem danych teksotwych jest CSV (coma separated values), którym zajmiemy się później, bo czytaniem w tym formacie zajmują się specjalne biblioteki. Niestety czasem dane nie stosują się do specyfikacji formatu, zawierają różne błędy, specjalne kodowania znaków itp. W takich przypadkach trzeba je wczytywać ręcznie, linijka po linijce. \n",
    "\n",
    "W przypadku pracy z plikami tekstowymi przydają się funkcje operujące na ciągach:\n",
    "* usuwanie zadanych znaków z przodu i z tyłu: `strip`, domyślnie działa na \"białe znaki\" tj. takie które są identyfikowane funkcją `isspace`\n",
    "* Podział ciągu na podciągi: `split` w miejscu podanych znaków lub domyślnie białych znaków\n",
    "* Zastąpienie wszystkich wystąpień jakiegoś podciągu `replace`"
   ]
  },
  {
   "cell_type": "markdown",
   "id": "d2e81dfd",
   "metadata": {
    "pycharm": {
     "name": "#%% md\n"
    }
   },
   "source": [
    "Załóżmy, że mamy plik z danymi liczbowymi, w których zastosowano przecinek do części dziesiętnych, do oddzielenia wartości średnik, całość objęto nawiasami, na początku znajduje się tabulator, a na końcu znak końca linii."
   ]
  },
  {
   "cell_type": "code",
   "execution_count": 22,
   "id": "a97fafa1",
   "metadata": {
    "pycharm": {
     "name": "#%%\n"
    }
   },
   "outputs": [
    {
     "name": "stdout",
     "output_type": "stream",
     "text": [
      "\t(0,01;1,2;3,5)\n",
      "\n"
     ]
    }
   ],
   "source": [
    "s = \"\\t(0,01;1,2;3,5)\\n\"\n",
    "println(s)"
   ]
  },
  {
   "cell_type": "markdown",
   "id": "1b6ff857",
   "metadata": {
    "pycharm": {
     "name": "#%% md\n"
    }
   },
   "source": [
    "Polecenie `strip` usunie \"białe znaki\" czyli w naszym przypadku tabulator i koniec linii"
   ]
  },
  {
   "cell_type": "code",
   "execution_count": 23,
   "id": "166bb689",
   "metadata": {
    "pycharm": {
     "name": "#%%\n"
    }
   },
   "outputs": [
    {
     "data": {
      "text/plain": [
       "\"(0,01;1,2;3,5)\""
      ]
     },
     "execution_count": 23,
     "metadata": {},
     "output_type": "execute_result"
    }
   ],
   "source": [
    "strip(s)"
   ]
  },
  {
   "cell_type": "markdown",
   "id": "4ac16564",
   "metadata": {
    "pycharm": {
     "name": "#%% md\n"
    }
   },
   "source": [
    "Aby pozbyć się nawiasów musimy podać jakie znaki chcemy usunąć z końców"
   ]
  },
  {
   "cell_type": "code",
   "execution_count": 24,
   "id": "c26df06a",
   "metadata": {
    "pycharm": {
     "name": "#%%\n"
    }
   },
   "outputs": [
    {
     "data": {
      "text/plain": [
       "\"0,01;1,2;3,5\""
      ]
     },
     "execution_count": 24,
     "metadata": {},
     "output_type": "execute_result"
    }
   ],
   "source": [
    "strip(s, ['\\t', '\\n', ')', '('])"
   ]
  },
  {
   "cell_type": "markdown",
   "id": "6e39a21f",
   "metadata": {
    "pycharm": {
     "name": "#%% md\n"
    }
   },
   "source": [
    "Spróbujmy podzielić teraz ciąg na podciągi"
   ]
  },
  {
   "cell_type": "code",
   "execution_count": 25,
   "id": "ce3f2d97",
   "metadata": {
    "pycharm": {
     "name": "#%%\n"
    }
   },
   "outputs": [
    {
     "data": {
      "text/plain": [
       "1-element Vector{SubString{String}}:\n",
       " \"(0,01;1,2;3,5)\""
      ]
     },
     "execution_count": 25,
     "metadata": {},
     "output_type": "execute_result"
    }
   ],
   "source": [
    "split(s)"
   ]
  },
  {
   "cell_type": "markdown",
   "id": "a38480d6",
   "metadata": {
    "pycharm": {
     "name": "#%% md\n"
    }
   },
   "source": [
    "Ponieważ `split` domyślnie robi to w miejscu spacji, musimy podać średnik jako miejsce podziału ręcznie"
   ]
  },
  {
   "cell_type": "code",
   "execution_count": 26,
   "id": "e8f84dff",
   "metadata": {
    "pycharm": {
     "name": "#%%\n"
    }
   },
   "outputs": [
    {
     "data": {
      "text/plain": [
       "3-element Vector{SubString{String}}:\n",
       " \"\\t(0,01\"\n",
       " \"1,2\"\n",
       " \"3,5)\\n\""
      ]
     },
     "execution_count": 26,
     "metadata": {},
     "output_type": "execute_result"
    }
   ],
   "source": [
    "split(s, \";\")"
   ]
  },
  {
   "cell_type": "markdown",
   "id": "a28c2e11",
   "metadata": {
    "pycharm": {
     "name": "#%% md\n"
    }
   },
   "source": [
    "Jak widać najpierw będziemy musieli pozbyć się elementów z końca i początku, a potem podzielić wektor"
   ]
  },
  {
   "cell_type": "code",
   "execution_count": 27,
   "id": "4de0bf60",
   "metadata": {
    "pycharm": {
     "name": "#%%\n"
    }
   },
   "outputs": [
    {
     "data": {
      "text/plain": [
       "3-element Vector{SubString{String}}:\n",
       " \"0,01\"\n",
       " \"1,2\"\n",
       " \"3,5\""
      ]
     },
     "execution_count": 27,
     "metadata": {},
     "output_type": "execute_result"
    }
   ],
   "source": [
    "split(strip(s, ['\\t', '\\n', ')', '(']), \";\")"
   ]
  },
  {
   "cell_type": "markdown",
   "id": "51ce4001",
   "metadata": {
    "pycharm": {
     "name": "#%% md\n"
    }
   },
   "source": [
    "Zamianę przecinków na kropki zrobimy za pomocą funkcji `replace` i możemy to zrobić na samym początku"
   ]
  },
  {
   "cell_type": "code",
   "execution_count": 28,
   "id": "dc871be0",
   "metadata": {
    "pycharm": {
     "name": "#%%\n"
    }
   },
   "outputs": [
    {
     "data": {
      "text/plain": [
       "\"\\t(0.01;1.2;3.5)\\n\""
      ]
     },
     "execution_count": 28,
     "metadata": {},
     "output_type": "execute_result"
    }
   ],
   "source": [
    "replace(s, \",\" => \".\")"
   ]
  },
  {
   "cell_type": "code",
   "execution_count": 29,
   "id": "183b80e0",
   "metadata": {
    "pycharm": {
     "name": "#%%\n"
    }
   },
   "outputs": [
    {
     "data": {
      "text/plain": [
       "3-element Vector{SubString{String}}:\n",
       " \"0.01\"\n",
       " \"1.2\"\n",
       " \"3.5\""
      ]
     },
     "execution_count": 29,
     "metadata": {},
     "output_type": "execute_result"
    }
   ],
   "source": [
    "ss = split(strip(replace(s, \",\" => \".\"), ['\\t', '\\n', ')', '(']), \";\")"
   ]
  },
  {
   "cell_type": "markdown",
   "id": "0396016d",
   "metadata": {
    "pycharm": {
     "name": "#%% md\n"
    }
   },
   "source": [
    "Ostatnim elementem jest zamiana napisów na liczby"
   ]
  },
  {
   "cell_type": "code",
   "execution_count": 30,
   "id": "406ff0c5",
   "metadata": {
    "pycharm": {
     "name": "#%%\n"
    }
   },
   "outputs": [
    {
     "data": {
      "text/plain": [
       "3-element Vector{Float64}:\n",
       " 0.01\n",
       " 1.2\n",
       " 3.5"
      ]
     },
     "execution_count": 30,
     "metadata": {},
     "output_type": "execute_result"
    }
   ],
   "source": [
    "map(x -> parse(Float64, x), ss)"
   ]
  },
  {
   "cell_type": "markdown",
   "id": "062a0610",
   "metadata": {
    "pycharm": {
     "name": "#%% md\n"
    }
   },
   "source": [
    "Lub, łącząc wszystko razem"
   ]
  },
  {
   "cell_type": "code",
   "execution_count": 31,
   "id": "0b48757e",
   "metadata": {
    "pycharm": {
     "name": "#%%\n"
    }
   },
   "outputs": [
    {
     "data": {
      "text/plain": [
       "3-element Vector{Float64}:\n",
       " 0.01\n",
       " 1.2\n",
       " 3.5"
      ]
     },
     "execution_count": 31,
     "metadata": {},
     "output_type": "execute_result"
    }
   ],
   "source": [
    "map(x -> parse(Float64, x), split(strip(replace(s, \",\" => \".\"), ['\\t', '\\n', ')', '(']), \";\"))"
   ]
  },
  {
   "cell_type": "markdown",
   "id": "eaf0b01b",
   "metadata": {
    "pycharm": {
     "name": "#%% md\n"
    }
   },
   "source": [
    "Takie operacje można oczywiście wykonywać w pętli dla każdej linii tekstu"
   ]
  },
  {
   "cell_type": "code",
   "execution_count": 32,
   "id": "fb77f837",
   "metadata": {
    "pycharm": {
     "name": "#%%\n"
    }
   },
   "outputs": [],
   "source": [
    "data = Array{Float64, 1}()\n",
    "for line in readlines(f)\n",
    "    line = split(line)\n",
    "    # ...\n",
    "    x = parse(Float64, line[1])\n",
    "    push!(data, x)\n",
    "    #...\n",
    "end"
   ]
  },
  {
   "cell_type": "markdown",
   "id": "e05ce39a",
   "metadata": {
    "pycharm": {
     "name": "#%% md\n"
    }
   },
   "source": [
    "### Zadanie\n",
    "\n",
    "Ze strony NBP pobrać archiwum kursów walut za rok 2021 w formacie CSV\n",
    "https://www.nbp.pl/home.aspx?f=/kursy/arch_a.html\n",
    "\n",
    "Plik jest w kodowaniu iso-8859-1, w systemach linux można sprawdzić kodowanie, a następnie dokonać konwersji do kodowania utf-8 w poniższy sposób\n",
    "```\n",
    "$ file -bi archiwum_tab_a_2021.csv\n",
    "$ iconv -f iso-8859-1 -o utf-8 archiwum_tab_a_2021.csv archiwum.csv\n",
    "```\n",
    "\n",
    "Zadanie polega na tym, aby wczytać plik w ten sposób, aby otrzymać słownik o strukturze:\n",
    "\n",
    "    \"data\" => wektor dat lub liczby dni od pierwszego dnia roku    \n",
    "    \"waluta\" => wektor kursów danej waluty    \n",
    "    np.    \n",
    "    \"data\" => [Date(\"2021-01-04\"), Date(\"2021-01-05\"), Date(\"2021-01-07\"), ...],    \n",
    "    \"USD\" => [3.6998, 3.7031, 3.6656, ...],    \n",
    "    \"EUR\" => [4.5485, 4.5446, 4.4973, ...],\n",
    "    ...\n",
    "    \n",
    "Po wczytaniu danych proszę narysować wykres stosunków kilku wybranych walut do dolara (np. EUR/USD, GBP/USD, CHF/USD)\n",
    "\n"
   ]
  },
  {
   "cell_type": "code",
   "execution_count": null,
   "id": "11aaf9c7",
   "metadata": {
    "pycharm": {
     "name": "#%%\n"
    }
   },
   "outputs": [],
   "source": []
  }
 ],
 "metadata": {
  "kernelspec": {
   "display_name": "Julia 1.7.2",
   "language": "julia",
   "name": "julia-1.7"
  },
  "language_info": {
   "file_extension": ".jl",
   "mimetype": "application/julia",
   "name": "julia",
   "version": "1.7.2"
  }
 },
 "nbformat": 4,
 "nbformat_minor": 5
}
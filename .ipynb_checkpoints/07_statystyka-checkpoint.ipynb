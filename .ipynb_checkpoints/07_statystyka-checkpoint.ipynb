{
 "cells": [
  {
   "cell_type": "markdown",
   "id": "d5e161aa",
   "metadata": {},
   "source": [
    "# Wnioskowanie statystyczne\n",
    "\n",
    "Jednym z elementów analizy danych jest opisanie uzyskanych wyników eksperymentalnych (pomiarów, obserwacji) za pomocą modelu, który pozwoliłby na przewidywanie zachowania się zjawiska czy układu w przyszłości. Pewne zjawiska można opisać analitycznie za pomocą funkcji lub równań (zwykłych, różniczkowych, całkowych); ewentualnie takie zagadnienie można rozwiązać numerycznie. \n",
    "\n",
    "W takim przypadku mamy do czynienia ze zjawiskiem deterministycznym. Nie ogranicza nas to do mechaniki klasycznej - deterministyczne mogą być nie tylko takie parametry jak położenie, czy pęd, ale także takie jak funkcja falowa. Znając funkcję falową układu w dowolnym momencie, oraz działające siły, jesteśmy w stanie wyznaczyć stan układu w dowolnym czasie. Funkcja falowa przekłada się oczywiście na wszelkie inne informacje np. prawdopodobieństwo znalezienia cząstki w danym stanie.\n",
    "\n",
    "Są jednak zagadnienia, które z natury mają charakter statystyczny. W niektórych przypadkach nie umiemy opisać rzeczywistości i wyprowadzić rozkładu statytycznego z bardziej pierwotnych zasad. Czasami świadomie wybieramy fenemenologiczną drogę, ponieważ rozwiązanie problemu jest zbyt czasochłonne lub nie jest potrzebne. W przypadku fenemenologicznego opisu bazujemy na obserwacjach, na ich podstawie tworzymy model (np. opisując statystyczny rozkład jakiegoś parametru funkcją). W przypadku tego podejścia nie wiemy do końca jaki powinien być rozkład (czasami możemy mieć pewne przesłanki, ograniczenia itp.), więc jego wyboru musimy dokonać na podstawie wnioskowania statystycznego poprzez porównanie zaproponowanych modeli.\n"
   ]
  },
  {
   "cell_type": "markdown",
   "id": "bfe8962e",
   "metadata": {},
   "source": [
    "Spróbujmy wygenerować dane ze znanego nam rozkładu, a potem porównać wyniki dopasowania różnych rozkładów i na tej podstawie dokonać wyboru modelu.\n",
    "\n",
    "W Julii biblioteka [Distributions](https://juliastats.org/Distributions.jl/stable/) zawiera bardzo bogatą kolekcję rozkładów prawdopodobieństwa i związanych z nimi narzędzi."
   ]
  },
  {
   "cell_type": "code",
   "execution_count": null,
   "id": "3e36b5a0",
   "metadata": {},
   "outputs": [],
   "source": [
    "using Distributions\n",
    "using Random\n",
    "using StatsBase\n",
    "using GRUtils\n",
    "\n",
    "Random.seed!(1501)\n",
    "data = rand(Gamma(10.0, 2.0), 500)"
   ]
  },
  {
   "cell_type": "markdown",
   "id": "4b045321",
   "metadata": {},
   "source": [
    "Zanim przejdziemy do opisywania wyników rozkładami, powinniśmy utworzyć z nich funkcję gęstości prawdopodobieństwa. Nasze histogramy do tej pory zawierały liczbę zliczeń w danym przedziale, zmieniając szerokość przedziału binowania zmieniamy kształt krzywej.\n"
   ]
  },
  {
   "cell_type": "code",
   "execution_count": null,
   "id": "0c3aea88",
   "metadata": {},
   "outputs": [],
   "source": [
    "Figure((800, 600), \"pix\")\n",
    "h1 = fit(Histogram, data, 0:0.5:50)\n",
    "stairs(h1.edges[1][1:end-1], h1.weights)\n",
    "hold(true)\n",
    "\n",
    "h2 = fit(Histogram, data, 0:1:50)\n",
    "stairs(h2.edges[1][1:end-1], h2.weights)\n",
    "\n",
    "h3 = fit(Histogram, data, 0:2:50)\n",
    "stairs(h3.edges[1][1:end-1], h3.weights)"
   ]
  },
  {
   "cell_type": "markdown",
   "id": "51d8b947",
   "metadata": {},
   "source": [
    "Aby temu zapobiec musimy stworzyć rozkład gęstości: podzielić każdy bin przez sumę zdarzeń oraz przez szerokość binu. W naszym przypadku wszystkie są tej samej szerokości więc łatwo zrobić tę operację ręcznie. W bardziej ogólnym przydku gdy biny mogą mieć różną szerokość można użyć funkcji `normalize` z biblioteki LinearAlgebra"
   ]
  },
  {
   "cell_type": "code",
   "execution_count": null,
   "id": "d7edd4c2",
   "metadata": {},
   "outputs": [],
   "source": [
    "using LinearAlgebra\n",
    "\n",
    "hold(false)\n",
    "h1 = fit(Histogram, data, 0:0.5:50)\n",
    "h1 = normalize(h1, mode=:pdf)\n",
    "stairs(h1.edges[1][1:end-1], h1.weights)\n",
    "hold(true)\n",
    "h2 = fit(Histogram, data, 0:1:50)\n",
    "h2 = normalize(h2, mode=:pdf)\n",
    "stairs(h2.edges[1][1:end-1], h2.weights)\n",
    "h3 = fit(Histogram, data, 0:2:50)\n",
    "h3 = normalize(h3, mode=:pdf)\n",
    "stairs(h3.edges[1][1:end-1], h3.weights)"
   ]
  },
  {
   "cell_type": "markdown",
   "id": "b2780347",
   "metadata": {},
   "source": [
    "Tak przygotowane dane możemy porównywać z funkcjami `pdf`. Zaczniemy od dopasowania metodą najmniejszych kwadratów. Spróbujemy opisać dane za pomocą rozkładu normalnego, gamma i Cauchy'ego "
   ]
  },
  {
   "cell_type": "code",
   "execution_count": null,
   "id": "3fc2b2c7",
   "metadata": {},
   "outputs": [],
   "source": [
    "using LsqFit\n",
    "\n",
    "Figure((800, 600), \"pix\")\n",
    "h = fit(Histogram, data, 0:1:50)\n",
    "hn = normalize(h, mode=:pdf)\n",
    "plot(hn.edges[1][1:end-1], hn.weights, \"o\")\n",
    "hold(true)\n",
    "\n",
    "n(x, p) = pdf.(Normal(p...), x)\n",
    "c(x, p) = pdf.(Cauchy(p...), x)\n",
    "g(x, p) = pdf.(Gamma(p...), x)\n",
    "\n",
    "fn = curve_fit(n, hn.edges[1][1:end-1], hn.weights, [10.0, 1.0])\n",
    "xf = 0:0.1:50\n",
    "plot(xf, n(xf, fn.param), \"-\")\n",
    "\n",
    "fc = curve_fit(c, hn.edges[1][1:end-1], hn.weights, [10.0, 1.0])\n",
    "plot(xf, c(xf, fc.param), \"-\")\n",
    "\n",
    "fg = curve_fit(g, hn.edges[1][1:end-1], hn.weights, [10.0, 1.0])\n",
    "plot(xf, g(xf, fg.param), \"-\")\n",
    "\n",
    "legend(\"Data\", \"Normal\", \"Cauchy\", \"Gamma\")\n",
    "hold(false)\n",
    "display(gcf())"
   ]
  },
  {
   "cell_type": "markdown",
   "id": "b52b8f6d",
   "metadata": {},
   "source": [
    "Jak wybrać najlepszy model? W fizyce często automatycznie (i bez zastanowienia) posługujemy się testem Chi-kwadrat. Ten test można znaleźć w bibliotece `HypothesisTests`. Ze względu na jego konstrukcję można go stosować gdy porównujemy liczbę obserwowanych przypadków w pewnych kategoriach z modelem przewidującym prawdopodobieństwo ich zajścia. \n",
    "\n",
    "Wykonując test porównamy liczby zliczeń dla komórek histogramu (uwaga - nie gęstość prawdopodobieństwa!), z gęstością wyznaczoną w modelach. Ta ostatnia wielkość powinna sumować się do jedności, ale ze względu na dyskretne przedziały, ucięcia zakresu i zaokrąglenia nie jest to koniecznie prawdą. Dlatego musimy znormalizować ten parametr."
   ]
  },
  {
   "cell_type": "code",
   "execution_count": null,
   "id": "152e2e94",
   "metadata": {},
   "outputs": [],
   "source": [
    "using HypothesisTests\n",
    "using Printf\n",
    "\n",
    "h = fit(Histogram, data, 0:1:50)\n",
    "\n",
    "chin = ChisqTest(h.weights, normalize(n(h.edges[1][1:end-1].+0.5, fn.param), 1));\n",
    "chic = ChisqTest(h.weights, normalize(c(h.edges[1][1:end-1].+0.5, fc.param), 1));\n",
    "chig = ChisqTest(h.weights, normalize(g(h.edges[1][1:end-1].+0.5, fg.param), 1));\n",
    "\n",
    "println(chic)\n",
    "println(\"Χ² (normal) = \", @sprintf(\"%.2f\", chin.stat))\n",
    "println(\"Χ² (Cauchy) = \", @sprintf(\"%.2f\", chic.stat))\n",
    "println(\"Χ² (gamma) = \", @sprintf(\"%.2f\", chig.stat))\n"
   ]
  },
  {
   "cell_type": "markdown",
   "id": "50116398",
   "metadata": {},
   "source": [
    " Dopasowywanie metodą najmniejszych kwadratów i test $\\chi^2$ to oczywiście nie jedyna metoda wyboru modelu. \n",
    " \n",
    " Inną techniką wyboru parametrów rozkładu jest metoda największej wiarygodności, która polega na maksymalizacji funkcji wiarygodności - w pojedynczym przypadku obserwacji danej próby, dla wielu prób będzie to iloczyn prawdopodobieństw (stąd często wykorzystywany jest logarytm funkcji wiarygodności).\n",
    " \n",
    "Biblioteka `Distributions` posiada funkcję `fit`, która zwróci nam najbardziej prawdopodobne parametry rozkładu znalezione metodą największej wiarygodności (zwykle, można wymusić stosując `fit_mle`, ale nie każdy rozkład jest zaimplementowany w procedurze maksymalizacji)."
   ]
  },
  {
   "cell_type": "code",
   "execution_count": null,
   "id": "dd5b2d4e",
   "metadata": {},
   "outputs": [],
   "source": [
    "pn = params(fit_mle(Normal, data))\n",
    "pc = params(fit(Cauchy, data))\n",
    "pg = params(fit_mle(Gamma, data))"
   ]
  },
  {
   "cell_type": "code",
   "execution_count": null,
   "id": "1095c807",
   "metadata": {},
   "outputs": [],
   "source": [
    "plot(hn.edges[1][1:end-1], hn.weights, \"o\")\n",
    "hold(true)\n",
    "\n",
    "xf = 0:0.1:50\n",
    "plot(xf, n(xf, pn), \"-\")\n",
    "plot(xf, c(xf, pc), \"-\")\n",
    "plot(xf, g(xf, pg), \"-\")\n",
    "\n",
    "legend(\"Data\", \"Normal\", \"Cauchy\", \"Gamma\")\n",
    "hold(false)\n",
    "display(gcf())\n",
    "\n",
    "chin = ChisqTest(h.weights, normalize(n(h.edges[1][1:end-1].+0.5, pn), 1));\n",
    "chic = ChisqTest(h.weights, normalize(c(h.edges[1][1:end-1].+0.5, pc), 1));\n",
    "chig = ChisqTest(h.weights, normalize(g(h.edges[1][1:end-1].+0.5, pg), 1));\n",
    "\n",
    "println(\"Χ² (normal) = \", @sprintf(\"%.2f\", chin.stat))\n",
    "println(\"Χ² (Cauchy) = \", @sprintf(\"%.2f\", chic.stat))\n",
    "println(\"Χ² (gamma) = \", @sprintf(\"%.2f\", chig.stat))\n"
   ]
  },
  {
   "cell_type": "markdown",
   "id": "3d779b47",
   "metadata": {},
   "source": [
    "Inną ciekawą obserwacją jest fakt, że metoda najmniejszych kwadratów nie minimalizuje $\\chi^2$ i wynik z metody największej wiarygodności jest inny (szczególnie dla rozkładu normalnego). Korzystając z kryterium $\\chi^2$ moglibyśmy wybrać model Cauchy'ego jako najlepszy w tym przypadku, a Gamma jest zdecydowanie najgorszy.\n",
    "\n",
    "Zanim przejdziemy do innej metody wyboru modelu, narysujemy jak wygląda funkcja wiarygodności dla badanych rozkładów. Wygodny do stosowania jest logarytm tej funkcji. Dla dowolnego rozkładu można ją policzyć w następujący sposób"
   ]
  },
  {
   "cell_type": "code",
   "execution_count": null,
   "id": "881f0154",
   "metadata": {},
   "outputs": [],
   "source": [
    "function llike(dist, x, pars)\n",
    "    ll = 0\n",
    "    for xi in x\n",
    "        ll += logpdf(dist(pars...), xi)\n",
    "    end\n",
    "    if ll == Inf || ll == -Inf\n",
    "        return prevfloat(typemax(Float64))\n",
    "    end\n",
    "    return -ll\n",
    "end"
   ]
  },
  {
   "cell_type": "markdown",
   "id": "ad3213e1",
   "metadata": {},
   "source": [
    "Funkcja `logpdf` liczy logarytm rozkładu gęstości prawdopodobieństwa. Jeżeli wartość funkcji wyjdzie nam Inf (na przykład dla pdf = 0), to zamieniamy ją na najbliższą liczbę Float64 (czyli bardzo dużą). Wreszcie zwracamy minus wartość ponieważ zwykle procedury znajdują minimum, a nie maksimum.\n",
    "\n",
    "Wykorzystamy tę funkcję do stworzenia mapy wartości wiarygodności."
   ]
  },
  {
   "cell_type": "code",
   "execution_count": null,
   "id": "283d95e9",
   "metadata": {},
   "outputs": [],
   "source": [
    "m = LinRange(0.1, 30, 64) |> collect\n",
    "s = LinRange(0.1, 10, 64) |> collect\n",
    "yn = zeros(size(m)[1], size(s)[1])\n",
    "yc = zeros(size(m)[1], size(s)[1])\n",
    "yg = zeros(size(m)[1], size(s)[1])\n",
    "\n",
    "for j in 1:size(s)[1]\n",
    "    for i in 1:size(m)[1]\n",
    "        yn[i, j] = llike(Normal, data, [m[i], s[j]])\n",
    "        yc[i, j] = llike(Cauchy, data, [m[i], s[j]])\n",
    "        yg[i, j] = llike(Gamma, data, [m[i], s[j]])\n",
    "    end\n",
    "end\n",
    "\n",
    "yn = yn .- minimum(yn)\n",
    "yc = yc .- minimum(yc)\n",
    "yg = yg .- minimum(yg)\n",
    "\n",
    "z = [0; 1; 2; LinRange(5, 1000, 7)]\n",
    "colormap(\"terrain\")\n",
    "\n",
    "Figure((800, 1200), \"pix\")\n",
    "subplot(3, 1, 1)\n",
    "contourf(s, m, yn, z)\n",
    "oplot([pn[2]], [pn[1]], \"ro\")\n",
    "oplot([fn.param[2]], [fn.param[1]], \"rx\")\n",
    "\n",
    "subplot(3, 1, 2)\n",
    "contourf(s, m, yc, z)\n",
    "oplot([pc[2]], [pc[1]], \"ro\")\n",
    "oplot([fc.param[2]], [fc.param[1]], \"rx\")\n",
    "\n",
    "subplot(3, 1, 3)\n",
    "contourf(s, m, yg, z)\n",
    "oplot([pg[2]], [pg[1]], \"ro\")\n",
    "oplot([fg.param[2]], [fg.param[1]], \"rx\")\n",
    "\n",
    "display(gcf())\n"
   ]
  },
  {
   "cell_type": "markdown",
   "id": "9715a260",
   "metadata": {},
   "source": [
    "W przedstawionym zakresie każdy rozkład posiada wyraźne minimum. Miejsce gdzie różnica między minimum wynosi 1 (pierwsza poziomica), pozwala na wyznaczenie niepewności danego parametru. W przypadku rozkładu normalnego i Cauchy nie widać między parametrami korelacji, więc mamy poziome elipsy. Dla rozkładu gamma parametry są silnie skorelowane i minimum tworzy długi wąski wąwóz."
   ]
  },
  {
   "cell_type": "markdown",
   "id": "440e5644",
   "metadata": {},
   "source": [
    "Problem wyboru modelu jest jednym z najtrudniejszych zagadnień statystyki. W latach 70-tych Hir.. Akaike sformuował powszechnie obecnie stosowane kryterium oparte o teorię informacji. Każdy model jest tylko przybliżeniem i pewne informacje zostaną w nim utracone. Miara tego ile informacji została stracona może być wykorzystana do wyboru modelu: ten, który zachowa jej najwięcej zostanie wybrany jako najlepszy. Wzór jest następujący\n",
    "$$\n",
    "AIC = 2k - 2\\ln\\hat{L}\n",
    "$$\n",
    "gdzie $k$ to liczba parametrów modelu, a $\\hat{L}$ to maksimum funkcji wiarygodności.\n",
    "\n",
    "Kryterium ma jedynie sens porównywania względnego modeli. Wielkość\n",
    "$$\n",
    "exp\\left((AIC_{min} - AIC_i) / 2\\right)\n",
    "$$\n",
    "określa prawdopodobieństwo, że model $i$ zminimalizuje utratę informacji w porównaniu do najlepszego modelu.\n",
    "\n",
    "W naszym przypadku $2k = 4$ dla wszystkich modeli, a funkcja `llike` zwraca wynik ze znakiem minus, więc porównujemy następujące wyrażenia"
   ]
  },
  {
   "cell_type": "code",
   "execution_count": null,
   "id": "0e95f7fa",
   "metadata": {},
   "outputs": [],
   "source": [
    "aic_n = 4 + 2 * llike(Normal, data, pn)\n",
    "aic_c = 4 + 2 * llike(Cauchy, data, pc)\n",
    "aic_g = 4 + 2 * llike(Gamma, data, pg)\n",
    "\n",
    "bestaic = min(aic_n, aic_c, aic_g)\n",
    "println(\"ΔAIC Normal = \", aic_n - bestaic)\n",
    "println(\"ΔAIC Cauchy = \", aic_c - bestaic)\n",
    "println(\"ΔAIC Gamma = \", aic_g - bestaic)"
   ]
  },
  {
   "cell_type": "code",
   "execution_count": null,
   "id": "439bda74",
   "metadata": {},
   "outputs": [],
   "source": [
    "@printf(\"P cauchy %.3e \\n\", exp((aic_g - aic_c) / 2))\n",
    "@printf(\"P normal %.3e \\n\", exp((aic_n - aic_c) / 2))"
   ]
  },
  {
   "cell_type": "markdown",
   "id": "dd2406c5",
   "metadata": {},
   "source": [
    "Nie mamy wątpliwości, że kryterium AIC wskazuje na model Gamma! \n",
    "\n",
    "Oczywiście wyniki będą zależeć od danej próby i od jej rozmiaru. Możemy zbadać skuteczność metody wyboru modelu opartą o chi-kwadrat oraz o AIC dla wielu próbek i sprawdzić jak skuteczność ($\\varepsilon$) zależy od ich rozmiaru ($N$)."
   ]
  },
  {
   "attachments": {
    "kryteria.jpg": {
     "image/jpeg": "[encoded data removed]"
    }
   },
   "cell_type": "markdown",
   "id": "f04503fb",
   "metadata": {},
   "source": [
    "![kryteria.jpg](attachment:kryteria.jpg)"
   ]
  },
  {
   "cell_type": "markdown",
   "id": "a2bdc3fc",
   "metadata": {},
   "source": [
    "Jeżeli przyjrzymy się dokładniej źródle problemów z metodą opartą o dopasowanie, okaże się, że problem powstaje jeżeli mamy zdarzenia w ogonie rozkładu. Metoda oparta o najmniejsze kwadraty jest mało czuła na takie przypadki, ponieważ jest ich zawsze niewiele. W wartościach bezwzględnych różnica jest mała i bardziej \"opłaca\" się dobrać parametry rozkładu do najbardziej prawdopodobnych wartości. Tymczasem w metodzie MLE mało prawdopodobne zdarzenia z ogona może mieć duże znaczenie dla parametrów, bo przy ich innym doborze prawdopodobieństwo jego zajścia gwałtownie (eksponencjalnie) maleje i \"opłaca\" się tak dobrać parametry by zachować sensowne prawdopodobieństwo ich pojawienia się. "
   ]
  },
  {
   "cell_type": "code",
   "execution_count": null,
   "id": "2a1e93a3",
   "metadata": {},
   "outputs": [],
   "source": [
    "Random.seed!(103)\n",
    "data = rand(Gamma(10.0, 2.0), 1000)\n",
    "\n",
    "Figure((800, 1200), \"pix\")\n",
    "h = fit(Histogram, data, nbins=50)\n",
    "hn = normalize(h, mode=:pdf)\n",
    "\n",
    "subplot(3, 1, 1)\n",
    "plot(hn.edges[1][1:end-1], hn.weights, \"o\")\n",
    "hold(true)\n",
    "\n",
    "xf = h.edges[1][1]:0.1:h.edges[1][end]\n",
    "println()\n",
    "fg = curve_fit(g, hn.edges[1][1:end-1], hn.weights, [10.0, 1.0])\n",
    "plot(xf, g(xf, fg.param), \"g-\")\n",
    "\n",
    "pg = params(fit_mle(Gamma, data))\n",
    "plot(xf, g(xf, pg), \"r--\")\n",
    "\n",
    "ylog(true)\n",
    "ylim(5e-4, 1e-1)\n",
    "\n",
    "subplot(3, 1, 2)\n",
    "plot(hn.edges[1][1:end-1], hn.weights - g(hn.edges[1][1:end-1], fg.param), \"bo\", markersize=0.5)\n",
    "hold(true)\n",
    "plot(hn.edges[1][1:end-1], hn.weights - g(hn.edges[1][1:end-1], pg), \"rs\", markersize=0.5)\n",
    "ylim(-0.02, 0.02)\n",
    "\n",
    "subplot(3, 1, 3)\n",
    "plot(hn.edges[1][1:end-1], (hn.weights - g(hn.edges[1][1:end-1], fg.param)) ./ g(hn.edges[1][1:end-1], fg.param), \"bo\", markersize=0.5)\n",
    "hold(true)\n",
    "plot(hn.edges[1][1:end-1], (hn.weights - g(hn.edges[1][1:end-1], pg)) ./ g(hn.edges[1][1:end-1], pg), \"rs\", markersize=0.5)\n",
    "ylim(-5, 5)\n",
    "\n",
    "display(gcf())\n"
   ]
  },
  {
   "cell_type": "markdown",
   "id": "8ad0ea62",
   "metadata": {},
   "source": [
    "## Zadanie\n",
    "\n",
    "Korzystając z bazy NASA Power przeanalizować rozkład prędkości wiatru na wysokości 10 m. Dane powinny dotyczyć co najmniej 10 lat.\n",
    "\n",
    "Z biblioteki [Distributions](https://juliastats.org/Distributions.jl/stable/) wybrać modele, które przypominają uzyskany rozkład. Wybrać najlepszy model korzystając z kryterium Akaike i za pomocą dopasowania rozkładu.\n",
    "\n",
    "Wyniki porównać z najczęściej stosowanymi modelami\n",
    "https://www.sciencedirect.com/science/article/abs/pii/S1364032119304988"
   ]
  },
  {
   "cell_type": "code",
   "execution_count": null,
   "id": "080434f7",
   "metadata": {},
   "outputs": [],
   "source": [
    "using DataFrames\n",
    "using CSV\n",
    "df = DataFrame(CSV.File(\"wind.csv\", header=15, delim=\",\", ignorerepeated=true))"
   ]
  },
  {
   "cell_type": "markdown",
   "id": "61c2d42e",
   "metadata": {},
   "source": [
    "Innym zagadnieniem jakie możemy napotkać to testowanie czy dane próby są ze sobą zgodne (czy pochodzą z tego samego rozkładu). Procedura jest następująca\n",
    "1. Stawiamy hipotezę zerową (np. dane pochodzą z tego samego rozkładu),\n",
    "2. Wybieramy test, który bazuje na jakiejś statystyce (np. test K-S wyznacza maksimum różnic dystrybuanty)\n",
    "3. Ustalamy poziom istotności - np. uznajemy, że przyjmujemy, że jeżeli wyliczone prawdodobieństwo, że dane są z tego samego rozkładu jest poniżej 5% to odrzucamy hipotezę, ewentualnie narażając się na popełnienie błędu pierwszego rodzaju - odrzucenie poprawnej hipotezy. \n",
    "4. Przeprowadzamy wybrany test\n",
    "\n",
    "W naszym przypadku, jeżeli chodzi o dane dotyczące wiatru, możemy:\n",
    "* stawiamy hipotezę, że nie ma różnic pomiędzy rozkładem wiatru dla różnych pór roku\n",
    "* ze względu na zmiany klimatu, czy rozkład różni się dla najwcześniejszych i najpóźniejszych lat\n",
    "\n",
    "Biblioteka `HyptothesisTests` zawiera kolekcje testów. Jedne z najbardziej popularnych, które możemy użyc w naszej sytuacji to:\n",
    "* test Kołmogorowa-Smirnowa\n",
    "* test Andersona-Darlinga\n",
    "\n",
    "Obydwa testy występują w wersjach dla jednej próby (tzn. przy teście czy dana populacja pochodzi z danego teoretycznego rozkładu) oraz dla dwóch prób (przy teście pochodzenia populacji z tego samego rozkładu, test A-D może mieć w ogólności $k$ prób).\n",
    "\n",
    "Przetestujmy nasze hipotezy przy poziomie istotności 5%."
   ]
  },
  {
   "cell_type": "code",
   "execution_count": null,
   "id": "d9593481",
   "metadata": {},
   "outputs": [],
   "source": [
    "ApproximateTwoSampleKSTest(df[in.(df.MO, Ref([12, 1, 2, 3])), :].WS2M, df[in.(df.MO, Ref([4, 5, 6, 7])), :].WS2M)\n"
   ]
  },
  {
   "cell_type": "code",
   "execution_count": null,
   "id": "344b97b1",
   "metadata": {},
   "outputs": [],
   "source": [
    "ApproximateTwoSampleKSTest(df[(2000 .<= df.YEAR .<= 2003), :].WS2M, df[(2018 .<= df.YEAR .<= 2021), :].WS2M)"
   ]
  },
  {
   "cell_type": "code",
   "execution_count": null,
   "id": "56c8d96d",
   "metadata": {},
   "outputs": [],
   "source": [
    "KSampleADTest(df[in.(df.MO, Ref([12, 1, 2, 3])), :].WS2M, df[in.(df.MO, Ref([4, 5, 6, 7])), :].WS2M)"
   ]
  },
  {
   "cell_type": "code",
   "execution_count": null,
   "id": "e99df56a",
   "metadata": {},
   "outputs": [],
   "source": [
    "KSampleADTest(df[(2000 .<= df.YEAR .<= 2003), :].WS2M, df[(2018 .<= df.YEAR .<= 2021), :].WS2M)"
   ]
  },
  {
   "cell_type": "markdown",
   "id": "63b92951",
   "metadata": {},
   "source": [
    "O ile więc nie mamy podstaw do odrzucenia hipotezy, że rozkład wiatru zmienił się w latach 2018-2021 w stosunku do 2000-2003, to oba testy zdecodywanie odrzucają hipotezę o stałości rozkładu wiatru w ramach roku. Możemy sprawdzić jak wyglądają rozkłady na histrogramach."
   ]
  },
  {
   "cell_type": "code",
   "execution_count": null,
   "id": "6bb2f7c7",
   "metadata": {},
   "outputs": [],
   "source": [
    "h1 = fit(Histogram, df[in.(df.MO, Ref([12, 1, 2, 3])), :].WS2M, 0:0.1:10)\n",
    "h2 = fit(Histogram, df[in.(df.MO, Ref([4, 5, 6, 7])), :].WS2M, 0:0.1:10) \n",
    "h3 = fit(Histogram, df[(2000 .<= df.YEAR .<= 2003), :].WS2M, 0:0.1:10)\n",
    "h4 = fit(Histogram, df[(2018 .<= df.YEAR .<= 2021), :].WS2M, 0:0.1:10)\n",
    "\n",
    "Figure((800, 800), \"pix\")\n",
    "subplot(2, 1, 1)\n",
    "plot(h1.edges[1][1:end-1], h1.weights, \"o\", markersize=0.5)\n",
    "hold(true)\n",
    "plot(h2.edges[1][1:end-1], h2.weights, \"s\", markersize=0.5)\n",
    "legend(\"Zima\", \"Wiosna\")\n",
    "\n",
    "subplot(2, 1, 2)\n",
    "plot(h3.edges[1][1:end-1], h3.weights, \"v\", markersize=0.5)\n",
    "hold(true)\n",
    "plot(h4.edges[1][1:end-1], h4.weights, \"^\", markersize=0.5)\n",
    "legend(\"2000-2003\", \"2018-2021\")\n",
    "\n",
    "display(gcf())\n"
   ]
  },
  {
   "cell_type": "markdown",
   "id": "8ec410af",
   "metadata": {},
   "source": [
    "## Zadanie\n",
    "\n",
    "Przetestować hipotezy o:\n",
    "* stałości rozkładu temperatury (porównać wybrane przedziały lat)\n",
    "* stałości rozkładu wiatru dla 4 pór roku (parami)"
   ]
  },
  {
   "cell_type": "code",
   "execution_count": null,
   "id": "4b56a834",
   "metadata": {},
   "outputs": [],
   "source": []
  }
 ],
 "metadata": {
  "kernelspec": {
   "display_name": "Julia 1.7.2",
   "language": "julia",
   "name": "julia-1.7"
  },
  "language_info": {
   "file_extension": ".jl",
   "mimetype": "application/julia",
   "name": "julia",
   "version": "1.7.3"
  }
 },
 "nbformat": 4,
 "nbformat_minor": 5
}
